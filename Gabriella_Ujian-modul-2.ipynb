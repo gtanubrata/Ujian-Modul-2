{
 "cells": [
  {
   "cell_type": "markdown",
   "metadata": {},
   "source": [
    "# Ujian Modul 2 - Purwadhika Data Science JC Program\n",
    "\n",
    "## Context - Taken from Kaggle\n",
    "Did you know that claims can be filed against TSA? Sometimes US Terminal Security Agency (TSA) makes mistakes. People can get hurt and property can be damaged, lost, or stolen. Claims are generally filed against TSA for personal injuries and lost or damaged property during screenings and they keep records of every claim!\n",
    "\n",
    "### Content\n",
    "The dataset includes claims filed between 2002 through 2015.\n",
    "\n",
    "1. Claim Number\n",
    "1. Date Received\n",
    "1. Incident Date\n",
    "1. Airport Code\n",
    "1. Airport Name\n",
    "1. Airline Name\n",
    "1. Claim Type\n",
    "1. Claim Site\n",
    "1. Item\n",
    "1. Claim Amount\n",
    "1. Status\n",
    "1. Close Amount\n",
    "1. Disposition\n",
    "\n",
    "This data is coming from the Kaggle Dataset that contain the data of clain the been filed into the TSA. We would try to explore the data and clean the data partially (we would not clean and analyze everything as it would take more time than necessary) and we would only use 25% data from the original dataset.\n",
    "\n",
    "This exam scoring would be explained below:\n",
    "\n",
    "- This Notebook would have total score of 80 (+ 10 Bonus POINT for Bonus Question), which consist of:\n",
    "    - 40 POINT for the Question part (10 point for each question)\n",
    "    - 40 POINT for the preprocessing part by following the guide\n",
    "- The Dashboard would yield 20 POINT\n",
    "- The Maximum Score would be still 100, Bonus Question is just a Bonus. Work it if you have an extra time and already sure about all your other answer (or not sure about the other question, and need this bonus question to help)\n",
    "\n",
    "When you finish, upload your notebook contain all the answers and the script for the dashboard to your github. You do not need to upload the .csv file. "
   ]
  },
  {
   "cell_type": "markdown",
   "metadata": {},
   "source": [
    "Try to read the data and show all the important info first. For starter, try to understand what each column represent."
   ]
  },
  {
   "cell_type": "code",
   "execution_count": 343,
   "metadata": {
    "ExecuteTime": {
     "end_time": "2020-04-24T06:03:02.053222Z",
     "start_time": "2020-04-24T06:03:02.044226Z"
    }
   },
   "outputs": [],
   "source": [
    "import pandas as pd\n",
    "import numpy as np\n",
    "import matplotlib.pyplot as plt\n",
    "\n",
    "%matplotlib inline\n",
    "\n",
    "import seaborn as sns\n",
    "import plotly.express as px\n",
    "\n",
    "import re"
   ]
  },
  {
   "cell_type": "code",
   "execution_count": 344,
   "metadata": {
    "ExecuteTime": {
     "end_time": "2020-04-24T06:03:02.376021Z",
     "start_time": "2020-04-24T06:03:02.055220Z"
    }
   },
   "outputs": [],
   "source": [
    "data = pd.read_csv('tsa_claims_ujian.csv')"
   ]
  },
  {
   "cell_type": "code",
   "execution_count": 345,
   "metadata": {
    "ExecuteTime": {
     "end_time": "2020-04-24T06:03:02.396008Z",
     "start_time": "2020-04-24T06:03:02.378018Z"
    }
   },
   "outputs": [
    {
     "data": {
      "text/html": [
       "<div>\n",
       "<style scoped>\n",
       "    .dataframe tbody tr th:only-of-type {\n",
       "        vertical-align: middle;\n",
       "    }\n",
       "\n",
       "    .dataframe tbody tr th {\n",
       "        vertical-align: top;\n",
       "    }\n",
       "\n",
       "    .dataframe thead th {\n",
       "        text-align: right;\n",
       "    }\n",
       "</style>\n",
       "<table border=\"1\" class=\"dataframe\">\n",
       "  <thead>\n",
       "    <tr style=\"text-align: right;\">\n",
       "      <th></th>\n",
       "      <th>Claim Number</th>\n",
       "      <th>Date Received</th>\n",
       "      <th>Incident Date</th>\n",
       "      <th>Airport Code</th>\n",
       "      <th>Airport Name</th>\n",
       "      <th>Airline Name</th>\n",
       "      <th>Claim Type</th>\n",
       "      <th>Claim Site</th>\n",
       "      <th>Item</th>\n",
       "      <th>Claim Amount</th>\n",
       "      <th>Status</th>\n",
       "      <th>Close Amount</th>\n",
       "      <th>Disposition</th>\n",
       "    </tr>\n",
       "  </thead>\n",
       "  <tbody>\n",
       "    <tr>\n",
       "      <th>0</th>\n",
       "      <td>0909816M</td>\n",
       "      <td>7-Feb-02</td>\n",
       "      <td>1/6/2003 0:00</td>\n",
       "      <td>MIA</td>\n",
       "      <td>Miami International Airport</td>\n",
       "      <td>American Airlines</td>\n",
       "      <td>Property Damage</td>\n",
       "      <td>Checkpoint</td>\n",
       "      <td>Luggage (all types including footlockers)</td>\n",
       "      <td>$50.00</td>\n",
       "      <td>Approved</td>\n",
       "      <td>$50.00</td>\n",
       "      <td>Approve in Full</td>\n",
       "    </tr>\n",
       "    <tr>\n",
       "      <th>1</th>\n",
       "      <td>14268</td>\n",
       "      <td>20-Jun-02</td>\n",
       "      <td>6/16/2002 0:00</td>\n",
       "      <td>PHX</td>\n",
       "      <td>Phoenix Sky Harbor International</td>\n",
       "      <td>NaN</td>\n",
       "      <td>Property Damage</td>\n",
       "      <td>Checkpoint</td>\n",
       "      <td>Computer - Laptop</td>\n",
       "      <td>$2;270.09</td>\n",
       "      <td>Canceled</td>\n",
       "      <td>NaN</td>\n",
       "      <td>NaN</td>\n",
       "    </tr>\n",
       "    <tr>\n",
       "      <th>2</th>\n",
       "      <td>15242</td>\n",
       "      <td>12-Jul-02</td>\n",
       "      <td>5/31/2002 0:00</td>\n",
       "      <td>BWI</td>\n",
       "      <td>Baltimore/Washington Intl Thurgood Marshall</td>\n",
       "      <td>American Airlines</td>\n",
       "      <td>NaN</td>\n",
       "      <td>Other</td>\n",
       "      <td>Luggage (all types including footlockers)</td>\n",
       "      <td>$200.00</td>\n",
       "      <td>Denied</td>\n",
       "      <td>$0.00</td>\n",
       "      <td>Deny</td>\n",
       "    </tr>\n",
       "    <tr>\n",
       "      <th>3</th>\n",
       "      <td>16759</td>\n",
       "      <td>21-Aug-02</td>\n",
       "      <td>7/12/2002 0:00</td>\n",
       "      <td>BWI</td>\n",
       "      <td>Baltimore/Washington Intl Thurgood Marshall</td>\n",
       "      <td>Southwest Airlines</td>\n",
       "      <td>Passenger Property Loss</td>\n",
       "      <td>Checkpoint</td>\n",
       "      <td>Other</td>\n",
       "      <td>$21.44</td>\n",
       "      <td>Approved</td>\n",
       "      <td>$21.00</td>\n",
       "      <td>Approve in Full</td>\n",
       "    </tr>\n",
       "    <tr>\n",
       "      <th>4</th>\n",
       "      <td>17846</td>\n",
       "      <td>9-Sep-02</td>\n",
       "      <td>8/30/2002 0:00</td>\n",
       "      <td>BOS</td>\n",
       "      <td>Boston (Logan) International Airport</td>\n",
       "      <td>NaN</td>\n",
       "      <td>Property Damage</td>\n",
       "      <td>Checkpoint</td>\n",
       "      <td>Luggage (all types including footlockers)</td>\n",
       "      <td>$1;832.22</td>\n",
       "      <td>Canceled</td>\n",
       "      <td>$0.00</td>\n",
       "      <td>NaN</td>\n",
       "    </tr>\n",
       "  </tbody>\n",
       "</table>\n",
       "</div>"
      ],
      "text/plain": [
       "  Claim Number Date Received   Incident Date Airport Code  \\\n",
       "0     0909816M      7-Feb-02   1/6/2003 0:00          MIA   \n",
       "1        14268     20-Jun-02  6/16/2002 0:00          PHX   \n",
       "2        15242     12-Jul-02  5/31/2002 0:00          BWI   \n",
       "3        16759     21-Aug-02  7/12/2002 0:00          BWI   \n",
       "4        17846      9-Sep-02  8/30/2002 0:00          BOS   \n",
       "\n",
       "                                  Airport Name        Airline Name  \\\n",
       "0                  Miami International Airport   American Airlines   \n",
       "1             Phoenix Sky Harbor International                 NaN   \n",
       "2  Baltimore/Washington Intl Thurgood Marshall   American Airlines   \n",
       "3  Baltimore/Washington Intl Thurgood Marshall  Southwest Airlines   \n",
       "4         Boston (Logan) International Airport                 NaN   \n",
       "\n",
       "                Claim Type  Claim Site  \\\n",
       "0          Property Damage  Checkpoint   \n",
       "1          Property Damage  Checkpoint   \n",
       "2                      NaN       Other   \n",
       "3  Passenger Property Loss  Checkpoint   \n",
       "4          Property Damage  Checkpoint   \n",
       "\n",
       "                                        Item Claim Amount    Status  \\\n",
       "0  Luggage (all types including footlockers)      $50.00   Approved   \n",
       "1                          Computer - Laptop   $2;270.09   Canceled   \n",
       "2  Luggage (all types including footlockers)     $200.00     Denied   \n",
       "3                                      Other      $21.44   Approved   \n",
       "4  Luggage (all types including footlockers)   $1;832.22   Canceled   \n",
       "\n",
       "  Close Amount      Disposition  \n",
       "0      $50.00   Approve in Full  \n",
       "1          NaN              NaN  \n",
       "2       $0.00              Deny  \n",
       "3      $21.00   Approve in Full  \n",
       "4       $0.00               NaN  "
      ]
     },
     "execution_count": 345,
     "metadata": {},
     "output_type": "execute_result"
    }
   ],
   "source": [
    "data.head()"
   ]
  },
  {
   "cell_type": "code",
   "execution_count": 346,
   "metadata": {
    "ExecuteTime": {
     "end_time": "2020-04-24T06:03:02.544476Z",
     "start_time": "2020-04-24T06:03:02.398006Z"
    }
   },
   "outputs": [
    {
     "data": {
      "text/html": [
       "<div>\n",
       "<style scoped>\n",
       "    .dataframe tbody tr th:only-of-type {\n",
       "        vertical-align: middle;\n",
       "    }\n",
       "\n",
       "    .dataframe tbody tr th {\n",
       "        vertical-align: top;\n",
       "    }\n",
       "\n",
       "    .dataframe thead th {\n",
       "        text-align: right;\n",
       "    }\n",
       "</style>\n",
       "<table border=\"1\" class=\"dataframe\">\n",
       "  <thead>\n",
       "    <tr style=\"text-align: right;\">\n",
       "      <th></th>\n",
       "      <th>Claim Number</th>\n",
       "      <th>Date Received</th>\n",
       "      <th>Incident Date</th>\n",
       "      <th>Airport Code</th>\n",
       "      <th>Airport Name</th>\n",
       "      <th>Airline Name</th>\n",
       "      <th>Claim Type</th>\n",
       "      <th>Claim Site</th>\n",
       "      <th>Item</th>\n",
       "      <th>Claim Amount</th>\n",
       "      <th>Status</th>\n",
       "      <th>Close Amount</th>\n",
       "      <th>Disposition</th>\n",
       "    </tr>\n",
       "  </thead>\n",
       "  <tbody>\n",
       "    <tr>\n",
       "      <th>51061</th>\n",
       "      <td>2015110926685</td>\n",
       "      <td>22-Oct-15</td>\n",
       "      <td>19-Oct-15</td>\n",
       "      <td>-</td>\n",
       "      <td>-</td>\n",
       "      <td>-</td>\n",
       "      <td>Property Damage</td>\n",
       "      <td>Checked Baggage</td>\n",
       "      <td>Baggage/Cases/Purses</td>\n",
       "      <td>-</td>\n",
       "      <td>-</td>\n",
       "      <td>NaN</td>\n",
       "      <td>NaN</td>\n",
       "    </tr>\n",
       "    <tr>\n",
       "      <th>51062</th>\n",
       "      <td>2015110226479</td>\n",
       "      <td>2-Nov-15</td>\n",
       "      <td>2-Nov-15</td>\n",
       "      <td>-</td>\n",
       "      <td>-</td>\n",
       "      <td>-</td>\n",
       "      <td>Passenger Property Loss</td>\n",
       "      <td>Checkpoint</td>\n",
       "      <td>Books; Magazines &amp; Other</td>\n",
       "      <td>-</td>\n",
       "      <td>-</td>\n",
       "      <td>NaN</td>\n",
       "      <td>NaN</td>\n",
       "    </tr>\n",
       "    <tr>\n",
       "      <th>51063</th>\n",
       "      <td>2015120727336</td>\n",
       "      <td>16-Nov-15</td>\n",
       "      <td>14-Sep-15</td>\n",
       "      <td>-</td>\n",
       "      <td>-</td>\n",
       "      <td>American Airlines</td>\n",
       "      <td>Passenger Property Loss</td>\n",
       "      <td>Checked Baggage</td>\n",
       "      <td>Cosmetics &amp; Grooming</td>\n",
       "      <td>-</td>\n",
       "      <td>-</td>\n",
       "      <td>NaN</td>\n",
       "      <td>NaN</td>\n",
       "    </tr>\n",
       "    <tr>\n",
       "      <th>51064</th>\n",
       "      <td>2015120427297</td>\n",
       "      <td>20-Nov-15</td>\n",
       "      <td>16-Oct-15</td>\n",
       "      <td>-</td>\n",
       "      <td>-</td>\n",
       "      <td>-</td>\n",
       "      <td>Property Damage</td>\n",
       "      <td>Checked Baggage</td>\n",
       "      <td>Baggage/Cases/Purses; Books; Magazines &amp; Other...</td>\n",
       "      <td>-</td>\n",
       "      <td>-</td>\n",
       "      <td>NaN</td>\n",
       "      <td>NaN</td>\n",
       "    </tr>\n",
       "    <tr>\n",
       "      <th>51065</th>\n",
       "      <td>2016010428072</td>\n",
       "      <td>22-Dec-15</td>\n",
       "      <td>20-Dec-15</td>\n",
       "      <td>-</td>\n",
       "      <td>-</td>\n",
       "      <td>-</td>\n",
       "      <td>Passenger Property Loss</td>\n",
       "      <td>Checked Baggage</td>\n",
       "      <td>Clothing</td>\n",
       "      <td>-</td>\n",
       "      <td>-</td>\n",
       "      <td>NaN</td>\n",
       "      <td>NaN</td>\n",
       "    </tr>\n",
       "  </tbody>\n",
       "</table>\n",
       "</div>"
      ],
      "text/plain": [
       "        Claim Number Date Received Incident Date Airport Code Airport Name  \\\n",
       "51061  2015110926685     22-Oct-15     19-Oct-15            -            -   \n",
       "51062  2015110226479      2-Nov-15      2-Nov-15            -            -   \n",
       "51063  2015120727336     16-Nov-15     14-Sep-15            -            -   \n",
       "51064  2015120427297     20-Nov-15     16-Oct-15            -            -   \n",
       "51065  2016010428072     22-Dec-15     20-Dec-15            -            -   \n",
       "\n",
       "            Airline Name               Claim Type       Claim Site  \\\n",
       "51061                  -          Property Damage  Checked Baggage   \n",
       "51062                  -  Passenger Property Loss       Checkpoint   \n",
       "51063  American Airlines  Passenger Property Loss  Checked Baggage   \n",
       "51064                  -          Property Damage  Checked Baggage   \n",
       "51065                  -  Passenger Property Loss  Checked Baggage   \n",
       "\n",
       "                                                    Item Claim Amount Status  \\\n",
       "51061                               Baggage/Cases/Purses            -      -   \n",
       "51062                           Books; Magazines & Other            -      -   \n",
       "51063                               Cosmetics & Grooming            -      -   \n",
       "51064  Baggage/Cases/Purses; Books; Magazines & Other...            -      -   \n",
       "51065                                           Clothing            -      -   \n",
       "\n",
       "      Close Amount Disposition  \n",
       "51061          NaN         NaN  \n",
       "51062          NaN         NaN  \n",
       "51063          NaN         NaN  \n",
       "51064          NaN         NaN  \n",
       "51065          NaN         NaN  "
      ]
     },
     "execution_count": 346,
     "metadata": {},
     "output_type": "execute_result"
    }
   ],
   "source": [
    "data.tail()"
   ]
  },
  {
   "cell_type": "code",
   "execution_count": 347,
   "metadata": {
    "ExecuteTime": {
     "end_time": "2020-04-24T06:03:02.720415Z",
     "start_time": "2020-04-24T06:03:02.546473Z"
    }
   },
   "outputs": [
    {
     "name": "stdout",
     "output_type": "stream",
     "text": [
      "<class 'pandas.core.frame.DataFrame'>\n",
      "RangeIndex: 51066 entries, 0 to 51065\n",
      "Data columns (total 13 columns):\n",
      " #   Column         Non-Null Count  Dtype \n",
      "---  ------         --------------  ----- \n",
      " 0   Claim Number   51066 non-null  object\n",
      " 1   Date Received  50996 non-null  object\n",
      " 2   Incident Date  50496 non-null  object\n",
      " 3   Airport Code   49014 non-null  object\n",
      " 4   Airport Name   49014 non-null  object\n",
      " 5   Airline Name   42511 non-null  object\n",
      " 6   Claim Type     49106 non-null  object\n",
      " 7   Claim Site     50876 non-null  object\n",
      " 8   Item           50054 non-null  object\n",
      " 9   Claim Amount   50074 non-null  object\n",
      " 10  Status         51065 non-null  object\n",
      " 11  Close Amount   33786 non-null  object\n",
      " 12  Disposition    32846 non-null  object\n",
      "dtypes: object(13)\n",
      "memory usage: 5.1+ MB\n"
     ]
    }
   ],
   "source": [
    "data.info()"
   ]
  },
  {
   "cell_type": "code",
   "execution_count": 348,
   "metadata": {
    "ExecuteTime": {
     "end_time": "2020-04-24T06:03:03.021228Z",
     "start_time": "2020-04-24T06:03:02.721412Z"
    }
   },
   "outputs": [
    {
     "data": {
      "text/html": [
       "<div>\n",
       "<style scoped>\n",
       "    .dataframe tbody tr th:only-of-type {\n",
       "        vertical-align: middle;\n",
       "    }\n",
       "\n",
       "    .dataframe tbody tr th {\n",
       "        vertical-align: top;\n",
       "    }\n",
       "\n",
       "    .dataframe thead th {\n",
       "        text-align: right;\n",
       "    }\n",
       "</style>\n",
       "<table border=\"1\" class=\"dataframe\">\n",
       "  <thead>\n",
       "    <tr style=\"text-align: right;\">\n",
       "      <th></th>\n",
       "      <th>Claim Number</th>\n",
       "      <th>Date Received</th>\n",
       "      <th>Incident Date</th>\n",
       "      <th>Airport Code</th>\n",
       "      <th>Airport Name</th>\n",
       "      <th>Airline Name</th>\n",
       "      <th>Claim Type</th>\n",
       "      <th>Claim Site</th>\n",
       "      <th>Item</th>\n",
       "      <th>Claim Amount</th>\n",
       "      <th>Status</th>\n",
       "      <th>Close Amount</th>\n",
       "      <th>Disposition</th>\n",
       "    </tr>\n",
       "  </thead>\n",
       "  <tbody>\n",
       "    <tr>\n",
       "      <th>count</th>\n",
       "      <td>51066</td>\n",
       "      <td>50996</td>\n",
       "      <td>50496</td>\n",
       "      <td>49014</td>\n",
       "      <td>49014</td>\n",
       "      <td>42511</td>\n",
       "      <td>49106</td>\n",
       "      <td>50876</td>\n",
       "      <td>50054</td>\n",
       "      <td>50074</td>\n",
       "      <td>51065</td>\n",
       "      <td>33786</td>\n",
       "      <td>32846</td>\n",
       "    </tr>\n",
       "    <tr>\n",
       "      <th>unique</th>\n",
       "      <td>51065</td>\n",
       "      <td>3522</td>\n",
       "      <td>10788</td>\n",
       "      <td>405</td>\n",
       "      <td>419</td>\n",
       "      <td>243</td>\n",
       "      <td>8</td>\n",
       "      <td>6</td>\n",
       "      <td>1854</td>\n",
       "      <td>13248</td>\n",
       "      <td>13</td>\n",
       "      <td>6009</td>\n",
       "      <td>3</td>\n",
       "    </tr>\n",
       "    <tr>\n",
       "      <th>top</th>\n",
       "      <td>2013121110011</td>\n",
       "      <td>27-May-04</td>\n",
       "      <td>12/22/2004 0:00</td>\n",
       "      <td>LAX</td>\n",
       "      <td>John F. Kennedy International</td>\n",
       "      <td>American Airlines</td>\n",
       "      <td>Passenger Property Loss</td>\n",
       "      <td>Checked Baggage</td>\n",
       "      <td>Other</td>\n",
       "      <td>$0.00</td>\n",
       "      <td>Denied</td>\n",
       "      <td>$0.00</td>\n",
       "      <td>Deny</td>\n",
       "    </tr>\n",
       "    <tr>\n",
       "      <th>freq</th>\n",
       "      <td>2</td>\n",
       "      <td>182</td>\n",
       "      <td>43</td>\n",
       "      <td>2379</td>\n",
       "      <td>2286</td>\n",
       "      <td>4377</td>\n",
       "      <td>29713</td>\n",
       "      <td>39937</td>\n",
       "      <td>9183</td>\n",
       "      <td>7065</td>\n",
       "      <td>17134</td>\n",
       "      <td>17907</td>\n",
       "      <td>17147</td>\n",
       "    </tr>\n",
       "  </tbody>\n",
       "</table>\n",
       "</div>"
      ],
      "text/plain": [
       "         Claim Number Date Received    Incident Date Airport Code  \\\n",
       "count           51066         50996            50496        49014   \n",
       "unique          51065          3522            10788          405   \n",
       "top     2013121110011     27-May-04  12/22/2004 0:00          LAX   \n",
       "freq                2           182               43         2379   \n",
       "\n",
       "                         Airport Name       Airline Name  \\\n",
       "count                           49014              42511   \n",
       "unique                            419                243   \n",
       "top     John F. Kennedy International  American Airlines   \n",
       "freq                             2286               4377   \n",
       "\n",
       "                     Claim Type       Claim Site   Item Claim Amount  Status  \\\n",
       "count                     49106            50876  50054        50074   51065   \n",
       "unique                        8                6   1854        13248      13   \n",
       "top     Passenger Property Loss  Checked Baggage  Other       $0.00   Denied   \n",
       "freq                      29713            39937   9183         7065   17134   \n",
       "\n",
       "       Close Amount Disposition  \n",
       "count         33786       32846  \n",
       "unique         6009           3  \n",
       "top          $0.00         Deny  \n",
       "freq          17907       17147  "
      ]
     },
     "execution_count": 348,
     "metadata": {},
     "output_type": "execute_result"
    }
   ],
   "source": [
    "data.describe()"
   ]
  },
  {
   "cell_type": "code",
   "execution_count": 349,
   "metadata": {
    "ExecuteTime": {
     "end_time": "2020-04-24T06:03:03.192122Z",
     "start_time": "2020-04-24T06:03:03.022226Z"
    }
   },
   "outputs": [
    {
     "data": {
      "text/html": [
       "<div>\n",
       "<style scoped>\n",
       "    .dataframe tbody tr th:only-of-type {\n",
       "        vertical-align: middle;\n",
       "    }\n",
       "\n",
       "    .dataframe tbody tr th {\n",
       "        vertical-align: top;\n",
       "    }\n",
       "\n",
       "    .dataframe thead th {\n",
       "        text-align: right;\n",
       "    }\n",
       "</style>\n",
       "<table border=\"1\" class=\"dataframe\">\n",
       "  <thead>\n",
       "    <tr style=\"text-align: right;\">\n",
       "      <th></th>\n",
       "      <th>dataFeatures</th>\n",
       "      <th>dataType</th>\n",
       "      <th>null</th>\n",
       "      <th>nullPct</th>\n",
       "      <th>unique</th>\n",
       "      <th>uniqueSample</th>\n",
       "    </tr>\n",
       "  </thead>\n",
       "  <tbody>\n",
       "    <tr>\n",
       "      <th>0</th>\n",
       "      <td>Claim Number</td>\n",
       "      <td>object</td>\n",
       "      <td>0</td>\n",
       "      <td>0.00</td>\n",
       "      <td>51065</td>\n",
       "      <td>[2009071661301, 2009112365571]</td>\n",
       "    </tr>\n",
       "    <tr>\n",
       "      <th>1</th>\n",
       "      <td>Date Received</td>\n",
       "      <td>object</td>\n",
       "      <td>70</td>\n",
       "      <td>0.14</td>\n",
       "      <td>3522</td>\n",
       "      <td>[27-Dec-12, 22-Sep-05]</td>\n",
       "    </tr>\n",
       "    <tr>\n",
       "      <th>2</th>\n",
       "      <td>Incident Date</td>\n",
       "      <td>object</td>\n",
       "      <td>570</td>\n",
       "      <td>1.12</td>\n",
       "      <td>10788</td>\n",
       "      <td>[6/14/2009 0:00, 12/19/2009 18:30]</td>\n",
       "    </tr>\n",
       "    <tr>\n",
       "      <th>3</th>\n",
       "      <td>Airport Code</td>\n",
       "      <td>object</td>\n",
       "      <td>2052</td>\n",
       "      <td>4.02</td>\n",
       "      <td>405</td>\n",
       "      <td>[SBA, BRD]</td>\n",
       "    </tr>\n",
       "    <tr>\n",
       "      <th>4</th>\n",
       "      <td>Airport Name</td>\n",
       "      <td>object</td>\n",
       "      <td>2052</td>\n",
       "      <td>4.02</td>\n",
       "      <td>419</td>\n",
       "      <td>[Clinton County Airport, Southeast Texas Regio...</td>\n",
       "    </tr>\n",
       "    <tr>\n",
       "      <th>...</th>\n",
       "      <td>...</td>\n",
       "      <td>...</td>\n",
       "      <td>...</td>\n",
       "      <td>...</td>\n",
       "      <td>...</td>\n",
       "      <td>...</td>\n",
       "    </tr>\n",
       "    <tr>\n",
       "      <th>8</th>\n",
       "      <td>Item</td>\n",
       "      <td>object</td>\n",
       "      <td>1012</td>\n",
       "      <td>1.98</td>\n",
       "      <td>1854</td>\n",
       "      <td>[Cameras - Digital; Cell Phones; Computer - La...</td>\n",
       "    </tr>\n",
       "    <tr>\n",
       "      <th>9</th>\n",
       "      <td>Claim Amount</td>\n",
       "      <td>object</td>\n",
       "      <td>992</td>\n",
       "      <td>1.94</td>\n",
       "      <td>13248</td>\n",
       "      <td>[$379.97 , $194.83 ]</td>\n",
       "    </tr>\n",
       "    <tr>\n",
       "      <th>10</th>\n",
       "      <td>Status</td>\n",
       "      <td>object</td>\n",
       "      <td>1</td>\n",
       "      <td>0.00</td>\n",
       "      <td>13</td>\n",
       "      <td>[In review, Approved]</td>\n",
       "    </tr>\n",
       "    <tr>\n",
       "      <th>11</th>\n",
       "      <td>Close Amount</td>\n",
       "      <td>object</td>\n",
       "      <td>17280</td>\n",
       "      <td>33.84</td>\n",
       "      <td>6009</td>\n",
       "      <td>[$254.27 , $30.03 ]</td>\n",
       "    </tr>\n",
       "    <tr>\n",
       "      <th>12</th>\n",
       "      <td>Disposition</td>\n",
       "      <td>object</td>\n",
       "      <td>18220</td>\n",
       "      <td>35.68</td>\n",
       "      <td>3</td>\n",
       "      <td>[Approve in Full, Deny]</td>\n",
       "    </tr>\n",
       "  </tbody>\n",
       "</table>\n",
       "<p>13 rows × 6 columns</p>\n",
       "</div>"
      ],
      "text/plain": [
       "     dataFeatures dataType   null  nullPct  unique  \\\n",
       "0    Claim Number   object      0     0.00   51065   \n",
       "1   Date Received   object     70     0.14    3522   \n",
       "2   Incident Date   object    570     1.12   10788   \n",
       "3    Airport Code   object   2052     4.02     405   \n",
       "4    Airport Name   object   2052     4.02     419   \n",
       "..            ...      ...    ...      ...     ...   \n",
       "8            Item   object   1012     1.98    1854   \n",
       "9    Claim Amount   object    992     1.94   13248   \n",
       "10         Status   object      1     0.00      13   \n",
       "11   Close Amount   object  17280    33.84    6009   \n",
       "12    Disposition   object  18220    35.68       3   \n",
       "\n",
       "                                         uniqueSample  \n",
       "0                      [2009071661301, 2009112365571]  \n",
       "1                              [27-Dec-12, 22-Sep-05]  \n",
       "2                  [6/14/2009 0:00, 12/19/2009 18:30]  \n",
       "3                                          [SBA, BRD]  \n",
       "4   [Clinton County Airport, Southeast Texas Regio...  \n",
       "..                                                ...  \n",
       "8   [Cameras - Digital; Cell Phones; Computer - La...  \n",
       "9                                [$379.97 , $194.83 ]  \n",
       "10                              [In review, Approved]  \n",
       "11                                [$254.27 , $30.03 ]  \n",
       "12                            [Approve in Full, Deny]  \n",
       "\n",
       "[13 rows x 6 columns]"
      ]
     },
     "execution_count": 349,
     "metadata": {},
     "output_type": "execute_result"
    }
   ],
   "source": [
    "temp = []\n",
    "\n",
    "for i in data.columns:\n",
    "    temp.append([i,\n",
    "                 data[i].dtypes,\n",
    "                 data[i].isna().sum(),\n",
    "                 round(data[i].isna().sum()/len(data)*100, 2),\n",
    "                 data[i].nunique(),\n",
    "                 data[i].drop_duplicates().sample(2).values\n",
    "                ])\n",
    "\n",
    "pd.DataFrame(temp, columns = ['dataFeatures', 'dataType', 'null', 'nullPct', 'unique', 'uniqueSample'])"
   ]
  },
  {
   "cell_type": "markdown",
   "metadata": {},
   "source": [
    "If you notice, there is '-' value that become a filler for an empty value. Replace all these '-' in every column into NaN object (np.nan) "
   ]
  },
  {
   "cell_type": "code",
   "execution_count": 350,
   "metadata": {
    "ExecuteTime": {
     "end_time": "2020-04-24T06:03:03.213108Z",
     "start_time": "2020-04-24T06:03:03.194119Z"
    }
   },
   "outputs": [],
   "source": [
    "data.replace('-', np.nan, inplace = True)"
   ]
  },
  {
   "cell_type": "markdown",
   "metadata": {},
   "source": [
    "Try to convert the Date Received and Incident Date data type into Datetime object. For the Incident Date columns, if you directly try to convert the column into datetime object it would raise an error notice. In that case, try to show the dataframe with the Incident Date column contain all the error.  "
   ]
  },
  {
   "cell_type": "code",
   "execution_count": 351,
   "metadata": {
    "ExecuteTime": {
     "end_time": "2020-04-24T06:03:03.689901Z",
     "start_time": "2020-04-24T06:03:03.215107Z"
    }
   },
   "outputs": [],
   "source": [
    "data['Date Received'] = pd.to_datetime(data['Date Received'])"
   ]
  },
  {
   "cell_type": "code",
   "execution_count": 352,
   "metadata": {
    "ExecuteTime": {
     "end_time": "2020-04-24T06:03:17.598312Z",
     "start_time": "2020-04-24T06:03:03.690924Z"
    }
   },
   "outputs": [
    {
     "data": {
      "text/html": [
       "<div>\n",
       "<style scoped>\n",
       "    .dataframe tbody tr th:only-of-type {\n",
       "        vertical-align: middle;\n",
       "    }\n",
       "\n",
       "    .dataframe tbody tr th {\n",
       "        vertical-align: top;\n",
       "    }\n",
       "\n",
       "    .dataframe thead th {\n",
       "        text-align: right;\n",
       "    }\n",
       "</style>\n",
       "<table border=\"1\" class=\"dataframe\">\n",
       "  <thead>\n",
       "    <tr style=\"text-align: right;\">\n",
       "      <th></th>\n",
       "      <th>Claim Number</th>\n",
       "      <th>Date Received</th>\n",
       "      <th>Incident Date</th>\n",
       "      <th>Airport Code</th>\n",
       "      <th>Airport Name</th>\n",
       "      <th>Airline Name</th>\n",
       "      <th>Claim Type</th>\n",
       "      <th>Claim Site</th>\n",
       "      <th>Item</th>\n",
       "      <th>Claim Amount</th>\n",
       "      <th>Status</th>\n",
       "      <th>Close Amount</th>\n",
       "      <th>Disposition</th>\n",
       "    </tr>\n",
       "  </thead>\n",
       "  <tbody>\n",
       "    <tr>\n",
       "      <th>13729</th>\n",
       "      <td>2005021676300</td>\n",
       "      <td>2005-01-24</td>\n",
       "      <td>17-MAY-0200 00:00</td>\n",
       "      <td>JFK</td>\n",
       "      <td>John F. Kennedy International</td>\n",
       "      <td>NaN</td>\n",
       "      <td>Passenger Property Loss</td>\n",
       "      <td>Checkpoint</td>\n",
       "      <td>Other</td>\n",
       "      <td>$15.00</td>\n",
       "      <td>Approved</td>\n",
       "      <td>$15.00</td>\n",
       "      <td>Approve in Full</td>\n",
       "    </tr>\n",
       "    <tr>\n",
       "      <th>14323</th>\n",
       "      <td>2005031778682</td>\n",
       "      <td>2005-02-23</td>\n",
       "      <td>17-FEB-0205 00:00</td>\n",
       "      <td>MSY</td>\n",
       "      <td>New Orleans International</td>\n",
       "      <td>UAL</td>\n",
       "      <td>Passenger Property Loss</td>\n",
       "      <td>Checked Baggage</td>\n",
       "      <td>Computer - Laptop</td>\n",
       "      <td>$2;463.00</td>\n",
       "      <td>Denied</td>\n",
       "      <td>NaN</td>\n",
       "      <td>Deny</td>\n",
       "    </tr>\n",
       "    <tr>\n",
       "      <th>14856</th>\n",
       "      <td>2005033180821</td>\n",
       "      <td>2005-03-23</td>\n",
       "      <td>07-MAR-0005 00:00</td>\n",
       "      <td>CVG</td>\n",
       "      <td>Cincinnati/Northern Kentucky International</td>\n",
       "      <td>Delta Air Lines</td>\n",
       "      <td>Passenger Property Loss</td>\n",
       "      <td>Checked Baggage</td>\n",
       "      <td>Cameras - Digital</td>\n",
       "      <td>$430.98</td>\n",
       "      <td>Approved</td>\n",
       "      <td>$430.98</td>\n",
       "      <td>Approve in Full</td>\n",
       "    </tr>\n",
       "    <tr>\n",
       "      <th>14976</th>\n",
       "      <td>2005040181143</td>\n",
       "      <td>2005-03-29</td>\n",
       "      <td>04-MAR-0205 00:00</td>\n",
       "      <td>MSP</td>\n",
       "      <td>Minneapolis/ St.Paul International Airport</td>\n",
       "      <td>Northwest Airlines</td>\n",
       "      <td>Passenger Property Loss</td>\n",
       "      <td>Checked Baggage</td>\n",
       "      <td>Jewelry - Fine</td>\n",
       "      <td>$151.00</td>\n",
       "      <td>Insufficient; one of the following items requi...</td>\n",
       "      <td>NaN</td>\n",
       "      <td>NaN</td>\n",
       "    </tr>\n",
       "    <tr>\n",
       "      <th>14995</th>\n",
       "      <td>2005040581540</td>\n",
       "      <td>2005-03-30</td>\n",
       "      <td>18-MAR-0200 00:00</td>\n",
       "      <td>MAF</td>\n",
       "      <td>Midland International Airport</td>\n",
       "      <td>Continental Express Inc</td>\n",
       "      <td>Passenger Property Loss</td>\n",
       "      <td>Checked Baggage</td>\n",
       "      <td>Locks</td>\n",
       "      <td>$10.60</td>\n",
       "      <td>Approved</td>\n",
       "      <td>$10.60</td>\n",
       "      <td>Approve in Full</td>\n",
       "    </tr>\n",
       "    <tr>\n",
       "      <th>...</th>\n",
       "      <td>...</td>\n",
       "      <td>...</td>\n",
       "      <td>...</td>\n",
       "      <td>...</td>\n",
       "      <td>...</td>\n",
       "      <td>...</td>\n",
       "      <td>...</td>\n",
       "      <td>...</td>\n",
       "      <td>...</td>\n",
       "      <td>...</td>\n",
       "      <td>...</td>\n",
       "      <td>...</td>\n",
       "      <td>...</td>\n",
       "    </tr>\n",
       "    <tr>\n",
       "      <th>31140</th>\n",
       "      <td>2008062646202</td>\n",
       "      <td>2008-06-23</td>\n",
       "      <td>29-JAN-0208 00:00</td>\n",
       "      <td>MIA</td>\n",
       "      <td>Miami International Airport</td>\n",
       "      <td>American Airlines</td>\n",
       "      <td>Property Damage</td>\n",
       "      <td>Checked Baggage</td>\n",
       "      <td>Locks</td>\n",
       "      <td>$5.98</td>\n",
       "      <td>Denied</td>\n",
       "      <td>$0.00</td>\n",
       "      <td>Deny</td>\n",
       "    </tr>\n",
       "    <tr>\n",
       "      <th>31570</th>\n",
       "      <td>2008080548050</td>\n",
       "      <td>2008-07-31</td>\n",
       "      <td>30-JUL-0208 00:00</td>\n",
       "      <td>HOU</td>\n",
       "      <td>William P. Hobby</td>\n",
       "      <td>Continental Airlines</td>\n",
       "      <td>Passenger Property Loss</td>\n",
       "      <td>Checked Baggage</td>\n",
       "      <td>Locks</td>\n",
       "      <td>$16.00</td>\n",
       "      <td>Denied</td>\n",
       "      <td>$0.00</td>\n",
       "      <td>Deny</td>\n",
       "    </tr>\n",
       "    <tr>\n",
       "      <th>31590</th>\n",
       "      <td>2008081148331</td>\n",
       "      <td>2008-08-01</td>\n",
       "      <td>13-JUL-0200 00:00</td>\n",
       "      <td>ATL</td>\n",
       "      <td>Hartsfield-Jackson Atlanta International Airport</td>\n",
       "      <td>Delta Air Lines</td>\n",
       "      <td>Passenger Property Loss</td>\n",
       "      <td>Checked Baggage</td>\n",
       "      <td>Cosmetics - Perfume; toilet articles; medicine...</td>\n",
       "      <td>$40.00</td>\n",
       "      <td>Denied</td>\n",
       "      <td>$0.00</td>\n",
       "      <td>Deny</td>\n",
       "    </tr>\n",
       "    <tr>\n",
       "      <th>31771</th>\n",
       "      <td>2008081948782</td>\n",
       "      <td>2008-08-19</td>\n",
       "      <td>23-JUL-0208 00:00</td>\n",
       "      <td>FLL</td>\n",
       "      <td>Ft. Lauderdale-Hollywood International</td>\n",
       "      <td>Jet Blue</td>\n",
       "      <td>Passenger Property Loss</td>\n",
       "      <td>Checked Baggage</td>\n",
       "      <td>Computer - Laptop; GPS - Global Positioning Sy...</td>\n",
       "      <td>$3;379.00</td>\n",
       "      <td>Denied</td>\n",
       "      <td>$0.00</td>\n",
       "      <td>Deny</td>\n",
       "    </tr>\n",
       "    <tr>\n",
       "      <th>33613</th>\n",
       "      <td>2009032056617</td>\n",
       "      <td>2009-03-04</td>\n",
       "      <td>18-JAN-0200 00:00</td>\n",
       "      <td>FLL</td>\n",
       "      <td>Ft. Lauderdale-Hollywood International</td>\n",
       "      <td>American Airlines</td>\n",
       "      <td>Property Damage</td>\n",
       "      <td>Checkpoint</td>\n",
       "      <td>Eyeglasses - (including contact lenses)</td>\n",
       "      <td>$469.00</td>\n",
       "      <td>Denied</td>\n",
       "      <td>$0.00</td>\n",
       "      <td>Deny</td>\n",
       "    </tr>\n",
       "  </tbody>\n",
       "</table>\n",
       "<p>36 rows × 13 columns</p>\n",
       "</div>"
      ],
      "text/plain": [
       "        Claim Number Date Received      Incident Date Airport Code  \\\n",
       "13729  2005021676300    2005-01-24  17-MAY-0200 00:00          JFK   \n",
       "14323  2005031778682    2005-02-23  17-FEB-0205 00:00          MSY   \n",
       "14856  2005033180821    2005-03-23  07-MAR-0005 00:00          CVG   \n",
       "14976  2005040181143    2005-03-29  04-MAR-0205 00:00          MSP   \n",
       "14995  2005040581540    2005-03-30  18-MAR-0200 00:00          MAF   \n",
       "...              ...           ...                ...          ...   \n",
       "31140  2008062646202    2008-06-23  29-JAN-0208 00:00          MIA   \n",
       "31570  2008080548050    2008-07-31  30-JUL-0208 00:00          HOU   \n",
       "31590  2008081148331    2008-08-01  13-JUL-0200 00:00          ATL   \n",
       "31771  2008081948782    2008-08-19  23-JUL-0208 00:00          FLL   \n",
       "33613  2009032056617    2009-03-04  18-JAN-0200 00:00          FLL   \n",
       "\n",
       "                                           Airport Name  \\\n",
       "13729                     John F. Kennedy International   \n",
       "14323                         New Orleans International   \n",
       "14856        Cincinnati/Northern Kentucky International   \n",
       "14976        Minneapolis/ St.Paul International Airport   \n",
       "14995                     Midland International Airport   \n",
       "...                                                 ...   \n",
       "31140                       Miami International Airport   \n",
       "31570                                  William P. Hobby   \n",
       "31590  Hartsfield-Jackson Atlanta International Airport   \n",
       "31771            Ft. Lauderdale-Hollywood International   \n",
       "33613            Ft. Lauderdale-Hollywood International   \n",
       "\n",
       "                  Airline Name               Claim Type       Claim Site  \\\n",
       "13729                      NaN  Passenger Property Loss       Checkpoint   \n",
       "14323                      UAL  Passenger Property Loss  Checked Baggage   \n",
       "14856          Delta Air Lines  Passenger Property Loss  Checked Baggage   \n",
       "14976       Northwest Airlines  Passenger Property Loss  Checked Baggage   \n",
       "14995  Continental Express Inc  Passenger Property Loss  Checked Baggage   \n",
       "...                        ...                      ...              ...   \n",
       "31140        American Airlines          Property Damage  Checked Baggage   \n",
       "31570     Continental Airlines  Passenger Property Loss  Checked Baggage   \n",
       "31590          Delta Air Lines  Passenger Property Loss  Checked Baggage   \n",
       "31771                 Jet Blue  Passenger Property Loss  Checked Baggage   \n",
       "33613        American Airlines          Property Damage       Checkpoint   \n",
       "\n",
       "                                                    Item Claim Amount  \\\n",
       "13729                                              Other      $15.00    \n",
       "14323                                  Computer - Laptop   $2;463.00    \n",
       "14856                                  Cameras - Digital     $430.98    \n",
       "14976                                     Jewelry - Fine     $151.00    \n",
       "14995                                              Locks      $10.60    \n",
       "...                                                  ...          ...   \n",
       "31140                                              Locks       $5.98    \n",
       "31570                                              Locks      $16.00    \n",
       "31590  Cosmetics - Perfume; toilet articles; medicine...      $40.00    \n",
       "31771  Computer - Laptop; GPS - Global Positioning Sy...   $3;379.00    \n",
       "33613            Eyeglasses - (including contact lenses)     $469.00    \n",
       "\n",
       "                                                  Status Close Amount  \\\n",
       "13729                                           Approved      $15.00    \n",
       "14323                                             Denied          NaN   \n",
       "14856                                           Approved     $430.98    \n",
       "14976  Insufficient; one of the following items requi...          NaN   \n",
       "14995                                           Approved      $10.60    \n",
       "...                                                  ...          ...   \n",
       "31140                                             Denied       $0.00    \n",
       "31570                                             Denied       $0.00    \n",
       "31590                                             Denied       $0.00    \n",
       "31771                                             Denied       $0.00    \n",
       "33613                                             Denied       $0.00    \n",
       "\n",
       "           Disposition  \n",
       "13729  Approve in Full  \n",
       "14323             Deny  \n",
       "14856  Approve in Full  \n",
       "14976              NaN  \n",
       "14995  Approve in Full  \n",
       "...                ...  \n",
       "31140             Deny  \n",
       "31570             Deny  \n",
       "31590             Deny  \n",
       "31771             Deny  \n",
       "33613             Deny  \n",
       "\n",
       "[36 rows x 13 columns]"
      ]
     },
     "execution_count": 352,
     "metadata": {},
     "output_type": "execute_result"
    }
   ],
   "source": [
    "idx = []\n",
    "for i, item in enumerate(data['Incident Date']):\n",
    "    try:\n",
    "        pd.to_datetime(item)\n",
    "    except ValueError:\n",
    "        idx.append(i)\n",
    "\n",
    "data.loc[idx]"
   ]
  },
  {
   "cell_type": "markdown",
   "metadata": {},
   "source": [
    "For the data in the Incident Date column that contain error, replace the year with the year that come from the Date Received column and replace the Incident Date data type into datetime object"
   ]
  },
  {
   "cell_type": "code",
   "execution_count": 353,
   "metadata": {
    "ExecuteTime": {
     "end_time": "2020-04-24T06:03:17.612305Z",
     "start_time": "2020-04-24T06:03:17.600312Z"
    }
   },
   "outputs": [],
   "source": [
    "replacement = data.loc[idx]['Date Received'].apply(lambda x: x.year)\n",
    "date_month = data.loc[idx]['Incident Date'].apply(lambda x: x[:7])\n",
    "\n",
    "temp = []\n",
    "for dm, y in zip(date_month, replacement):\n",
    "    temp.append(dm + '{}'.format(y))\n",
    "    \n",
    "data.loc[idx, 'Incident Date'] = temp"
   ]
  },
  {
   "cell_type": "code",
   "execution_count": 354,
   "metadata": {
    "ExecuteTime": {
     "end_time": "2020-04-24T06:03:19.011608Z",
     "start_time": "2020-04-24T06:03:17.613304Z"
    }
   },
   "outputs": [],
   "source": [
    "data['Incident Date'] = pd.to_datetime(data['Incident Date'])"
   ]
  },
  {
   "cell_type": "markdown",
   "metadata": {},
   "source": [
    "Check the data info and the dataframe that previously contain the error in their data to see if the data have been properly corrected."
   ]
  },
  {
   "cell_type": "code",
   "execution_count": 355,
   "metadata": {
    "ExecuteTime": {
     "end_time": "2020-04-24T06:03:19.048580Z",
     "start_time": "2020-04-24T06:03:19.013601Z"
    },
    "scrolled": true
   },
   "outputs": [
    {
     "name": "stdout",
     "output_type": "stream",
     "text": [
      "<class 'pandas.core.frame.DataFrame'>\n",
      "RangeIndex: 51066 entries, 0 to 51065\n",
      "Data columns (total 13 columns):\n",
      " #   Column         Non-Null Count  Dtype         \n",
      "---  ------         --------------  -----         \n",
      " 0   Claim Number   51066 non-null  object        \n",
      " 1   Date Received  50996 non-null  datetime64[ns]\n",
      " 2   Incident Date  50496 non-null  datetime64[ns]\n",
      " 3   Airport Code   48915 non-null  object        \n",
      " 4   Airport Name   48915 non-null  object        \n",
      " 5   Airline Name   41470 non-null  object        \n",
      " 6   Claim Type     49035 non-null  object        \n",
      " 7   Claim Site     50817 non-null  object        \n",
      " 8   Item           48918 non-null  object        \n",
      " 9   Claim Amount   46886 non-null  object        \n",
      " 10  Status         47877 non-null  object        \n",
      " 11  Close Amount   33786 non-null  object        \n",
      " 12  Disposition    32846 non-null  object        \n",
      "dtypes: datetime64[ns](2), object(11)\n",
      "memory usage: 5.1+ MB\n"
     ]
    }
   ],
   "source": [
    "data.info()"
   ]
  },
  {
   "cell_type": "code",
   "execution_count": 356,
   "metadata": {
    "ExecuteTime": {
     "end_time": "2020-04-24T06:03:19.207603Z",
     "start_time": "2020-04-24T06:03:19.049578Z"
    }
   },
   "outputs": [
    {
     "data": {
      "text/html": [
       "<div>\n",
       "<style scoped>\n",
       "    .dataframe tbody tr th:only-of-type {\n",
       "        vertical-align: middle;\n",
       "    }\n",
       "\n",
       "    .dataframe tbody tr th {\n",
       "        vertical-align: top;\n",
       "    }\n",
       "\n",
       "    .dataframe thead th {\n",
       "        text-align: right;\n",
       "    }\n",
       "</style>\n",
       "<table border=\"1\" class=\"dataframe\">\n",
       "  <thead>\n",
       "    <tr style=\"text-align: right;\">\n",
       "      <th></th>\n",
       "      <th>Claim Number</th>\n",
       "      <th>Date Received</th>\n",
       "      <th>Incident Date</th>\n",
       "      <th>Airport Code</th>\n",
       "      <th>Airport Name</th>\n",
       "      <th>Airline Name</th>\n",
       "      <th>Claim Type</th>\n",
       "      <th>Claim Site</th>\n",
       "      <th>Item</th>\n",
       "      <th>Claim Amount</th>\n",
       "      <th>Status</th>\n",
       "      <th>Close Amount</th>\n",
       "      <th>Disposition</th>\n",
       "    </tr>\n",
       "  </thead>\n",
       "  <tbody>\n",
       "    <tr>\n",
       "      <th>13729</th>\n",
       "      <td>2005021676300</td>\n",
       "      <td>2005-01-24</td>\n",
       "      <td>2005-05-17</td>\n",
       "      <td>JFK</td>\n",
       "      <td>John F. Kennedy International</td>\n",
       "      <td>NaN</td>\n",
       "      <td>Passenger Property Loss</td>\n",
       "      <td>Checkpoint</td>\n",
       "      <td>Other</td>\n",
       "      <td>$15.00</td>\n",
       "      <td>Approved</td>\n",
       "      <td>$15.00</td>\n",
       "      <td>Approve in Full</td>\n",
       "    </tr>\n",
       "    <tr>\n",
       "      <th>14323</th>\n",
       "      <td>2005031778682</td>\n",
       "      <td>2005-02-23</td>\n",
       "      <td>2005-02-17</td>\n",
       "      <td>MSY</td>\n",
       "      <td>New Orleans International</td>\n",
       "      <td>UAL</td>\n",
       "      <td>Passenger Property Loss</td>\n",
       "      <td>Checked Baggage</td>\n",
       "      <td>Computer - Laptop</td>\n",
       "      <td>$2;463.00</td>\n",
       "      <td>Denied</td>\n",
       "      <td>NaN</td>\n",
       "      <td>Deny</td>\n",
       "    </tr>\n",
       "    <tr>\n",
       "      <th>14856</th>\n",
       "      <td>2005033180821</td>\n",
       "      <td>2005-03-23</td>\n",
       "      <td>2005-03-07</td>\n",
       "      <td>CVG</td>\n",
       "      <td>Cincinnati/Northern Kentucky International</td>\n",
       "      <td>Delta Air Lines</td>\n",
       "      <td>Passenger Property Loss</td>\n",
       "      <td>Checked Baggage</td>\n",
       "      <td>Cameras - Digital</td>\n",
       "      <td>$430.98</td>\n",
       "      <td>Approved</td>\n",
       "      <td>$430.98</td>\n",
       "      <td>Approve in Full</td>\n",
       "    </tr>\n",
       "    <tr>\n",
       "      <th>14976</th>\n",
       "      <td>2005040181143</td>\n",
       "      <td>2005-03-29</td>\n",
       "      <td>2005-03-04</td>\n",
       "      <td>MSP</td>\n",
       "      <td>Minneapolis/ St.Paul International Airport</td>\n",
       "      <td>Northwest Airlines</td>\n",
       "      <td>Passenger Property Loss</td>\n",
       "      <td>Checked Baggage</td>\n",
       "      <td>Jewelry - Fine</td>\n",
       "      <td>$151.00</td>\n",
       "      <td>Insufficient; one of the following items requi...</td>\n",
       "      <td>NaN</td>\n",
       "      <td>NaN</td>\n",
       "    </tr>\n",
       "    <tr>\n",
       "      <th>14995</th>\n",
       "      <td>2005040581540</td>\n",
       "      <td>2005-03-30</td>\n",
       "      <td>2005-03-18</td>\n",
       "      <td>MAF</td>\n",
       "      <td>Midland International Airport</td>\n",
       "      <td>Continental Express Inc</td>\n",
       "      <td>Passenger Property Loss</td>\n",
       "      <td>Checked Baggage</td>\n",
       "      <td>Locks</td>\n",
       "      <td>$10.60</td>\n",
       "      <td>Approved</td>\n",
       "      <td>$10.60</td>\n",
       "      <td>Approve in Full</td>\n",
       "    </tr>\n",
       "    <tr>\n",
       "      <th>...</th>\n",
       "      <td>...</td>\n",
       "      <td>...</td>\n",
       "      <td>...</td>\n",
       "      <td>...</td>\n",
       "      <td>...</td>\n",
       "      <td>...</td>\n",
       "      <td>...</td>\n",
       "      <td>...</td>\n",
       "      <td>...</td>\n",
       "      <td>...</td>\n",
       "      <td>...</td>\n",
       "      <td>...</td>\n",
       "      <td>...</td>\n",
       "    </tr>\n",
       "    <tr>\n",
       "      <th>31140</th>\n",
       "      <td>2008062646202</td>\n",
       "      <td>2008-06-23</td>\n",
       "      <td>2008-01-29</td>\n",
       "      <td>MIA</td>\n",
       "      <td>Miami International Airport</td>\n",
       "      <td>American Airlines</td>\n",
       "      <td>Property Damage</td>\n",
       "      <td>Checked Baggage</td>\n",
       "      <td>Locks</td>\n",
       "      <td>$5.98</td>\n",
       "      <td>Denied</td>\n",
       "      <td>$0.00</td>\n",
       "      <td>Deny</td>\n",
       "    </tr>\n",
       "    <tr>\n",
       "      <th>31570</th>\n",
       "      <td>2008080548050</td>\n",
       "      <td>2008-07-31</td>\n",
       "      <td>2008-07-30</td>\n",
       "      <td>HOU</td>\n",
       "      <td>William P. Hobby</td>\n",
       "      <td>Continental Airlines</td>\n",
       "      <td>Passenger Property Loss</td>\n",
       "      <td>Checked Baggage</td>\n",
       "      <td>Locks</td>\n",
       "      <td>$16.00</td>\n",
       "      <td>Denied</td>\n",
       "      <td>$0.00</td>\n",
       "      <td>Deny</td>\n",
       "    </tr>\n",
       "    <tr>\n",
       "      <th>31590</th>\n",
       "      <td>2008081148331</td>\n",
       "      <td>2008-08-01</td>\n",
       "      <td>2008-07-13</td>\n",
       "      <td>ATL</td>\n",
       "      <td>Hartsfield-Jackson Atlanta International Airport</td>\n",
       "      <td>Delta Air Lines</td>\n",
       "      <td>Passenger Property Loss</td>\n",
       "      <td>Checked Baggage</td>\n",
       "      <td>Cosmetics - Perfume; toilet articles; medicine...</td>\n",
       "      <td>$40.00</td>\n",
       "      <td>Denied</td>\n",
       "      <td>$0.00</td>\n",
       "      <td>Deny</td>\n",
       "    </tr>\n",
       "    <tr>\n",
       "      <th>31771</th>\n",
       "      <td>2008081948782</td>\n",
       "      <td>2008-08-19</td>\n",
       "      <td>2008-07-23</td>\n",
       "      <td>FLL</td>\n",
       "      <td>Ft. Lauderdale-Hollywood International</td>\n",
       "      <td>Jet Blue</td>\n",
       "      <td>Passenger Property Loss</td>\n",
       "      <td>Checked Baggage</td>\n",
       "      <td>Computer - Laptop; GPS - Global Positioning Sy...</td>\n",
       "      <td>$3;379.00</td>\n",
       "      <td>Denied</td>\n",
       "      <td>$0.00</td>\n",
       "      <td>Deny</td>\n",
       "    </tr>\n",
       "    <tr>\n",
       "      <th>33613</th>\n",
       "      <td>2009032056617</td>\n",
       "      <td>2009-03-04</td>\n",
       "      <td>2009-01-18</td>\n",
       "      <td>FLL</td>\n",
       "      <td>Ft. Lauderdale-Hollywood International</td>\n",
       "      <td>American Airlines</td>\n",
       "      <td>Property Damage</td>\n",
       "      <td>Checkpoint</td>\n",
       "      <td>Eyeglasses - (including contact lenses)</td>\n",
       "      <td>$469.00</td>\n",
       "      <td>Denied</td>\n",
       "      <td>$0.00</td>\n",
       "      <td>Deny</td>\n",
       "    </tr>\n",
       "  </tbody>\n",
       "</table>\n",
       "<p>36 rows × 13 columns</p>\n",
       "</div>"
      ],
      "text/plain": [
       "        Claim Number Date Received Incident Date Airport Code  \\\n",
       "13729  2005021676300    2005-01-24    2005-05-17          JFK   \n",
       "14323  2005031778682    2005-02-23    2005-02-17          MSY   \n",
       "14856  2005033180821    2005-03-23    2005-03-07          CVG   \n",
       "14976  2005040181143    2005-03-29    2005-03-04          MSP   \n",
       "14995  2005040581540    2005-03-30    2005-03-18          MAF   \n",
       "...              ...           ...           ...          ...   \n",
       "31140  2008062646202    2008-06-23    2008-01-29          MIA   \n",
       "31570  2008080548050    2008-07-31    2008-07-30          HOU   \n",
       "31590  2008081148331    2008-08-01    2008-07-13          ATL   \n",
       "31771  2008081948782    2008-08-19    2008-07-23          FLL   \n",
       "33613  2009032056617    2009-03-04    2009-01-18          FLL   \n",
       "\n",
       "                                           Airport Name  \\\n",
       "13729                     John F. Kennedy International   \n",
       "14323                         New Orleans International   \n",
       "14856        Cincinnati/Northern Kentucky International   \n",
       "14976        Minneapolis/ St.Paul International Airport   \n",
       "14995                     Midland International Airport   \n",
       "...                                                 ...   \n",
       "31140                       Miami International Airport   \n",
       "31570                                  William P. Hobby   \n",
       "31590  Hartsfield-Jackson Atlanta International Airport   \n",
       "31771            Ft. Lauderdale-Hollywood International   \n",
       "33613            Ft. Lauderdale-Hollywood International   \n",
       "\n",
       "                  Airline Name               Claim Type       Claim Site  \\\n",
       "13729                      NaN  Passenger Property Loss       Checkpoint   \n",
       "14323                      UAL  Passenger Property Loss  Checked Baggage   \n",
       "14856          Delta Air Lines  Passenger Property Loss  Checked Baggage   \n",
       "14976       Northwest Airlines  Passenger Property Loss  Checked Baggage   \n",
       "14995  Continental Express Inc  Passenger Property Loss  Checked Baggage   \n",
       "...                        ...                      ...              ...   \n",
       "31140        American Airlines          Property Damage  Checked Baggage   \n",
       "31570     Continental Airlines  Passenger Property Loss  Checked Baggage   \n",
       "31590          Delta Air Lines  Passenger Property Loss  Checked Baggage   \n",
       "31771                 Jet Blue  Passenger Property Loss  Checked Baggage   \n",
       "33613        American Airlines          Property Damage       Checkpoint   \n",
       "\n",
       "                                                    Item Claim Amount  \\\n",
       "13729                                              Other      $15.00    \n",
       "14323                                  Computer - Laptop   $2;463.00    \n",
       "14856                                  Cameras - Digital     $430.98    \n",
       "14976                                     Jewelry - Fine     $151.00    \n",
       "14995                                              Locks      $10.60    \n",
       "...                                                  ...          ...   \n",
       "31140                                              Locks       $5.98    \n",
       "31570                                              Locks      $16.00    \n",
       "31590  Cosmetics - Perfume; toilet articles; medicine...      $40.00    \n",
       "31771  Computer - Laptop; GPS - Global Positioning Sy...   $3;379.00    \n",
       "33613            Eyeglasses - (including contact lenses)     $469.00    \n",
       "\n",
       "                                                  Status Close Amount  \\\n",
       "13729                                           Approved      $15.00    \n",
       "14323                                             Denied          NaN   \n",
       "14856                                           Approved     $430.98    \n",
       "14976  Insufficient; one of the following items requi...          NaN   \n",
       "14995                                           Approved      $10.60    \n",
       "...                                                  ...          ...   \n",
       "31140                                             Denied       $0.00    \n",
       "31570                                             Denied       $0.00    \n",
       "31590                                             Denied       $0.00    \n",
       "31771                                             Denied       $0.00    \n",
       "33613                                             Denied       $0.00    \n",
       "\n",
       "           Disposition  \n",
       "13729  Approve in Full  \n",
       "14323             Deny  \n",
       "14856  Approve in Full  \n",
       "14976              NaN  \n",
       "14995  Approve in Full  \n",
       "...                ...  \n",
       "31140             Deny  \n",
       "31570             Deny  \n",
       "31590             Deny  \n",
       "31771             Deny  \n",
       "33613             Deny  \n",
       "\n",
       "[36 rows x 13 columns]"
      ]
     },
     "execution_count": 356,
     "metadata": {},
     "output_type": "execute_result"
    }
   ],
   "source": [
    "data.loc[idx]"
   ]
  },
  {
   "cell_type": "markdown",
   "metadata": {},
   "source": [
    "Create a new feature of the day differences between claim received and the day of the incident called Day Differences, which contain the days that come from the Date Received column substracted by the Incident Date column (Date Received - Incident Date). We have this feature to see the time differences between when the claim made with the incident that happen."
   ]
  },
  {
   "cell_type": "code",
   "execution_count": 357,
   "metadata": {
    "ExecuteTime": {
     "end_time": "2020-04-24T06:03:19.366685Z",
     "start_time": "2020-04-24T06:03:19.209603Z"
    }
   },
   "outputs": [],
   "source": [
    "pd.set_option('display.max_rows', 10)"
   ]
  },
  {
   "cell_type": "code",
   "execution_count": 358,
   "metadata": {
    "ExecuteTime": {
     "end_time": "2020-04-24T06:03:20.271797Z",
     "start_time": "2020-04-24T06:03:19.371683Z"
    }
   },
   "outputs": [],
   "source": [
    "data['Day Differences'] = data['Date Received'] - data['Incident Date']\n",
    "data['Day Differences'] = data['Day Differences'].apply(lambda x: x.days)"
   ]
  },
  {
   "cell_type": "markdown",
   "metadata": {},
   "source": [
    "Lets try to visualize the distribution of the Day Differences with all the NaN just to be dropped first"
   ]
  },
  {
   "cell_type": "code",
   "execution_count": 359,
   "metadata": {
    "ExecuteTime": {
     "end_time": "2020-04-24T06:03:20.575608Z",
     "start_time": "2020-04-24T06:03:20.273794Z"
    },
    "scrolled": true
   },
   "outputs": [
    {
     "data": {
      "image/png": "[encoded data removed]",
      "text/plain": [
       "<Figure size 576x576 with 1 Axes>"
      ]
     },
     "metadata": {
      "needs_background": "light"
     },
     "output_type": "display_data"
    }
   ],
   "source": [
    "plt.figure(figsize = (8,8))\n",
    "plt.title('Day Differences Distribution')\n",
    "sns.distplot(data['Day Differences'].dropna())\n",
    "plt.grid()"
   ]
  },
  {
   "cell_type": "code",
   "execution_count": null,
   "metadata": {
    "ExecuteTime": {
     "end_time": "2019-10-12T18:26:01.529064Z",
     "start_time": "2019-10-12T18:26:01.107006Z"
    },
    "scrolled": true
   },
   "outputs": [],
   "source": []
  },
  {
   "cell_type": "markdown",
   "metadata": {},
   "source": [
    "If we seen it from the plot, it seems there is days that less than 0 and even over than 1000. Lets try to visualize them both"
   ]
  },
  {
   "cell_type": "code",
   "execution_count": 360,
   "metadata": {
    "ExecuteTime": {
     "end_time": "2020-04-24T06:03:20.804467Z",
     "start_time": "2020-04-24T06:03:20.576606Z"
    }
   },
   "outputs": [
    {
     "data": {
      "image/png": "[encoded data removed]",
      "text/plain": [
       "<Figure size 576x576 with 1 Axes>"
      ]
     },
     "metadata": {
      "needs_background": "light"
     },
     "output_type": "display_data"
    }
   ],
   "source": [
    "plt.figure(figsize = (8,8))\n",
    "plt.title('Day Differences Distribution Under 0')\n",
    "sns.distplot(data[data['Day Differences'] < 0]['Day Differences'])\n",
    "plt.grid()"
   ]
  },
  {
   "cell_type": "code",
   "execution_count": null,
   "metadata": {
    "ExecuteTime": {
     "end_time": "2019-10-12T18:26:01.850621Z",
     "start_time": "2019-10-12T18:26:01.530109Z"
    },
    "scrolled": true
   },
   "outputs": [],
   "source": []
  },
  {
   "cell_type": "code",
   "execution_count": 361,
   "metadata": {
    "ExecuteTime": {
     "end_time": "2020-04-24T06:03:21.094287Z",
     "start_time": "2020-04-24T06:03:20.806464Z"
    }
   },
   "outputs": [
    {
     "data": {
      "image/png": "[encoded data removed]",
      "text/plain": [
       "<Figure size 576x576 with 1 Axes>"
      ]
     },
     "metadata": {
      "needs_background": "light"
     },
     "output_type": "display_data"
    }
   ],
   "source": [
    "plt.figure(figsize = (8,8))\n",
    "plt.title('Day Differences Distribution Over 1000')\n",
    "sns.distplot(data[data['Day Differences'] > 1000]['Day Differences'])\n",
    "plt.grid()"
   ]
  },
  {
   "cell_type": "code",
   "execution_count": null,
   "metadata": {
    "ExecuteTime": {
     "end_time": "2019-10-12T18:26:02.222300Z",
     "start_time": "2019-10-12T18:26:01.851620Z"
    },
    "scrolled": true
   },
   "outputs": [],
   "source": []
  },
  {
   "cell_type": "markdown",
   "metadata": {
    "heading_collapsed": true
   },
   "source": [
    "## Question\n",
    "\n",
    "Why do you think there is day that way more than thousand days differences, and why some day differences are less than 0? (claim was made before the incident is like someone predicting a future after all)."
   ]
  },
  {
   "cell_type": "code",
   "execution_count": 362,
   "metadata": {
    "ExecuteTime": {
     "end_time": "2020-04-24T06:03:21.121270Z",
     "start_time": "2020-04-24T06:03:21.095285Z"
    },
    "hidden": true
   },
   "outputs": [
    {
     "data": {
      "text/html": [
       "<div>\n",
       "<style scoped>\n",
       "    .dataframe tbody tr th:only-of-type {\n",
       "        vertical-align: middle;\n",
       "    }\n",
       "\n",
       "    .dataframe tbody tr th {\n",
       "        vertical-align: top;\n",
       "    }\n",
       "\n",
       "    .dataframe thead th {\n",
       "        text-align: right;\n",
       "    }\n",
       "</style>\n",
       "<table border=\"1\" class=\"dataframe\">\n",
       "  <thead>\n",
       "    <tr style=\"text-align: right;\">\n",
       "      <th></th>\n",
       "      <th>Date Received</th>\n",
       "      <th>Incident Date</th>\n",
       "    </tr>\n",
       "  </thead>\n",
       "  <tbody>\n",
       "    <tr>\n",
       "      <th>count</th>\n",
       "      <td>50996</td>\n",
       "      <td>50496</td>\n",
       "    </tr>\n",
       "    <tr>\n",
       "      <th>unique</th>\n",
       "      <td>3522</td>\n",
       "      <td>10641</td>\n",
       "    </tr>\n",
       "    <tr>\n",
       "      <th>top</th>\n",
       "      <td>2004-05-27 00:00:00</td>\n",
       "      <td>2004-12-22 00:00:00</td>\n",
       "    </tr>\n",
       "    <tr>\n",
       "      <th>freq</th>\n",
       "      <td>182</td>\n",
       "      <td>43</td>\n",
       "    </tr>\n",
       "    <tr>\n",
       "      <th>first</th>\n",
       "      <td>2000-09-08 00:00:00</td>\n",
       "      <td>2000-01-01 00:00:00</td>\n",
       "    </tr>\n",
       "    <tr>\n",
       "      <th>last</th>\n",
       "      <td>2055-05-17 00:00:00</td>\n",
       "      <td>2015-12-29 00:00:00</td>\n",
       "    </tr>\n",
       "  </tbody>\n",
       "</table>\n",
       "</div>"
      ],
      "text/plain": [
       "              Date Received        Incident Date\n",
       "count                 50996                50496\n",
       "unique                 3522                10641\n",
       "top     2004-05-27 00:00:00  2004-12-22 00:00:00\n",
       "freq                    182                   43\n",
       "first   2000-09-08 00:00:00  2000-01-01 00:00:00\n",
       "last    2055-05-17 00:00:00  2015-12-29 00:00:00"
      ]
     },
     "execution_count": 362,
     "metadata": {},
     "output_type": "execute_result"
    }
   ],
   "source": [
    "# see dates basic stats\n",
    "\n",
    "data[['Date Received', 'Incident Date']].describe(exclude = 'number')\n",
    "\n",
    "# ??? Date received last tahun 2055?\n",
    "# 'The dataset includes claims filed between 2002 through 2015.' src: Context\n",
    "# Incident date seems OK"
   ]
  },
  {
   "cell_type": "code",
   "execution_count": 363,
   "metadata": {
    "ExecuteTime": {
     "end_time": "2020-04-24T06:03:21.276544Z",
     "start_time": "2020-04-24T06:03:21.122269Z"
    },
    "hidden": true
   },
   "outputs": [
    {
     "data": {
      "text/plain": [
       "24272   2055-05-17\n",
       "24271   2040-02-12\n",
       "24270   2025-08-02\n",
       "49752   2015-12-31\n",
       "49205   2015-12-30\n",
       "           ...    \n",
       "2       2002-07-12\n",
       "1       2002-06-20\n",
       "0       2002-02-07\n",
       "24276   2000-09-08\n",
       "24280          NaT\n",
       "Name: Date Received, Length: 3523, dtype: datetime64[ns]"
      ]
     },
     "execution_count": 363,
     "metadata": {},
     "output_type": "execute_result"
    }
   ],
   "source": [
    "data['Date Received'].drop_duplicates().sort_values(ascending = False)\n",
    "\n",
    "# identified 3 false values (out of 50996 records, can be ignored?)\n",
    "# max year should be 2015\n",
    "# most probable reason is typo?"
   ]
  },
  {
   "cell_type": "code",
   "execution_count": 364,
   "metadata": {
    "ExecuteTime": {
     "end_time": "2020-04-24T06:03:21.413350Z",
     "start_time": "2020-04-24T06:03:21.278544Z"
    },
    "hidden": true
   },
   "outputs": [
    {
     "data": {
      "text/plain": [
       "count    50460.000000\n",
       "mean        41.768173\n",
       "std        131.353407\n",
       "min      -1789.000000\n",
       "25%         12.000000\n",
       "50%         23.000000\n",
       "75%         45.000000\n",
       "max      18279.000000\n",
       "Name: Day Differences, dtype: float64"
      ]
     },
     "execution_count": 364,
     "metadata": {},
     "output_type": "execute_result"
    }
   ],
   "source": [
    "# see day diff stats\n",
    "\n",
    "data['Day Differences'].describe()\n",
    "\n",
    "# 'In order to protect your rights under Federal law and to file a valid claim, \n",
    "# you must send your claim in writing to TSA, stating the\n",
    "# circumstances of your loss and the exact amount you are claiming, within two (2) years of the incident.'\n",
    "# src: TSA\n",
    "\n",
    "# min - max range should be 0 - 730 days according to above guideline\n",
    "\n",
    "# mean 42 days & median 23 days is still within 'normal' range"
   ]
  },
  {
   "cell_type": "code",
   "execution_count": 365,
   "metadata": {
    "ExecuteTime": {
     "end_time": "2020-04-24T06:03:21.677184Z",
     "start_time": "2020-04-24T06:03:21.418344Z"
    },
    "hidden": true,
    "scrolled": true
   },
   "outputs": [
    {
     "data": {
      "text/plain": [
       "<matplotlib.axes._subplots.AxesSubplot at 0x1b27a93adc8>"
      ]
     },
     "execution_count": 365,
     "metadata": {},
     "output_type": "execute_result"
    },
    {
     "data": {
      "image/png": "[encoded data removed]",
      "text/plain": [
       "<Figure size 432x288 with 1 Axes>"
      ]
     },
     "metadata": {
      "needs_background": "light"
     },
     "output_type": "display_data"
    }
   ],
   "source": [
    "# coba visualisasi sebarannya\n",
    "\n",
    "sns.boxplot(data['Day Differences'])\n",
    "\n",
    "# nilai maxnya menarik datanya sangat jauh"
   ]
  },
  {
   "cell_type": "code",
   "execution_count": 366,
   "metadata": {
    "ExecuteTime": {
     "end_time": "2020-04-24T06:03:21.690176Z",
     "start_time": "2020-04-24T06:03:21.679183Z"
    },
    "hidden": true
   },
   "outputs": [
    {
     "data": {
      "text/plain": [
       "count     448.000000\n",
       "mean     -165.750000\n",
       "std       199.907361\n",
       "min     -1789.000000\n",
       "25%      -303.250000\n",
       "50%       -95.500000\n",
       "75%       -10.000000\n",
       "max        -1.000000\n",
       "Name: Day Differences, dtype: float64"
      ]
     },
     "execution_count": 366,
     "metadata": {},
     "output_type": "execute_result"
    }
   ],
   "source": [
    "# lihat stats diff < 0 saja\n",
    "\n",
    "data[data['Day Differences'] < 0]['Day Differences'].describe()\n",
    "\n",
    "# ada 448 record\n",
    "# mean & median within -365 days diff\n",
    "# max roughly -5 years???"
   ]
  },
  {
   "cell_type": "code",
   "execution_count": 367,
   "metadata": {
    "ExecuteTime": {
     "end_time": "2020-04-24T06:03:21.823220Z",
     "start_time": "2020-04-24T06:03:21.691177Z"
    },
    "hidden": true,
    "scrolled": true
   },
   "outputs": [
    {
     "data": {
      "text/plain": [
       "count       30.000000\n",
       "mean      2488.933333\n",
       "std       3839.660132\n",
       "min       1002.000000\n",
       "25%       1104.500000\n",
       "50%       1129.500000\n",
       "75%       1673.750000\n",
       "max      18279.000000\n",
       "Name: Day Differences, dtype: float64"
      ]
     },
     "execution_count": 367,
     "metadata": {},
     "output_type": "execute_result"
    }
   ],
   "source": [
    "# lihat stats diff > 1000 saja\n",
    "\n",
    "data[data['Day Differences'] > 1000]['Day Differences'].describe()\n",
    "\n",
    "# 30 record\n",
    "# max is skewing the mean"
   ]
  },
  {
   "cell_type": "code",
   "execution_count": 368,
   "metadata": {
    "ExecuteTime": {
     "end_time": "2020-04-24T06:03:21.951472Z",
     "start_time": "2020-04-24T06:03:21.824214Z"
    },
    "hidden": true
   },
   "outputs": [],
   "source": [
    "# look at column values if any noticeable pattern"
   ]
  },
  {
   "cell_type": "code",
   "execution_count": 442,
   "metadata": {
    "ExecuteTime": {
     "end_time": "2020-04-24T06:49:36.396045Z",
     "start_time": "2020-04-24T06:49:35.641511Z"
    },
    "hidden": true
   },
   "outputs": [
    {
     "data": {
      "image/png": "[encoded data removed]",
      "text/plain": [
       "<Figure size 432x288 with 2 Axes>"
      ]
     },
     "metadata": {
      "needs_background": "light"
     },
     "output_type": "display_data"
    },
    {
     "data": {
      "image/png": "[encoded data removed]",
      "text/plain": [
       "<Figure size 432x288 with 2 Axes>"
      ]
     },
     "metadata": {
      "needs_background": "light"
     },
     "output_type": "display_data"
    },
    {
     "data": {
      "image/png": "[encoded data removed]",
      "text/plain": [
       "<Figure size 432x288 with 2 Axes>"
      ]
     },
     "metadata": {
      "needs_background": "light"
     },
     "output_type": "display_data"
    }
   ],
   "source": [
    "# numerical corr\n",
    "\n",
    "sns.heatmap(data[['Claim Amount', 'Close Amount', 'Day Differences']].corr(), annot = True)\n",
    "plt.show()\n",
    "# no notable corr\n",
    "\n",
    "sns.heatmap(day_0[['Claim Amount', 'Close Amount', 'Day Differences']].corr(), annot = True)\n",
    "plt.show()\n",
    "# claim amt weakly correlates to close amt\n",
    "\n",
    "sns.heatmap(day_1000[['Claim Amount', 'Close Amount', 'Day Differences']].corr(), annot = True)\n",
    "plt.show()\n",
    "# claim amt, day diff weakly correlates to close amt"
   ]
  },
  {
   "cell_type": "code",
   "execution_count": 433,
   "metadata": {
    "ExecuteTime": {
     "end_time": "2020-04-24T06:45:47.935789Z",
     "start_time": "2020-04-24T06:45:47.912807Z"
    },
    "hidden": true
   },
   "outputs": [
    {
     "name": "stdout",
     "output_type": "stream",
     "text": [
      "John F. Kennedy International           2286\n",
      "Los Angeles International Airport       1813\n",
      "Newark International Airport            1747\n",
      "Chicago O'Hare International Airport    1712\n",
      "Orlando International Airport           1633\n",
      "Name: Airport Name, dtype: int64\n",
      "\n",
      "Newark International Airport            21\n",
      "Los Angeles International Airport       21\n",
      "Miami International Airport             19\n",
      "Chicago O'Hare International Airport    19\n",
      "Phoenix Sky Harbor International        18\n",
      "Name: Airport Name, dtype: int64\n",
      "\n",
      "Hartsfield-Jackson Atlanta International Airport    3\n",
      "John F. Kennedy International                       2\n",
      "Seattle-Tacoma International                        2\n",
      "Non TSA Airport (motor vehicle)                     2\n",
      "McCarran International                              1\n",
      "Name: Airport Name, dtype: int64\n"
     ]
    }
   ],
   "source": [
    "day_0 = data[data['Day Differences'] < 0]\n",
    "day_1000 = data[data['Day Differences'] > 1000]\n",
    "\n",
    "print(data['Airport Name'].value_counts().head())\n",
    "print('')\n",
    "print(day_0['Airport Name'].value_counts().head())\n",
    "print('')\n",
    "print(day_1000['Airport Name'].value_counts().head())"
   ]
  },
  {
   "cell_type": "code",
   "execution_count": 434,
   "metadata": {
    "ExecuteTime": {
     "end_time": "2020-04-24T06:46:01.568592Z",
     "start_time": "2020-04-24T06:46:01.549606Z"
    },
    "hidden": true
   },
   "outputs": [
    {
     "name": "stdout",
     "output_type": "stream",
     "text": [
      "American Airlines       4377\n",
      "Delta Air Lines         4371\n",
      "UAL                     3507\n",
      "Southwest Airlines      3258\n",
      "Continental Airlines    2363\n",
      "Name: Airline Name, dtype: int64\n",
      "\n",
      "American Airlines       42\n",
      "UAL                     38\n",
      "Delta Air Lines         35\n",
      "Continental Airlines    29\n",
      "USAir                   25\n",
      "Name: Airline Name, dtype: int64\n",
      "\n",
      "Delta Air Lines         7\n",
      "UAL                     5\n",
      "Continental Airlines    2\n",
      "American Airlines       2\n",
      "Northwest Airlines      2\n",
      "Name: Airline Name, dtype: int64\n"
     ]
    }
   ],
   "source": [
    "print(data['Airline Name'].value_counts().head())\n",
    "print('')\n",
    "print(day_0['Airline Name'].value_counts().head())\n",
    "print('')\n",
    "print(day_1000['Airline Name'].value_counts().head())"
   ]
  },
  {
   "cell_type": "code",
   "execution_count": 435,
   "metadata": {
    "ExecuteTime": {
     "end_time": "2020-04-24T06:46:20.836968Z",
     "start_time": "2020-04-24T06:46:20.818979Z"
    },
    "hidden": true
   },
   "outputs": [
    {
     "name": "stdout",
     "output_type": "stream",
     "text": [
      "Passenger Property Loss    29713\n",
      "Property Damage            18590\n",
      "Personal Injury              394\n",
      "Passenger Theft              115\n",
      "Employee Loss (MPCECA)       114\n",
      "Name: Claim Type, dtype: int64\n",
      "\n",
      "Passenger Property Loss    249\n",
      "Property Damage            169\n",
      "Employee Loss (MPCECA)       5\n",
      "Passenger Theft              3\n",
      "Complaint                    1\n",
      "Name: Claim Type, dtype: int64\n",
      "\n",
      "Passenger Property Loss    14\n",
      "Property Damage             9\n",
      "Personal Injury             3\n",
      "Passenger Theft             1\n",
      "Motor Vehicle               1\n",
      "Name: Claim Type, dtype: int64\n"
     ]
    }
   ],
   "source": [
    "print(data['Claim Type'].value_counts().head())\n",
    "print('')\n",
    "print(day_0['Claim Type'].value_counts().head())\n",
    "print('')\n",
    "print(day_1000['Claim Type'].value_counts().head())"
   ]
  },
  {
   "cell_type": "code",
   "execution_count": 436,
   "metadata": {
    "ExecuteTime": {
     "end_time": "2020-04-24T06:46:29.428702Z",
     "start_time": "2020-04-24T06:46:29.411710Z"
    },
    "hidden": true,
    "scrolled": true
   },
   "outputs": [
    {
     "name": "stdout",
     "output_type": "stream",
     "text": [
      "Checked Baggage    39937\n",
      "Checkpoint         10051\n",
      "Other                695\n",
      "Motor Vehicle        131\n",
      "Bus Station            3\n",
      "Name: Claim Site, dtype: int64\n",
      "\n",
      "Checked Baggage    341\n",
      "Checkpoint          95\n",
      "Other                3\n",
      "Name: Claim Site, dtype: int64\n",
      "\n",
      "Checked Baggage    18\n",
      "Checkpoint         10\n",
      "Motor Vehicle       1\n",
      "Other               1\n",
      "Name: Claim Site, dtype: int64\n"
     ]
    }
   ],
   "source": [
    "print(data['Claim Site'].value_counts().head())\n",
    "print('')\n",
    "print(day_0['Claim Site'].value_counts().head())\n",
    "print('')\n",
    "print(day_1000['Claim Site'].value_counts().head())"
   ]
  },
  {
   "cell_type": "code",
   "execution_count": 437,
   "metadata": {
    "ExecuteTime": {
     "end_time": "2020-04-24T06:46:38.049908Z",
     "start_time": "2020-04-24T06:46:38.030919Z"
    },
    "hidden": true
   },
   "outputs": [
    {
     "name": "stdout",
     "output_type": "stream",
     "text": [
      "Other                                         9183\n",
      "Luggage (all types including footlockers)     4818\n",
      "Clothing - Shoes; belts; accessories; etc.    3761\n",
      "Jewelry - Fine                                2488\n",
      "Locks                                         2408\n",
      "Name: Item, dtype: int64\n",
      "\n",
      "Other                                         92\n",
      "Luggage (all types including footlockers)     55\n",
      "Clothing - Shoes; belts; accessories; etc.    42\n",
      "Computer - Laptop                             29\n",
      "Jewelry - Fine                                27\n",
      "Name: Item, dtype: int64\n",
      "\n",
      "Other                                         6\n",
      "Clothing - Shoes; belts; accessories; etc.    4\n",
      "Jewelry - Fine                                3\n",
      "Luggage (all types including footlockers)     3\n",
      "Currency                                      2\n",
      "Name: Item, dtype: int64\n"
     ]
    }
   ],
   "source": [
    "print(data['Item'].value_counts().head())\n",
    "print('')\n",
    "print(day_0['Item'].value_counts().head())\n",
    "print('')\n",
    "print(day_1000['Item'].value_counts().head())"
   ]
  },
  {
   "cell_type": "code",
   "execution_count": 374,
   "metadata": {
    "ExecuteTime": {
     "end_time": "2020-04-24T06:03:22.918908Z",
     "start_time": "2020-04-24T06:03:22.782821Z"
    },
    "hidden": true
   },
   "outputs": [
    {
     "name": "stdout",
     "output_type": "stream",
     "text": [
      "$0.00       7065\n",
      "$100.00      954\n",
      "$50.00       859\n",
      "$200.00      804\n",
      "$150.00      761\n",
      "$300.00      598\n",
      "$250.00      534\n",
      "$20.00       475\n",
      "$500.00      451\n",
      "$75.00       428\n",
      "Name: Claim Amount, dtype: int64\n",
      "\n",
      "$50.00        17\n",
      "$0.00         17\n",
      "$300.00       10\n",
      "$200.00       10\n",
      "$150.00        8\n",
      "$80.00         8\n",
      "$100.00        8\n",
      "$30.00         6\n",
      "$10.00         6\n",
      "$1;000.00      5\n",
      "Name: Claim Amount, dtype: int64\n",
      "\n",
      "$100.00       2\n",
      "$3;767.85     1\n",
      "$800.00       1\n",
      "$273.00       1\n",
      "$249.99       1\n",
      "$13.78        1\n",
      "$5;015.00     1\n",
      "$40.00        1\n",
      "$190.00       1\n",
      "$25.00        1\n",
      "Name: Claim Amount, dtype: int64\n"
     ]
    }
   ],
   "source": [
    "print(data['Claim Amount'].value_counts().head(10))\n",
    "print('')\n",
    "print(day_0['Claim Amount'].value_counts().head(10))\n",
    "print('')\n",
    "print(day_1000['Claim Amount'].value_counts().head(10))\n",
    "\n",
    "# day_1000 ada claim yang high value > $ 1000"
   ]
  },
  {
   "cell_type": "code",
   "execution_count": 443,
   "metadata": {
    "ExecuteTime": {
     "end_time": "2020-04-24T06:53:00.842291Z",
     "start_time": "2020-04-24T06:53:00.653411Z"
    },
    "hidden": true
   },
   "outputs": [
    {
     "data": {
      "text/plain": [
       "<matplotlib.axes._subplots.AxesSubplot at 0x1b2773d4488>"
      ]
     },
     "execution_count": 443,
     "metadata": {},
     "output_type": "execute_result"
    },
    {
     "data": {
      "image/png": "[encoded data removed]",
      "text/plain": [
       "<Figure size 432x288 with 1 Axes>"
      ]
     },
     "metadata": {
      "needs_background": "light"
     },
     "output_type": "display_data"
    }
   ],
   "source": [
    "sns.scatterplot(day_1000['Claim Amount'], day_1000['Day Differences'])\n",
    "\n",
    "# tapi high value emang cuman 2-3 aja"
   ]
  },
  {
   "cell_type": "code",
   "execution_count": 438,
   "metadata": {
    "ExecuteTime": {
     "end_time": "2020-04-24T06:46:59.410148Z",
     "start_time": "2020-04-24T06:46:59.393158Z"
    },
    "hidden": true,
    "scrolled": true
   },
   "outputs": [
    {
     "name": "stdout",
     "output_type": "stream",
     "text": [
      "Denied             17134\n",
      "Approved            8724\n",
      "Deny                7010\n",
      "Settled             6970\n",
      "Approve in Full     3165\n",
      "Name: Status, dtype: int64\n",
      "\n",
      "Denied      190\n",
      "Approved     90\n",
      "Settled      73\n",
      "Canceled     21\n",
      "Deny         16\n",
      "Name: Status, dtype: int64\n",
      "\n",
      "Denied                          12\n",
      "Approved                         8\n",
      "Settled                          3\n",
      "Closed as a contractor claim     2\n",
      "Canceled                         2\n",
      "Name: Status, dtype: int64\n"
     ]
    }
   ],
   "source": [
    "print(data['Status'].value_counts().head())\n",
    "print('')\n",
    "print(day_0['Status'].value_counts().head())\n",
    "print('')\n",
    "print(day_1000['Status'].value_counts().head())"
   ]
  },
  {
   "cell_type": "code",
   "execution_count": null,
   "metadata": {
    "hidden": true
   },
   "outputs": [],
   "source": [
    "# setelah eksplor dengan feature2 lain tidak ada pola yang jelas menyebabkan fenomena day diff seperti demikian\n",
    "\n",
    "# namun jika berangkat dari pengalaman kerja saya, kadang tgl dokumen yg tidak berkesinambungan dpt disebabkan:\n",
    "# sesederhana salah input saja, human error (claim dikirim lewat pos ke TSA yg mungkin masih manual input)\n",
    "# jumlah day_0 dan day_1000 = 478 record out of 51066 data asli\n",
    "# ini juga akumulasi data dari 2002 - 2015, 13 tahun!\n",
    "# mempertimbangkan volum claim yg TSA terima sangat besar, 40 error/tahun masih dapat diterima akal\n",
    "\n",
    "# untuk diff > 1000 mungkin ada revisi claim, berulang2, sehingga data date yg diambil yg terakhir saja\n",
    "# dan kalau berlarut2 tentu differencenya.\n",
    "# batasan untuk submit adalah 2 tahun setelah incident.\n",
    "# jika ditambah lagi hari yg terlewat untuk urusan setelahnya bisa jadi lebih lama lagi melewati 1000 hari?"
   ]
  },
  {
   "cell_type": "code",
   "execution_count": null,
   "metadata": {
    "hidden": true
   },
   "outputs": [],
   "source": []
  },
  {
   "cell_type": "markdown",
   "metadata": {
    "hidden": true
   },
   "source": [
    "Remove the $ sign (some data need even more clean up by replacing the ; sign into . sign) from the Claim Amount columns and Close Amount columns, and change those columns datatype into float datatype"
   ]
  },
  {
   "cell_type": "code",
   "execution_count": 376,
   "metadata": {
    "ExecuteTime": {
     "end_time": "2020-04-24T06:04:08.383238Z",
     "start_time": "2020-04-24T06:04:08.200347Z"
    },
    "hidden": true
   },
   "outputs": [],
   "source": [
    "data['Claim Amount'] = data['Claim Amount'].str.replace(r'[^0-9]+', '').astype('float64')\n",
    "data['Close Amount'] = data['Close Amount'].str.replace(r'[^0-9]+', '').astype('float64')"
   ]
  },
  {
   "cell_type": "markdown",
   "metadata": {
    "hidden": true
   },
   "source": [
    "Create a new columns called Amount Differences by substract the Claim Amount with Close Amount columns"
   ]
  },
  {
   "cell_type": "code",
   "execution_count": 378,
   "metadata": {
    "ExecuteTime": {
     "end_time": "2020-04-24T06:04:31.388963Z",
     "start_time": "2020-04-24T06:04:31.381967Z"
    },
    "hidden": true
   },
   "outputs": [],
   "source": [
    "data['Amount Differences'] = data['Claim Amount'] - data['Close Amount']"
   ]
  },
  {
   "cell_type": "code",
   "execution_count": 379,
   "metadata": {
    "ExecuteTime": {
     "end_time": "2020-04-24T06:04:46.105062Z",
     "start_time": "2020-04-24T06:04:46.069083Z"
    },
    "hidden": true
   },
   "outputs": [
    {
     "name": "stdout",
     "output_type": "stream",
     "text": [
      "<class 'pandas.core.frame.DataFrame'>\n",
      "RangeIndex: 51066 entries, 0 to 51065\n",
      "Data columns (total 15 columns):\n",
      " #   Column              Non-Null Count  Dtype         \n",
      "---  ------              --------------  -----         \n",
      " 0   Claim Number        51066 non-null  object        \n",
      " 1   Date Received       50996 non-null  datetime64[ns]\n",
      " 2   Incident Date       50496 non-null  datetime64[ns]\n",
      " 3   Airport Code        48915 non-null  object        \n",
      " 4   Airport Name        48915 non-null  object        \n",
      " 5   Airline Name        41470 non-null  object        \n",
      " 6   Claim Type          49035 non-null  object        \n",
      " 7   Claim Site          50817 non-null  object        \n",
      " 8   Item                48918 non-null  object        \n",
      " 9   Claim Amount        46886 non-null  float64       \n",
      " 10  Status              47877 non-null  object        \n",
      " 11  Close Amount        33786 non-null  float64       \n",
      " 12  Disposition         32846 non-null  object        \n",
      " 13  Day Differences     50460 non-null  float64       \n",
      " 14  Amount Differences  33470 non-null  float64       \n",
      "dtypes: datetime64[ns](2), float64(4), object(9)\n",
      "memory usage: 5.8+ MB\n"
     ]
    }
   ],
   "source": [
    "data.info()"
   ]
  },
  {
   "cell_type": "code",
   "execution_count": 380,
   "metadata": {
    "ExecuteTime": {
     "end_time": "2020-04-24T06:05:38.930260Z",
     "start_time": "2020-04-24T06:05:38.902278Z"
    },
    "hidden": true
   },
   "outputs": [
    {
     "data": {
      "text/html": [
       "<div>\n",
       "<style scoped>\n",
       "    .dataframe tbody tr th:only-of-type {\n",
       "        vertical-align: middle;\n",
       "    }\n",
       "\n",
       "    .dataframe tbody tr th {\n",
       "        vertical-align: top;\n",
       "    }\n",
       "\n",
       "    .dataframe thead th {\n",
       "        text-align: right;\n",
       "    }\n",
       "</style>\n",
       "<table border=\"1\" class=\"dataframe\">\n",
       "  <thead>\n",
       "    <tr style=\"text-align: right;\">\n",
       "      <th></th>\n",
       "      <th>Claim Number</th>\n",
       "      <th>Date Received</th>\n",
       "      <th>Incident Date</th>\n",
       "      <th>Airport Code</th>\n",
       "      <th>Airport Name</th>\n",
       "      <th>Airline Name</th>\n",
       "      <th>Claim Type</th>\n",
       "      <th>Claim Site</th>\n",
       "      <th>Item</th>\n",
       "      <th>Claim Amount</th>\n",
       "      <th>Status</th>\n",
       "      <th>Close Amount</th>\n",
       "      <th>Disposition</th>\n",
       "      <th>Day Differences</th>\n",
       "      <th>Amount Differences</th>\n",
       "    </tr>\n",
       "  </thead>\n",
       "  <tbody>\n",
       "    <tr>\n",
       "      <th>0</th>\n",
       "      <td>0909816M</td>\n",
       "      <td>2002-02-07</td>\n",
       "      <td>2003-01-06</td>\n",
       "      <td>MIA</td>\n",
       "      <td>Miami International Airport</td>\n",
       "      <td>American Airlines</td>\n",
       "      <td>Property Damage</td>\n",
       "      <td>Checkpoint</td>\n",
       "      <td>Luggage (all types including footlockers)</td>\n",
       "      <td>5000.0</td>\n",
       "      <td>Approved</td>\n",
       "      <td>5000.0</td>\n",
       "      <td>Approve in Full</td>\n",
       "      <td>-333.0</td>\n",
       "      <td>0.0</td>\n",
       "    </tr>\n",
       "    <tr>\n",
       "      <th>1</th>\n",
       "      <td>14268</td>\n",
       "      <td>2002-06-20</td>\n",
       "      <td>2002-06-16</td>\n",
       "      <td>PHX</td>\n",
       "      <td>Phoenix Sky Harbor International</td>\n",
       "      <td>NaN</td>\n",
       "      <td>Property Damage</td>\n",
       "      <td>Checkpoint</td>\n",
       "      <td>Computer - Laptop</td>\n",
       "      <td>227009.0</td>\n",
       "      <td>Canceled</td>\n",
       "      <td>NaN</td>\n",
       "      <td>NaN</td>\n",
       "      <td>4.0</td>\n",
       "      <td>NaN</td>\n",
       "    </tr>\n",
       "    <tr>\n",
       "      <th>2</th>\n",
       "      <td>15242</td>\n",
       "      <td>2002-07-12</td>\n",
       "      <td>2002-05-31</td>\n",
       "      <td>BWI</td>\n",
       "      <td>Baltimore/Washington Intl Thurgood Marshall</td>\n",
       "      <td>American Airlines</td>\n",
       "      <td>NaN</td>\n",
       "      <td>Other</td>\n",
       "      <td>Luggage (all types including footlockers)</td>\n",
       "      <td>20000.0</td>\n",
       "      <td>Denied</td>\n",
       "      <td>0.0</td>\n",
       "      <td>Deny</td>\n",
       "      <td>42.0</td>\n",
       "      <td>20000.0</td>\n",
       "    </tr>\n",
       "    <tr>\n",
       "      <th>3</th>\n",
       "      <td>16759</td>\n",
       "      <td>2002-08-21</td>\n",
       "      <td>2002-07-12</td>\n",
       "      <td>BWI</td>\n",
       "      <td>Baltimore/Washington Intl Thurgood Marshall</td>\n",
       "      <td>Southwest Airlines</td>\n",
       "      <td>Passenger Property Loss</td>\n",
       "      <td>Checkpoint</td>\n",
       "      <td>Other</td>\n",
       "      <td>2144.0</td>\n",
       "      <td>Approved</td>\n",
       "      <td>2100.0</td>\n",
       "      <td>Approve in Full</td>\n",
       "      <td>40.0</td>\n",
       "      <td>44.0</td>\n",
       "    </tr>\n",
       "    <tr>\n",
       "      <th>4</th>\n",
       "      <td>17846</td>\n",
       "      <td>2002-09-09</td>\n",
       "      <td>2002-08-30</td>\n",
       "      <td>BOS</td>\n",
       "      <td>Boston (Logan) International Airport</td>\n",
       "      <td>NaN</td>\n",
       "      <td>Property Damage</td>\n",
       "      <td>Checkpoint</td>\n",
       "      <td>Luggage (all types including footlockers)</td>\n",
       "      <td>183222.0</td>\n",
       "      <td>Canceled</td>\n",
       "      <td>0.0</td>\n",
       "      <td>NaN</td>\n",
       "      <td>10.0</td>\n",
       "      <td>183222.0</td>\n",
       "    </tr>\n",
       "  </tbody>\n",
       "</table>\n",
       "</div>"
      ],
      "text/plain": [
       "  Claim Number Date Received Incident Date Airport Code  \\\n",
       "0     0909816M    2002-02-07    2003-01-06          MIA   \n",
       "1        14268    2002-06-20    2002-06-16          PHX   \n",
       "2        15242    2002-07-12    2002-05-31          BWI   \n",
       "3        16759    2002-08-21    2002-07-12          BWI   \n",
       "4        17846    2002-09-09    2002-08-30          BOS   \n",
       "\n",
       "                                  Airport Name        Airline Name  \\\n",
       "0                  Miami International Airport   American Airlines   \n",
       "1             Phoenix Sky Harbor International                 NaN   \n",
       "2  Baltimore/Washington Intl Thurgood Marshall   American Airlines   \n",
       "3  Baltimore/Washington Intl Thurgood Marshall  Southwest Airlines   \n",
       "4         Boston (Logan) International Airport                 NaN   \n",
       "\n",
       "                Claim Type  Claim Site  \\\n",
       "0          Property Damage  Checkpoint   \n",
       "1          Property Damage  Checkpoint   \n",
       "2                      NaN       Other   \n",
       "3  Passenger Property Loss  Checkpoint   \n",
       "4          Property Damage  Checkpoint   \n",
       "\n",
       "                                        Item  Claim Amount    Status  \\\n",
       "0  Luggage (all types including footlockers)        5000.0  Approved   \n",
       "1                          Computer - Laptop      227009.0  Canceled   \n",
       "2  Luggage (all types including footlockers)       20000.0    Denied   \n",
       "3                                      Other        2144.0  Approved   \n",
       "4  Luggage (all types including footlockers)      183222.0  Canceled   \n",
       "\n",
       "   Close Amount      Disposition  Day Differences  Amount Differences  \n",
       "0        5000.0  Approve in Full           -333.0                 0.0  \n",
       "1           NaN              NaN              4.0                 NaN  \n",
       "2           0.0             Deny             42.0             20000.0  \n",
       "3        2100.0  Approve in Full             40.0                44.0  \n",
       "4           0.0              NaN             10.0            183222.0  "
      ]
     },
     "execution_count": 380,
     "metadata": {},
     "output_type": "execute_result"
    }
   ],
   "source": [
    "data.head()"
   ]
  },
  {
   "cell_type": "markdown",
   "metadata": {
    "ExecuteTime": {
     "end_time": "2019-10-12T13:39:07.676434Z",
     "start_time": "2019-10-12T13:39:07.603597Z"
    },
    "hidden": true
   },
   "source": [
    "Lets try to visualize it again similar to the Day Differences feature, but this time we would use the Amount Differences feature (still just drop the NaN first)"
   ]
  },
  {
   "cell_type": "code",
   "execution_count": 383,
   "metadata": {
    "ExecuteTime": {
     "end_time": "2020-04-24T06:06:53.364842Z",
     "start_time": "2020-04-24T06:06:53.060031Z"
    },
    "hidden": true
   },
   "outputs": [
    {
     "data": {
      "image/png": "[encoded data removed]",
      "text/plain": [
       "<Figure size 576x576 with 1 Axes>"
      ]
     },
     "metadata": {
      "needs_background": "light"
     },
     "output_type": "display_data"
    }
   ],
   "source": [
    "plt.figure(figsize = (8,8))\n",
    "plt.title('Amount Differences Distribution')\n",
    "sns.distplot(data['Amount Differences'].dropna())\n",
    "plt.grid()"
   ]
  },
  {
   "cell_type": "markdown",
   "metadata": {
    "hidden": true
   },
   "source": [
    "There is seems a differences in number that was way far. This time, lets use the Interquartile range (IQR) method to find the datapoint that seems to be an outlier based on the Amount Differences column, show the dataframe, and lets describe the Claim Amount and Close Amount column of the outlier dataframe based on the Amount Differences column"
   ]
  },
  {
   "cell_type": "code",
   "execution_count": 393,
   "metadata": {
    "ExecuteTime": {
     "end_time": "2020-04-24T06:18:48.495840Z",
     "start_time": "2020-04-24T06:18:48.450870Z"
    },
    "hidden": true
   },
   "outputs": [
    {
     "data": {
      "text/html": [
       "<div>\n",
       "<style scoped>\n",
       "    .dataframe tbody tr th:only-of-type {\n",
       "        vertical-align: middle;\n",
       "    }\n",
       "\n",
       "    .dataframe tbody tr th {\n",
       "        vertical-align: top;\n",
       "    }\n",
       "\n",
       "    .dataframe thead th {\n",
       "        text-align: right;\n",
       "    }\n",
       "</style>\n",
       "<table border=\"1\" class=\"dataframe\">\n",
       "  <thead>\n",
       "    <tr style=\"text-align: right;\">\n",
       "      <th></th>\n",
       "      <th>Claim Number</th>\n",
       "      <th>Date Received</th>\n",
       "      <th>Incident Date</th>\n",
       "      <th>Airport Code</th>\n",
       "      <th>Airport Name</th>\n",
       "      <th>Airline Name</th>\n",
       "      <th>Claim Type</th>\n",
       "      <th>Claim Site</th>\n",
       "      <th>Item</th>\n",
       "      <th>Claim Amount</th>\n",
       "      <th>Status</th>\n",
       "      <th>Close Amount</th>\n",
       "      <th>Disposition</th>\n",
       "      <th>Day Differences</th>\n",
       "      <th>Amount Differences</th>\n",
       "    </tr>\n",
       "  </thead>\n",
       "  <tbody>\n",
       "    <tr>\n",
       "      <th>4</th>\n",
       "      <td>17846</td>\n",
       "      <td>2002-09-09</td>\n",
       "      <td>2002-08-30 00:00:00</td>\n",
       "      <td>BOS</td>\n",
       "      <td>Boston (Logan) International Airport</td>\n",
       "      <td>NaN</td>\n",
       "      <td>Property Damage</td>\n",
       "      <td>Checkpoint</td>\n",
       "      <td>Luggage (all types including footlockers)</td>\n",
       "      <td>183222.0</td>\n",
       "      <td>Canceled</td>\n",
       "      <td>0.0</td>\n",
       "      <td>NaN</td>\n",
       "      <td>10.0</td>\n",
       "      <td>183222.0</td>\n",
       "    </tr>\n",
       "    <tr>\n",
       "      <th>13</th>\n",
       "      <td>19133</td>\n",
       "      <td>2002-10-02</td>\n",
       "      <td>2002-08-22 00:00:00</td>\n",
       "      <td>CLE</td>\n",
       "      <td>Cleveland Hopkins International</td>\n",
       "      <td>Northwest Airlines</td>\n",
       "      <td>NaN</td>\n",
       "      <td>Other</td>\n",
       "      <td>Computer - Laptop</td>\n",
       "      <td>200000.0</td>\n",
       "      <td>Denied</td>\n",
       "      <td>0.0</td>\n",
       "      <td>Deny</td>\n",
       "      <td>41.0</td>\n",
       "      <td>200000.0</td>\n",
       "    </tr>\n",
       "    <tr>\n",
       "      <th>21</th>\n",
       "      <td>18614</td>\n",
       "      <td>2002-10-17</td>\n",
       "      <td>2002-09-14 00:00:00</td>\n",
       "      <td>MCO</td>\n",
       "      <td>Orlando International Airport</td>\n",
       "      <td>American Airlines</td>\n",
       "      <td>Property Damage</td>\n",
       "      <td>Checkpoint</td>\n",
       "      <td>Computer - Laptop</td>\n",
       "      <td>200000.0</td>\n",
       "      <td>Settled</td>\n",
       "      <td>60000.0</td>\n",
       "      <td>Settle</td>\n",
       "      <td>33.0</td>\n",
       "      <td>140000.0</td>\n",
       "    </tr>\n",
       "    <tr>\n",
       "      <th>23</th>\n",
       "      <td>18356</td>\n",
       "      <td>2002-10-23</td>\n",
       "      <td>2002-09-18 00:00:00</td>\n",
       "      <td>LGA</td>\n",
       "      <td>LaGuardia</td>\n",
       "      <td>NaN</td>\n",
       "      <td>NaN</td>\n",
       "      <td>Checkpoint</td>\n",
       "      <td>Computer - Laptop</td>\n",
       "      <td>180199.0</td>\n",
       "      <td>Settled</td>\n",
       "      <td>29167.0</td>\n",
       "      <td>Settle</td>\n",
       "      <td>35.0</td>\n",
       "      <td>151032.0</td>\n",
       "    </tr>\n",
       "    <tr>\n",
       "      <th>27</th>\n",
       "      <td>21817</td>\n",
       "      <td>2002-10-29</td>\n",
       "      <td>2002-10-05 00:00:00</td>\n",
       "      <td>MCO</td>\n",
       "      <td>Orlando International Airport</td>\n",
       "      <td>Delta Air Lines</td>\n",
       "      <td>NaN</td>\n",
       "      <td>Other</td>\n",
       "      <td>Other</td>\n",
       "      <td>750000.0</td>\n",
       "      <td>Denied</td>\n",
       "      <td>0.0</td>\n",
       "      <td>Deny</td>\n",
       "      <td>24.0</td>\n",
       "      <td>750000.0</td>\n",
       "    </tr>\n",
       "    <tr>\n",
       "      <th>...</th>\n",
       "      <td>...</td>\n",
       "      <td>...</td>\n",
       "      <td>...</td>\n",
       "      <td>...</td>\n",
       "      <td>...</td>\n",
       "      <td>...</td>\n",
       "      <td>...</td>\n",
       "      <td>...</td>\n",
       "      <td>...</td>\n",
       "      <td>...</td>\n",
       "      <td>...</td>\n",
       "      <td>...</td>\n",
       "      <td>...</td>\n",
       "      <td>...</td>\n",
       "      <td>...</td>\n",
       "    </tr>\n",
       "    <tr>\n",
       "      <th>36208</th>\n",
       "      <td>2009123167012</td>\n",
       "      <td>2009-12-29</td>\n",
       "      <td>2009-12-18 00:00:00</td>\n",
       "      <td>MIA</td>\n",
       "      <td>Miami International Airport</td>\n",
       "      <td>American Airlines</td>\n",
       "      <td>Property Damage</td>\n",
       "      <td>Checked Baggage</td>\n",
       "      <td>NaN</td>\n",
       "      <td>220000.0</td>\n",
       "      <td>Denied</td>\n",
       "      <td>0.0</td>\n",
       "      <td>Deny</td>\n",
       "      <td>11.0</td>\n",
       "      <td>220000.0</td>\n",
       "    </tr>\n",
       "    <tr>\n",
       "      <th>36210</th>\n",
       "      <td>2009123167017</td>\n",
       "      <td>2009-12-29</td>\n",
       "      <td>2009-12-02 15:30:00</td>\n",
       "      <td>JFK</td>\n",
       "      <td>John F. Kennedy International</td>\n",
       "      <td>KLM Royal Dutch Airlines</td>\n",
       "      <td>Passenger Property Loss</td>\n",
       "      <td>Checked Baggage</td>\n",
       "      <td>Clothing - Shoes; belts; accessories; etc.; Co...</td>\n",
       "      <td>90000.0</td>\n",
       "      <td>Denied</td>\n",
       "      <td>0.0</td>\n",
       "      <td>Deny</td>\n",
       "      <td>26.0</td>\n",
       "      <td>90000.0</td>\n",
       "    </tr>\n",
       "    <tr>\n",
       "      <th>36213</th>\n",
       "      <td>2010010867323</td>\n",
       "      <td>2009-12-29</td>\n",
       "      <td>2009-12-21 15:15:00</td>\n",
       "      <td>CVG</td>\n",
       "      <td>Cincinnati/Northern Kentucky International</td>\n",
       "      <td>Delta Air Lines</td>\n",
       "      <td>Property Damage</td>\n",
       "      <td>Checkpoint</td>\n",
       "      <td>Computer - Laptop</td>\n",
       "      <td>124000.0</td>\n",
       "      <td>Denied</td>\n",
       "      <td>0.0</td>\n",
       "      <td>Deny</td>\n",
       "      <td>7.0</td>\n",
       "      <td>124000.0</td>\n",
       "    </tr>\n",
       "    <tr>\n",
       "      <th>36225</th>\n",
       "      <td>2009123066912</td>\n",
       "      <td>2009-12-30</td>\n",
       "      <td>2009-12-15 00:00:00</td>\n",
       "      <td>GSO</td>\n",
       "      <td>Piedmont Triad International Airport</td>\n",
       "      <td>Delta Air Lines</td>\n",
       "      <td>Property Damage</td>\n",
       "      <td>Checked Baggage</td>\n",
       "      <td>NaN</td>\n",
       "      <td>230000.0</td>\n",
       "      <td>Denied</td>\n",
       "      <td>0.0</td>\n",
       "      <td>Deny</td>\n",
       "      <td>15.0</td>\n",
       "      <td>230000.0</td>\n",
       "    </tr>\n",
       "    <tr>\n",
       "      <th>36232</th>\n",
       "      <td>2010010567146</td>\n",
       "      <td>2009-12-30</td>\n",
       "      <td>2009-12-10 06:00:00</td>\n",
       "      <td>DFW</td>\n",
       "      <td>Dallas-Fort Worth International Airport</td>\n",
       "      <td>American Airlines</td>\n",
       "      <td>Property Damage</td>\n",
       "      <td>Checkpoint</td>\n",
       "      <td>NaN</td>\n",
       "      <td>365000.0</td>\n",
       "      <td>Denied</td>\n",
       "      <td>0.0</td>\n",
       "      <td>Deny</td>\n",
       "      <td>19.0</td>\n",
       "      <td>365000.0</td>\n",
       "    </tr>\n",
       "  </tbody>\n",
       "</table>\n",
       "<p>4103 rows × 15 columns</p>\n",
       "</div>"
      ],
      "text/plain": [
       "        Claim Number Date Received       Incident Date Airport Code  \\\n",
       "4              17846    2002-09-09 2002-08-30 00:00:00          BOS   \n",
       "13             19133    2002-10-02 2002-08-22 00:00:00          CLE   \n",
       "21             18614    2002-10-17 2002-09-14 00:00:00          MCO   \n",
       "23             18356    2002-10-23 2002-09-18 00:00:00          LGA   \n",
       "27             21817    2002-10-29 2002-10-05 00:00:00          MCO   \n",
       "...              ...           ...                 ...          ...   \n",
       "36208  2009123167012    2009-12-29 2009-12-18 00:00:00          MIA   \n",
       "36210  2009123167017    2009-12-29 2009-12-02 15:30:00          JFK   \n",
       "36213  2010010867323    2009-12-29 2009-12-21 15:15:00          CVG   \n",
       "36225  2009123066912    2009-12-30 2009-12-15 00:00:00          GSO   \n",
       "36232  2010010567146    2009-12-30 2009-12-10 06:00:00          DFW   \n",
       "\n",
       "                                     Airport Name              Airline Name  \\\n",
       "4            Boston (Logan) International Airport                       NaN   \n",
       "13                Cleveland Hopkins International        Northwest Airlines   \n",
       "21                  Orlando International Airport         American Airlines   \n",
       "23                                      LaGuardia                       NaN   \n",
       "27                  Orlando International Airport           Delta Air Lines   \n",
       "...                                           ...                       ...   \n",
       "36208                 Miami International Airport         American Airlines   \n",
       "36210               John F. Kennedy International  KLM Royal Dutch Airlines   \n",
       "36213  Cincinnati/Northern Kentucky International           Delta Air Lines   \n",
       "36225        Piedmont Triad International Airport           Delta Air Lines   \n",
       "36232     Dallas-Fort Worth International Airport         American Airlines   \n",
       "\n",
       "                    Claim Type       Claim Site  \\\n",
       "4              Property Damage       Checkpoint   \n",
       "13                         NaN            Other   \n",
       "21             Property Damage       Checkpoint   \n",
       "23                         NaN       Checkpoint   \n",
       "27                         NaN            Other   \n",
       "...                        ...              ...   \n",
       "36208          Property Damage  Checked Baggage   \n",
       "36210  Passenger Property Loss  Checked Baggage   \n",
       "36213          Property Damage       Checkpoint   \n",
       "36225          Property Damage  Checked Baggage   \n",
       "36232          Property Damage       Checkpoint   \n",
       "\n",
       "                                                    Item  Claim Amount  \\\n",
       "4              Luggage (all types including footlockers)      183222.0   \n",
       "13                                     Computer - Laptop      200000.0   \n",
       "21                                     Computer - Laptop      200000.0   \n",
       "23                                     Computer - Laptop      180199.0   \n",
       "27                                                 Other      750000.0   \n",
       "...                                                  ...           ...   \n",
       "36208                                                NaN      220000.0   \n",
       "36210  Clothing - Shoes; belts; accessories; etc.; Co...       90000.0   \n",
       "36213                                  Computer - Laptop      124000.0   \n",
       "36225                                                NaN      230000.0   \n",
       "36232                                                NaN      365000.0   \n",
       "\n",
       "         Status  Close Amount Disposition  Day Differences  Amount Differences  \n",
       "4      Canceled           0.0         NaN             10.0            183222.0  \n",
       "13       Denied           0.0        Deny             41.0            200000.0  \n",
       "21      Settled       60000.0      Settle             33.0            140000.0  \n",
       "23      Settled       29167.0      Settle             35.0            151032.0  \n",
       "27       Denied           0.0        Deny             24.0            750000.0  \n",
       "...         ...           ...         ...              ...                 ...  \n",
       "36208    Denied           0.0        Deny             11.0            220000.0  \n",
       "36210    Denied           0.0        Deny             26.0             90000.0  \n",
       "36213    Denied           0.0        Deny              7.0            124000.0  \n",
       "36225    Denied           0.0        Deny             15.0            230000.0  \n",
       "36232    Denied           0.0        Deny             19.0            365000.0  \n",
       "\n",
       "[4103 rows x 15 columns]"
      ]
     },
     "execution_count": 393,
     "metadata": {},
     "output_type": "execute_result"
    }
   ],
   "source": [
    "q1_amt = data['Amount Differences'].describe()['25%']\n",
    "q3_amt = data['Amount Differences'].describe()['75%']\n",
    "iqr_amt = q3_amt - q1_amt\n",
    "\n",
    "out_amt = data[(data['Amount Differences'] < q1_amt - 1.5*iqr_amt) | (data['Amount Differences'] > q3_amt + 1.5*iqr_amt)]\n",
    "out_amt"
   ]
  },
  {
   "cell_type": "code",
   "execution_count": 394,
   "metadata": {
    "ExecuteTime": {
     "end_time": "2020-04-24T06:18:52.954006Z",
     "start_time": "2020-04-24T06:18:52.943012Z"
    },
    "hidden": true
   },
   "outputs": [
    {
     "data": {
      "text/plain": [
       "count    4.103000e+03\n",
       "mean     4.164579e+06\n",
       "std      1.954354e+08\n",
       "min      8.510100e+04\n",
       "25%      1.214375e+05\n",
       "50%      1.821750e+05\n",
       "75%      3.000000e+05\n",
       "max      1.250000e+10\n",
       "Name: Claim Amount, dtype: float64"
      ]
     },
     "execution_count": 394,
     "metadata": {},
     "output_type": "execute_result"
    }
   ],
   "source": [
    "out_amt['Claim Amount'].describe()"
   ]
  },
  {
   "cell_type": "code",
   "execution_count": 395,
   "metadata": {
    "ExecuteTime": {
     "end_time": "2020-04-24T06:18:53.332865Z",
     "start_time": "2020-04-24T06:18:53.322870Z"
    },
    "hidden": true
   },
   "outputs": [
    {
     "data": {
      "text/plain": [
       "count    4.103000e+03\n",
       "mean     1.146136e+04\n",
       "std      6.865218e+04\n",
       "min      0.000000e+00\n",
       "25%      0.000000e+00\n",
       "50%      0.000000e+00\n",
       "75%      0.000000e+00\n",
       "max      2.000000e+06\n",
       "Name: Close Amount, dtype: float64"
      ]
     },
     "execution_count": 395,
     "metadata": {},
     "output_type": "execute_result"
    }
   ],
   "source": [
    "out_amt['Close Amount'].describe()"
   ]
  },
  {
   "cell_type": "markdown",
   "metadata": {
    "hidden": true
   },
   "source": [
    "It seems that Claim Amount feature really affecting lot of the differences that happen as 75% outlier data that in the Close Amount feature is still 0.\n",
    "\n",
    "## Question\n",
    "\n",
    "I assume that many of this big differences happen because these people tend to request for bigger money than what it should be. Do you agree or disagree with my assumption (With an assumption that not outlier is have normal amount differences and outlier have a really big amount differences)? why? Try to explain it with the data "
   ]
  },
  {
   "cell_type": "code",
   "execution_count": 407,
   "metadata": {
    "ExecuteTime": {
     "end_time": "2020-04-24T06:28:01.941624Z",
     "start_time": "2020-04-24T06:28:01.924634Z"
    },
    "hidden": true
   },
   "outputs": [],
   "source": [
    "# \"The claim must be SUM CERTAIN - This means that an exact U.S. Dollar Amount must be entered\n",
    "# Purchase receipt of the ORIGINAL item lost or damaged.\n",
    "# (If unavailable; credit card statements, bank statements, appraisals, etc.) \"\n",
    "# src: TSA\n",
    "\n",
    "not_out_amt = data[~(data['Amount Differences'] < q1_amt - 1.5*iqr_amt) | (data['Amount Differences'] > q3_amt + 1.5*iqr_amt)]"
   ]
  },
  {
   "cell_type": "code",
   "execution_count": 409,
   "metadata": {
    "ExecuteTime": {
     "end_time": "2020-04-24T06:28:13.499885Z",
     "start_time": "2020-04-24T06:28:12.987203Z"
    },
    "hidden": true
   },
   "outputs": [
    {
     "data": {
      "image/png": "[encoded data removed]",
      "text/plain": [
       "<Figure size 432x288 with 1 Axes>"
      ]
     },
     "metadata": {
      "needs_background": "light"
     },
     "output_type": "display_data"
    },
    {
     "data": {
      "image/png": "[encoded data removed]",
      "text/plain": [
       "<Figure size 432x288 with 1 Axes>"
      ]
     },
     "metadata": {
      "needs_background": "light"
     },
     "output_type": "display_data"
    }
   ],
   "source": [
    "sns.distplot(not_out_amt['Amount Differences'].dropna())\n",
    "plt.show()\n",
    "sns.distplot(out_amt['Amount Differences'].dropna())\n",
    "plt.show()\n",
    "\n",
    "# skew"
   ]
  },
  {
   "cell_type": "code",
   "execution_count": 410,
   "metadata": {
    "ExecuteTime": {
     "end_time": "2020-04-24T06:28:21.760591Z",
     "start_time": "2020-04-24T06:28:21.727613Z"
    },
    "hidden": true,
    "scrolled": true
   },
   "outputs": [
    {
     "data": {
      "text/html": [
       "<div>\n",
       "<style scoped>\n",
       "    .dataframe tbody tr th:only-of-type {\n",
       "        vertical-align: middle;\n",
       "    }\n",
       "\n",
       "    .dataframe tbody tr th {\n",
       "        vertical-align: top;\n",
       "    }\n",
       "\n",
       "    .dataframe thead th {\n",
       "        text-align: right;\n",
       "    }\n",
       "</style>\n",
       "<table border=\"1\" class=\"dataframe\">\n",
       "  <thead>\n",
       "    <tr style=\"text-align: right;\">\n",
       "      <th></th>\n",
       "      <th>Claim Amount</th>\n",
       "      <th>Close Amount</th>\n",
       "      <th>Amount Differences</th>\n",
       "    </tr>\n",
       "  </thead>\n",
       "  <tbody>\n",
       "    <tr>\n",
       "      <th>count</th>\n",
       "      <td>4.688600e+04</td>\n",
       "      <td>3.378600e+04</td>\n",
       "      <td>3.347000e+04</td>\n",
       "    </tr>\n",
       "    <tr>\n",
       "      <th>mean</th>\n",
       "      <td>4.407323e+05</td>\n",
       "      <td>1.018412e+04</td>\n",
       "      <td>5.217843e+05</td>\n",
       "    </tr>\n",
       "    <tr>\n",
       "      <th>std</th>\n",
       "      <td>5.807553e+07</td>\n",
       "      <td>1.468609e+05</td>\n",
       "      <td>6.843299e+07</td>\n",
       "    </tr>\n",
       "    <tr>\n",
       "      <th>min</th>\n",
       "      <td>0.000000e+00</td>\n",
       "      <td>0.000000e+00</td>\n",
       "      <td>-4.311000e+04</td>\n",
       "    </tr>\n",
       "    <tr>\n",
       "      <th>25%</th>\n",
       "      <td>2.702250e+03</td>\n",
       "      <td>0.000000e+00</td>\n",
       "      <td>0.000000e+00</td>\n",
       "    </tr>\n",
       "    <tr>\n",
       "      <th>50%</th>\n",
       "      <td>1.135100e+04</td>\n",
       "      <td>0.000000e+00</td>\n",
       "      <td>9.629000e+03</td>\n",
       "    </tr>\n",
       "    <tr>\n",
       "      <th>75%</th>\n",
       "      <td>3.495775e+04</td>\n",
       "      <td>7.000000e+03</td>\n",
       "      <td>3.400000e+04</td>\n",
       "    </tr>\n",
       "    <tr>\n",
       "      <th>max</th>\n",
       "      <td>1.250000e+10</td>\n",
       "      <td>2.500000e+07</td>\n",
       "      <td>1.250000e+10</td>\n",
       "    </tr>\n",
       "  </tbody>\n",
       "</table>\n",
       "</div>"
      ],
      "text/plain": [
       "       Claim Amount  Close Amount  Amount Differences\n",
       "count  4.688600e+04  3.378600e+04        3.347000e+04\n",
       "mean   4.407323e+05  1.018412e+04        5.217843e+05\n",
       "std    5.807553e+07  1.468609e+05        6.843299e+07\n",
       "min    0.000000e+00  0.000000e+00       -4.311000e+04\n",
       "25%    2.702250e+03  0.000000e+00        0.000000e+00\n",
       "50%    1.135100e+04  0.000000e+00        9.629000e+03\n",
       "75%    3.495775e+04  7.000000e+03        3.400000e+04\n",
       "max    1.250000e+10  2.500000e+07        1.250000e+10"
      ]
     },
     "execution_count": 410,
     "metadata": {},
     "output_type": "execute_result"
    }
   ],
   "source": [
    "not_out_amt[['Claim Amount', 'Close Amount', 'Amount Differences']].describe()\n",
    "\n",
    "# median $ 9,629"
   ]
  },
  {
   "cell_type": "code",
   "execution_count": 400,
   "metadata": {
    "ExecuteTime": {
     "end_time": "2020-04-24T06:25:06.651348Z",
     "start_time": "2020-04-24T06:25:06.625363Z"
    },
    "hidden": true
   },
   "outputs": [
    {
     "data": {
      "text/html": [
       "<div>\n",
       "<style scoped>\n",
       "    .dataframe tbody tr th:only-of-type {\n",
       "        vertical-align: middle;\n",
       "    }\n",
       "\n",
       "    .dataframe tbody tr th {\n",
       "        vertical-align: top;\n",
       "    }\n",
       "\n",
       "    .dataframe thead th {\n",
       "        text-align: right;\n",
       "    }\n",
       "</style>\n",
       "<table border=\"1\" class=\"dataframe\">\n",
       "  <thead>\n",
       "    <tr style=\"text-align: right;\">\n",
       "      <th></th>\n",
       "      <th>Claim Amount</th>\n",
       "      <th>Close Amount</th>\n",
       "      <th>Amount Differences</th>\n",
       "    </tr>\n",
       "  </thead>\n",
       "  <tbody>\n",
       "    <tr>\n",
       "      <th>count</th>\n",
       "      <td>4.103000e+03</td>\n",
       "      <td>4.103000e+03</td>\n",
       "      <td>4.103000e+03</td>\n",
       "    </tr>\n",
       "    <tr>\n",
       "      <th>mean</th>\n",
       "      <td>4.164579e+06</td>\n",
       "      <td>1.146136e+04</td>\n",
       "      <td>4.153118e+06</td>\n",
       "    </tr>\n",
       "    <tr>\n",
       "      <th>std</th>\n",
       "      <td>1.954354e+08</td>\n",
       "      <td>6.865218e+04</td>\n",
       "      <td>1.954356e+08</td>\n",
       "    </tr>\n",
       "    <tr>\n",
       "      <th>min</th>\n",
       "      <td>8.510100e+04</td>\n",
       "      <td>0.000000e+00</td>\n",
       "      <td>8.510100e+04</td>\n",
       "    </tr>\n",
       "    <tr>\n",
       "      <th>25%</th>\n",
       "      <td>1.214375e+05</td>\n",
       "      <td>0.000000e+00</td>\n",
       "      <td>1.181440e+05</td>\n",
       "    </tr>\n",
       "    <tr>\n",
       "      <th>50%</th>\n",
       "      <td>1.821750e+05</td>\n",
       "      <td>0.000000e+00</td>\n",
       "      <td>1.700000e+05</td>\n",
       "    </tr>\n",
       "    <tr>\n",
       "      <th>75%</th>\n",
       "      <td>3.000000e+05</td>\n",
       "      <td>0.000000e+00</td>\n",
       "      <td>2.860625e+05</td>\n",
       "    </tr>\n",
       "    <tr>\n",
       "      <th>max</th>\n",
       "      <td>1.250000e+10</td>\n",
       "      <td>2.000000e+06</td>\n",
       "      <td>1.250000e+10</td>\n",
       "    </tr>\n",
       "  </tbody>\n",
       "</table>\n",
       "</div>"
      ],
      "text/plain": [
       "       Claim Amount  Close Amount  Amount Differences\n",
       "count  4.103000e+03  4.103000e+03        4.103000e+03\n",
       "mean   4.164579e+06  1.146136e+04        4.153118e+06\n",
       "std    1.954354e+08  6.865218e+04        1.954356e+08\n",
       "min    8.510100e+04  0.000000e+00        8.510100e+04\n",
       "25%    1.214375e+05  0.000000e+00        1.181440e+05\n",
       "50%    1.821750e+05  0.000000e+00        1.700000e+05\n",
       "75%    3.000000e+05  0.000000e+00        2.860625e+05\n",
       "max    1.250000e+10  2.000000e+06        1.250000e+10"
      ]
     },
     "execution_count": 400,
     "metadata": {},
     "output_type": "execute_result"
    }
   ],
   "source": [
    "out_amt[['Claim Amount', 'Close Amount', 'Amount Differences']].describe()\n",
    "\n",
    "# median $ 170,000 17x lebih besar daripada non outliers"
   ]
  },
  {
   "cell_type": "code",
   "execution_count": 412,
   "metadata": {
    "ExecuteTime": {
     "end_time": "2020-04-24T06:29:36.841345Z",
     "start_time": "2020-04-24T06:29:36.825354Z"
    },
    "hidden": true
   },
   "outputs": [
    {
     "name": "stdout",
     "output_type": "stream",
     "text": [
      "Denied             17134\n",
      "Approved            8724\n",
      "Deny                7010\n",
      "Settled             6970\n",
      "Approve in Full     3165\n",
      "Name: Status, dtype: int64\n",
      "\n",
      "Denied                          3450\n",
      "Settled                          413\n",
      "Canceled                         178\n",
      "Closed as a contractor claim      60\n",
      "Approved                           2\n",
      "Name: Status, dtype: int64\n"
     ]
    }
   ],
   "source": [
    "# check the status, assuming outliers contain outrageously large claims --> majority should be rejected by TSA\n",
    "# compare\n",
    "\n",
    "print(not_out_amt['Status'].value_counts().head())\n",
    "print('')\n",
    "print(out_amt['Status'].value_counts())\n",
    "\n",
    "# turns out approved claims for outlier group is only 2 out of 4103 records wow"
   ]
  },
  {
   "cell_type": "code",
   "execution_count": 432,
   "metadata": {
    "ExecuteTime": {
     "end_time": "2020-04-24T06:44:37.057415Z",
     "start_time": "2020-04-24T06:44:36.674654Z"
    },
    "hidden": true,
    "scrolled": true
   },
   "outputs": [
    {
     "data": {
      "image/png": "[encoded data removed]",
      "text/plain": [
       "<Figure size 432x288 with 1 Axes>"
      ]
     },
     "metadata": {
      "needs_background": "light"
     },
     "output_type": "display_data"
    },
    {
     "data": {
      "image/png": "[encoded data removed]",
      "text/plain": [
       "<Figure size 432x288 with 1 Axes>"
      ]
     },
     "metadata": {
      "needs_background": "light"
     },
     "output_type": "display_data"
    }
   ],
   "source": [
    "# coba visualisasi jumlah kasusnya\n",
    "\n",
    "sns.countplot(not_out_amt['Status'])\n",
    "plt.xticks(rotation = 45)\n",
    "plt.show()\n",
    "\n",
    "sns.countplot(out_amt['Status'])\n",
    "plt.xticks(rotation = 45)\n",
    "plt.show()"
   ]
  },
  {
   "cell_type": "code",
   "execution_count": 425,
   "metadata": {
    "ExecuteTime": {
     "end_time": "2020-04-24T06:39:56.461656Z",
     "start_time": "2020-04-24T06:39:56.447666Z"
    },
    "hidden": true
   },
   "outputs": [
    {
     "data": {
      "text/plain": [
       "33.552657345396156"
      ]
     },
     "execution_count": 425,
     "metadata": {},
     "output_type": "execute_result"
    }
   ],
   "source": [
    "not_out_amt['Status'].value_counts()['Denied']/len(not_out_amt)*100"
   ]
  },
  {
   "cell_type": "code",
   "execution_count": 426,
   "metadata": {
    "ExecuteTime": {
     "end_time": "2020-04-24T06:40:00.161440Z",
     "start_time": "2020-04-24T06:40:00.153445Z"
    },
    "hidden": true
   },
   "outputs": [
    {
     "data": {
      "text/plain": [
       "84.08481598830124"
      ]
     },
     "execution_count": 426,
     "metadata": {},
     "output_type": "execute_result"
    }
   ],
   "source": [
    "out_amt['Status'].value_counts()['Denied']/len(out_amt)*100"
   ]
  },
  {
   "cell_type": "code",
   "execution_count": 427,
   "metadata": {
    "ExecuteTime": {
     "end_time": "2020-04-24T06:40:45.745277Z",
     "start_time": "2020-04-24T06:40:45.742280Z"
    },
    "hidden": true
   },
   "outputs": [],
   "source": [
    "# Denied karena TSA merasa claimnya tidak valid\n",
    "# pada group outlier yang denied JAUH lebih banyak daripada non-outlier\n",
    "\n",
    "# pada guideline TSA juga disebutkan statement CC, mutasi bank, appraisal bisa menjadi reference claim amt\n",
    "# sedangkan pasti sangat jarang amt yg disettle TSA mengikuti harga perolehan barang, krn pertimbangan depresiasi\n",
    "# (barang secondhand dihargai di bawah harga belinya)"
   ]
  },
  {
   "cell_type": "code",
   "execution_count": 449,
   "metadata": {
    "ExecuteTime": {
     "end_time": "2020-04-24T07:35:21.508412Z",
     "start_time": "2020-04-24T07:35:21.501416Z"
    },
    "hidden": true
   },
   "outputs": [
    {
     "data": {
      "text/plain": [
       "4153117.6858396297"
      ]
     },
     "execution_count": 449,
     "metadata": {},
     "output_type": "execute_result"
    }
   ],
   "source": [
    "np.mean(out_amt['Claim Amount'] - out_amt['Close Amount'])\n",
    "\n",
    "# secara kasar selisihnya sangat fantastis $ 4,153,118"
   ]
  },
  {
   "cell_type": "code",
   "execution_count": 450,
   "metadata": {
    "ExecuteTime": {
     "end_time": "2020-04-24T07:35:57.197516Z",
     "start_time": "2020-04-24T07:35:57.189521Z"
    },
    "hidden": true
   },
   "outputs": [
    {
     "data": {
      "text/plain": [
       "521784.33400059753"
      ]
     },
     "execution_count": 450,
     "metadata": {},
     "output_type": "execute_result"
    }
   ],
   "source": [
    "np.mean(not_out_amt['Claim Amount'] - not_out_amt['Close Amount'])\n",
    "\n",
    "# dibandingkan non outlier, dia lebih besar hampir 8x!"
   ]
  },
  {
   "cell_type": "markdown",
   "metadata": {},
   "source": [
    "## Analysis\n",
    "\n",
    "We have try to cleaning some of the data that we have, and now we could try to done few analysis from the data we had. Try to answer this following question.\n",
    "\n",
    "### Question\n",
    "\n",
    "1. Is there Any relationship between the Airport and/or the Airline with the number of the claim that happen and the Claim Type? Also why is there a NaN in the Claim Type column?\n",
    "\n",
    "1. If you realize, there is many different classes in the Status and Disposition column. What pattern you could find in these 2 columns because of this classes variation? is there any relation with the other columns?"
   ]
  },
  {
   "cell_type": "markdown",
   "metadata": {
    "heading_collapsed": true
   },
   "source": [
    "#### Jawab no 1"
   ]
  },
  {
   "cell_type": "code",
   "execution_count": null,
   "metadata": {
    "hidden": true
   },
   "outputs": [],
   "source": [
    "# bisa dicari jumlah kasus tertinggi untuk identifikasi di airport mana/airline apa lebih probable\n",
    "# mengalami musibah & harus claim ke TSA"
   ]
  },
  {
   "cell_type": "code",
   "execution_count": 515,
   "metadata": {
    "ExecuteTime": {
     "end_time": "2020-04-24T08:14:23.922711Z",
     "start_time": "2020-04-24T08:14:19.752297Z"
    },
    "hidden": true
   },
   "outputs": [
    {
     "data": {
      "text/plain": [
       "<matplotlib.axes._subplots.AxesSubplot at 0x1b2054a7a48>"
      ]
     },
     "execution_count": 515,
     "metadata": {},
     "output_type": "execute_result"
    },
    {
     "data": {
      "image/png": "[encoded data removed]",
      "text/plain": [
       "<Figure size 1440x1440 with 1 Axes>"
      ]
     },
     "metadata": {
      "needs_background": "light"
     },
     "output_type": "display_data"
    }
   ],
   "source": [
    "plt.figure(figsize = (20, 20))\n",
    "sns.countplot(data['Airport Code'])"
   ]
  },
  {
   "cell_type": "code",
   "execution_count": 490,
   "metadata": {
    "ExecuteTime": {
     "end_time": "2020-04-24T08:01:26.362924Z",
     "start_time": "2020-04-24T08:01:26.348932Z"
    },
    "hidden": true,
    "scrolled": true
   },
   "outputs": [
    {
     "data": {
      "text/plain": [
       "LAX    2379\n",
       "JFK    2286\n",
       "EWR    1747\n",
       "ORD    1712\n",
       "MCO    1633\n",
       "MIA    1613\n",
       "ATL    1525\n",
       "SEA    1330\n",
       "LAS    1278\n",
       "PHX    1267\n",
       "Name: Airport Code, dtype: int64"
      ]
     },
     "execution_count": 490,
     "metadata": {},
     "output_type": "execute_result"
    }
   ],
   "source": [
    "# cari top 10 airport by number of claims\n",
    "\n",
    "data['Airport Code'].value_counts().head(10)"
   ]
  },
  {
   "cell_type": "code",
   "execution_count": 513,
   "metadata": {
    "ExecuteTime": {
     "end_time": "2020-04-24T08:13:53.873344Z",
     "start_time": "2020-04-24T08:13:50.329540Z"
    },
    "hidden": true
   },
   "outputs": [
    {
     "data": {
      "text/plain": [
       "<matplotlib.axes._subplots.AxesSubplot at 0x1b2039dd4c8>"
      ]
     },
     "execution_count": 513,
     "metadata": {},
     "output_type": "execute_result"
    },
    {
     "data": {
      "image/png": "[encoded data removed]",
      "text/plain": [
       "<Figure size 1440x1440 with 1 Axes>"
      ]
     },
     "metadata": {
      "needs_background": "light"
     },
     "output_type": "display_data"
    }
   ],
   "source": [
    "plt.figure(figsize = (20, 20))\n",
    "sns.countplot(data['Airline Name'])"
   ]
  },
  {
   "cell_type": "code",
   "execution_count": 562,
   "metadata": {
    "ExecuteTime": {
     "end_time": "2020-04-24T08:42:41.529861Z",
     "start_time": "2020-04-24T08:42:41.516868Z"
    },
    "hidden": true
   },
   "outputs": [
    {
     "data": {
      "text/plain": [
       "American Airlines       4377\n",
       "Delta Air Lines         4371\n",
       "UAL                     3507\n",
       "Southwest Airlines      3258\n",
       "Continental Airlines    2363\n",
       "USAir                   2359\n",
       "Northwest Airlines      2311\n",
       "Delta Air Lines         2074\n",
       "Southwest Airlines      1899\n",
       "Jet Blue                1780\n",
       "Name: Airline Name, dtype: int64"
      ]
     },
     "execution_count": 562,
     "metadata": {},
     "output_type": "execute_result"
    }
   ],
   "source": [
    "# cari top 10 airport by number of claims\n",
    "\n",
    "data['Airline Name'].value_counts().head(10)"
   ]
  },
  {
   "cell_type": "code",
   "execution_count": 519,
   "metadata": {
    "ExecuteTime": {
     "end_time": "2020-04-24T08:15:59.272940Z",
     "start_time": "2020-04-24T08:15:59.210981Z"
    },
    "hidden": true
   },
   "outputs": [
    {
     "data": {
      "text/html": [
       "<div>\n",
       "<style scoped>\n",
       "    .dataframe tbody tr th:only-of-type {\n",
       "        vertical-align: middle;\n",
       "    }\n",
       "\n",
       "    .dataframe tbody tr th {\n",
       "        vertical-align: top;\n",
       "    }\n",
       "\n",
       "    .dataframe thead th {\n",
       "        text-align: right;\n",
       "    }\n",
       "</style>\n",
       "<table border=\"1\" class=\"dataframe\">\n",
       "  <thead>\n",
       "    <tr style=\"text-align: right;\">\n",
       "      <th></th>\n",
       "      <th>Airline Name</th>\n",
       "      <th>Airport Name</th>\n",
       "      <th>Amount Differences</th>\n",
       "      <th>Claim Amount</th>\n",
       "      <th>Claim Number</th>\n",
       "      <th>Claim Site</th>\n",
       "      <th>Claim Type</th>\n",
       "      <th>Close Amount</th>\n",
       "      <th>Date Received</th>\n",
       "      <th>Day Differences</th>\n",
       "      <th>Disposition</th>\n",
       "      <th>Incident Date</th>\n",
       "      <th>Item</th>\n",
       "      <th>Status</th>\n",
       "    </tr>\n",
       "    <tr>\n",
       "      <th>Airport Code</th>\n",
       "      <th></th>\n",
       "      <th></th>\n",
       "      <th></th>\n",
       "      <th></th>\n",
       "      <th></th>\n",
       "      <th></th>\n",
       "      <th></th>\n",
       "      <th></th>\n",
       "      <th></th>\n",
       "      <th></th>\n",
       "      <th></th>\n",
       "      <th></th>\n",
       "      <th></th>\n",
       "      <th></th>\n",
       "    </tr>\n",
       "  </thead>\n",
       "  <tbody>\n",
       "    <tr>\n",
       "      <th>ABE</th>\n",
       "      <td>25</td>\n",
       "      <td>31</td>\n",
       "      <td>22</td>\n",
       "      <td>30</td>\n",
       "      <td>31</td>\n",
       "      <td>31</td>\n",
       "      <td>30</td>\n",
       "      <td>22</td>\n",
       "      <td>31</td>\n",
       "      <td>31</td>\n",
       "      <td>22</td>\n",
       "      <td>31</td>\n",
       "      <td>28</td>\n",
       "      <td>30</td>\n",
       "    </tr>\n",
       "    <tr>\n",
       "      <th>ABI</th>\n",
       "      <td>8</td>\n",
       "      <td>11</td>\n",
       "      <td>5</td>\n",
       "      <td>8</td>\n",
       "      <td>11</td>\n",
       "      <td>11</td>\n",
       "      <td>10</td>\n",
       "      <td>5</td>\n",
       "      <td>11</td>\n",
       "      <td>11</td>\n",
       "      <td>5</td>\n",
       "      <td>11</td>\n",
       "      <td>11</td>\n",
       "      <td>8</td>\n",
       "    </tr>\n",
       "    <tr>\n",
       "      <th>ABQ</th>\n",
       "      <td>181</td>\n",
       "      <td>225</td>\n",
       "      <td>160</td>\n",
       "      <td>206</td>\n",
       "      <td>225</td>\n",
       "      <td>224</td>\n",
       "      <td>216</td>\n",
       "      <td>163</td>\n",
       "      <td>225</td>\n",
       "      <td>225</td>\n",
       "      <td>157</td>\n",
       "      <td>225</td>\n",
       "      <td>221</td>\n",
       "      <td>210</td>\n",
       "    </tr>\n",
       "    <tr>\n",
       "      <th>ABR</th>\n",
       "      <td>7</td>\n",
       "      <td>9</td>\n",
       "      <td>4</td>\n",
       "      <td>7</td>\n",
       "      <td>9</td>\n",
       "      <td>9</td>\n",
       "      <td>8</td>\n",
       "      <td>4</td>\n",
       "      <td>9</td>\n",
       "      <td>9</td>\n",
       "      <td>4</td>\n",
       "      <td>9</td>\n",
       "      <td>9</td>\n",
       "      <td>7</td>\n",
       "    </tr>\n",
       "    <tr>\n",
       "      <th>ABY</th>\n",
       "      <td>10</td>\n",
       "      <td>10</td>\n",
       "      <td>7</td>\n",
       "      <td>10</td>\n",
       "      <td>10</td>\n",
       "      <td>10</td>\n",
       "      <td>10</td>\n",
       "      <td>7</td>\n",
       "      <td>10</td>\n",
       "      <td>10</td>\n",
       "      <td>6</td>\n",
       "      <td>10</td>\n",
       "      <td>10</td>\n",
       "      <td>10</td>\n",
       "    </tr>\n",
       "    <tr>\n",
       "      <th>...</th>\n",
       "      <td>...</td>\n",
       "      <td>...</td>\n",
       "      <td>...</td>\n",
       "      <td>...</td>\n",
       "      <td>...</td>\n",
       "      <td>...</td>\n",
       "      <td>...</td>\n",
       "      <td>...</td>\n",
       "      <td>...</td>\n",
       "      <td>...</td>\n",
       "      <td>...</td>\n",
       "      <td>...</td>\n",
       "      <td>...</td>\n",
       "      <td>...</td>\n",
       "    </tr>\n",
       "    <tr>\n",
       "      <th>YKM</th>\n",
       "      <td>11</td>\n",
       "      <td>11</td>\n",
       "      <td>4</td>\n",
       "      <td>8</td>\n",
       "      <td>11</td>\n",
       "      <td>11</td>\n",
       "      <td>11</td>\n",
       "      <td>4</td>\n",
       "      <td>11</td>\n",
       "      <td>11</td>\n",
       "      <td>4</td>\n",
       "      <td>11</td>\n",
       "      <td>10</td>\n",
       "      <td>8</td>\n",
       "    </tr>\n",
       "    <tr>\n",
       "      <th>YNG</th>\n",
       "      <td>4</td>\n",
       "      <td>4</td>\n",
       "      <td>1</td>\n",
       "      <td>3</td>\n",
       "      <td>4</td>\n",
       "      <td>4</td>\n",
       "      <td>4</td>\n",
       "      <td>1</td>\n",
       "      <td>4</td>\n",
       "      <td>4</td>\n",
       "      <td>1</td>\n",
       "      <td>4</td>\n",
       "      <td>4</td>\n",
       "      <td>3</td>\n",
       "    </tr>\n",
       "    <tr>\n",
       "      <th>YUM</th>\n",
       "      <td>7</td>\n",
       "      <td>7</td>\n",
       "      <td>0</td>\n",
       "      <td>6</td>\n",
       "      <td>7</td>\n",
       "      <td>7</td>\n",
       "      <td>7</td>\n",
       "      <td>0</td>\n",
       "      <td>7</td>\n",
       "      <td>7</td>\n",
       "      <td>0</td>\n",
       "      <td>7</td>\n",
       "      <td>6</td>\n",
       "      <td>6</td>\n",
       "    </tr>\n",
       "    <tr>\n",
       "      <th>ZZX</th>\n",
       "      <td>0</td>\n",
       "      <td>67</td>\n",
       "      <td>11</td>\n",
       "      <td>43</td>\n",
       "      <td>67</td>\n",
       "      <td>67</td>\n",
       "      <td>64</td>\n",
       "      <td>11</td>\n",
       "      <td>67</td>\n",
       "      <td>67</td>\n",
       "      <td>9</td>\n",
       "      <td>67</td>\n",
       "      <td>21</td>\n",
       "      <td>45</td>\n",
       "    </tr>\n",
       "    <tr>\n",
       "      <th>ZZZ</th>\n",
       "      <td>0</td>\n",
       "      <td>4</td>\n",
       "      <td>0</td>\n",
       "      <td>1</td>\n",
       "      <td>4</td>\n",
       "      <td>4</td>\n",
       "      <td>4</td>\n",
       "      <td>0</td>\n",
       "      <td>4</td>\n",
       "      <td>4</td>\n",
       "      <td>0</td>\n",
       "      <td>4</td>\n",
       "      <td>0</td>\n",
       "      <td>1</td>\n",
       "    </tr>\n",
       "  </tbody>\n",
       "</table>\n",
       "<p>404 rows × 14 columns</p>\n",
       "</div>"
      ],
      "text/plain": [
       "              Airline Name  Airport Name  Amount Differences  Claim Amount  \\\n",
       "Airport Code                                                                 \n",
       "ABE                     25            31                  22            30   \n",
       "ABI                      8            11                   5             8   \n",
       "ABQ                    181           225                 160           206   \n",
       "ABR                      7             9                   4             7   \n",
       "ABY                     10            10                   7            10   \n",
       "...                    ...           ...                 ...           ...   \n",
       "YKM                     11            11                   4             8   \n",
       "YNG                      4             4                   1             3   \n",
       "YUM                      7             7                   0             6   \n",
       "ZZX                      0            67                  11            43   \n",
       "ZZZ                      0             4                   0             1   \n",
       "\n",
       "              Claim Number  Claim Site  Claim Type  Close Amount  \\\n",
       "Airport Code                                                       \n",
       "ABE                     31          31          30            22   \n",
       "ABI                     11          11          10             5   \n",
       "ABQ                    225         224         216           163   \n",
       "ABR                      9           9           8             4   \n",
       "ABY                     10          10          10             7   \n",
       "...                    ...         ...         ...           ...   \n",
       "YKM                     11          11          11             4   \n",
       "YNG                      4           4           4             1   \n",
       "YUM                      7           7           7             0   \n",
       "ZZX                     67          67          64            11   \n",
       "ZZZ                      4           4           4             0   \n",
       "\n",
       "              Date Received  Day Differences  Disposition  Incident Date  \\\n",
       "Airport Code                                                               \n",
       "ABE                      31               31           22             31   \n",
       "ABI                      11               11            5             11   \n",
       "ABQ                     225              225          157            225   \n",
       "ABR                       9                9            4              9   \n",
       "ABY                      10               10            6             10   \n",
       "...                     ...              ...          ...            ...   \n",
       "YKM                      11               11            4             11   \n",
       "YNG                       4                4            1              4   \n",
       "YUM                       7                7            0              7   \n",
       "ZZX                      67               67            9             67   \n",
       "ZZZ                       4                4            0              4   \n",
       "\n",
       "              Item  Status  \n",
       "Airport Code                \n",
       "ABE             28      30  \n",
       "ABI             11       8  \n",
       "ABQ            221     210  \n",
       "ABR              9       7  \n",
       "ABY             10      10  \n",
       "...            ...     ...  \n",
       "YKM             10       8  \n",
       "YNG              4       3  \n",
       "YUM              6       6  \n",
       "ZZX             21      45  \n",
       "ZZZ              0       1  \n",
       "\n",
       "[404 rows x 14 columns]"
      ]
     },
     "execution_count": 519,
     "metadata": {},
     "output_type": "execute_result"
    }
   ],
   "source": [
    "pd.pivot_table(data, index = 'Airport Code', aggfunc = 'count')"
   ]
  },
  {
   "cell_type": "code",
   "execution_count": 559,
   "metadata": {
    "ExecuteTime": {
     "end_time": "2020-04-24T08:39:52.080693Z",
     "start_time": "2020-04-24T08:39:52.062705Z"
    },
    "hidden": true
   },
   "outputs": [
    {
     "data": {
      "text/plain": [
       "Passenger Property Loss    29713\n",
       "Property Damage            18590\n",
       "Personal Injury              394\n",
       "Passenger Theft              115\n",
       "Employee Loss (MPCECA)       114\n",
       "Motor Vehicle                 96\n",
       "Complaint                     13\n",
       "Name: Claim Type, dtype: int64"
      ]
     },
     "execution_count": 559,
     "metadata": {},
     "output_type": "execute_result"
    }
   ],
   "source": [
    "data['Claim Type'].value_counts()\n",
    "\n",
    "# menjelaskan jenis kerugian dipimpin dgn kehilangan/kerusakan brg pribadi"
   ]
  },
  {
   "cell_type": "code",
   "execution_count": 485,
   "metadata": {
    "ExecuteTime": {
     "end_time": "2020-04-24T07:56:06.713685Z",
     "start_time": "2020-04-24T07:56:06.671711Z"
    },
    "hidden": true
   },
   "outputs": [
    {
     "data": {
      "text/html": [
       "<div>\n",
       "<style scoped>\n",
       "    .dataframe tbody tr th:only-of-type {\n",
       "        vertical-align: middle;\n",
       "    }\n",
       "\n",
       "    .dataframe tbody tr th {\n",
       "        vertical-align: top;\n",
       "    }\n",
       "\n",
       "    .dataframe thead th {\n",
       "        text-align: right;\n",
       "    }\n",
       "</style>\n",
       "<table border=\"1\" class=\"dataframe\">\n",
       "  <thead>\n",
       "    <tr style=\"text-align: right;\">\n",
       "      <th></th>\n",
       "      <th>Claim Number</th>\n",
       "      <th>Date Received</th>\n",
       "      <th>Incident Date</th>\n",
       "      <th>Airport Code</th>\n",
       "      <th>Airport Name</th>\n",
       "      <th>Airline Name</th>\n",
       "      <th>Claim Type</th>\n",
       "      <th>Claim Site</th>\n",
       "      <th>Item</th>\n",
       "      <th>Claim Amount</th>\n",
       "      <th>Status</th>\n",
       "      <th>Close Amount</th>\n",
       "      <th>Disposition</th>\n",
       "      <th>Day Differences</th>\n",
       "      <th>Amount Differences</th>\n",
       "    </tr>\n",
       "  </thead>\n",
       "  <tbody>\n",
       "    <tr>\n",
       "      <th>2</th>\n",
       "      <td>15242</td>\n",
       "      <td>2002-07-12</td>\n",
       "      <td>2002-05-31</td>\n",
       "      <td>BWI</td>\n",
       "      <td>Baltimore/Washington Intl Thurgood Marshall</td>\n",
       "      <td>American Airlines</td>\n",
       "      <td>NaN</td>\n",
       "      <td>Other</td>\n",
       "      <td>Luggage (all types including footlockers)</td>\n",
       "      <td>20000.0</td>\n",
       "      <td>Denied</td>\n",
       "      <td>0.0</td>\n",
       "      <td>Deny</td>\n",
       "      <td>42.0</td>\n",
       "      <td>20000.0</td>\n",
       "    </tr>\n",
       "    <tr>\n",
       "      <th>6</th>\n",
       "      <td>18202</td>\n",
       "      <td>2002-09-16</td>\n",
       "      <td>2002-08-12</td>\n",
       "      <td>BWI</td>\n",
       "      <td>Baltimore/Washington Intl Thurgood Marshall</td>\n",
       "      <td>NaN</td>\n",
       "      <td>NaN</td>\n",
       "      <td>Checkpoint</td>\n",
       "      <td>Computer - Laptop</td>\n",
       "      <td>67800.0</td>\n",
       "      <td>Approved</td>\n",
       "      <td>67800.0</td>\n",
       "      <td>Approve in Full</td>\n",
       "      <td>35.0</td>\n",
       "      <td>0.0</td>\n",
       "    </tr>\n",
       "    <tr>\n",
       "      <th>7</th>\n",
       "      <td>16961</td>\n",
       "      <td>2002-09-18</td>\n",
       "      <td>2002-08-05</td>\n",
       "      <td>NaN</td>\n",
       "      <td>NaN</td>\n",
       "      <td>Delta Air Lines</td>\n",
       "      <td>NaN</td>\n",
       "      <td>Checked Baggage</td>\n",
       "      <td>Other</td>\n",
       "      <td>17500.0</td>\n",
       "      <td>Settled</td>\n",
       "      <td>17199.0</td>\n",
       "      <td>Settle</td>\n",
       "      <td>44.0</td>\n",
       "      <td>301.0</td>\n",
       "    </tr>\n",
       "    <tr>\n",
       "      <th>8</th>\n",
       "      <td>18394</td>\n",
       "      <td>2002-09-20</td>\n",
       "      <td>2002-08-12</td>\n",
       "      <td>BWI</td>\n",
       "      <td>Baltimore/Washington Intl Thurgood Marshall</td>\n",
       "      <td>Southwest Airlines</td>\n",
       "      <td>NaN</td>\n",
       "      <td>Checkpoint</td>\n",
       "      <td>Other</td>\n",
       "      <td>15000.0</td>\n",
       "      <td>Denied</td>\n",
       "      <td>0.0</td>\n",
       "      <td>Deny</td>\n",
       "      <td>39.0</td>\n",
       "      <td>15000.0</td>\n",
       "    </tr>\n",
       "    <tr>\n",
       "      <th>11</th>\n",
       "      <td>0616760L</td>\n",
       "      <td>2002-09-26</td>\n",
       "      <td>NaT</td>\n",
       "      <td>NaN</td>\n",
       "      <td>NaN</td>\n",
       "      <td>NaN</td>\n",
       "      <td>NaN</td>\n",
       "      <td>Other</td>\n",
       "      <td>Locks</td>\n",
       "      <td>NaN</td>\n",
       "      <td>Insufficient; one of the following items requi...</td>\n",
       "      <td>NaN</td>\n",
       "      <td>NaN</td>\n",
       "      <td>NaN</td>\n",
       "      <td>NaN</td>\n",
       "    </tr>\n",
       "    <tr>\n",
       "      <th>...</th>\n",
       "      <td>...</td>\n",
       "      <td>...</td>\n",
       "      <td>...</td>\n",
       "      <td>...</td>\n",
       "      <td>...</td>\n",
       "      <td>...</td>\n",
       "      <td>...</td>\n",
       "      <td>...</td>\n",
       "      <td>...</td>\n",
       "      <td>...</td>\n",
       "      <td>...</td>\n",
       "      <td>...</td>\n",
       "      <td>...</td>\n",
       "      <td>...</td>\n",
       "      <td>...</td>\n",
       "    </tr>\n",
       "    <tr>\n",
       "      <th>49785</th>\n",
       "      <td>2015011519916</td>\n",
       "      <td>2015-01-15</td>\n",
       "      <td>2014-11-24</td>\n",
       "      <td>JFK</td>\n",
       "      <td>John F. Kennedy International</td>\n",
       "      <td>American Airlines</td>\n",
       "      <td>NaN</td>\n",
       "      <td>Checked Baggage</td>\n",
       "      <td>Personal Accessories</td>\n",
       "      <td>NaN</td>\n",
       "      <td>NaN</td>\n",
       "      <td>NaN</td>\n",
       "      <td>NaN</td>\n",
       "      <td>52.0</td>\n",
       "      <td>NaN</td>\n",
       "    </tr>\n",
       "    <tr>\n",
       "      <th>50526</th>\n",
       "      <td>2015111826966</td>\n",
       "      <td>2015-11-18</td>\n",
       "      <td>2015-10-25</td>\n",
       "      <td>ORD</td>\n",
       "      <td>Chicago O'Hare International Airport</td>\n",
       "      <td>LOT Polish Airlines</td>\n",
       "      <td>NaN</td>\n",
       "      <td>Checked Baggage</td>\n",
       "      <td>Personal Electronics</td>\n",
       "      <td>NaN</td>\n",
       "      <td>NaN</td>\n",
       "      <td>NaN</td>\n",
       "      <td>NaN</td>\n",
       "      <td>24.0</td>\n",
       "      <td>NaN</td>\n",
       "    </tr>\n",
       "    <tr>\n",
       "      <th>50915</th>\n",
       "      <td>2015092825664</td>\n",
       "      <td>2015-09-11</td>\n",
       "      <td>2015-06-02</td>\n",
       "      <td>SJU</td>\n",
       "      <td>Luis Munoz Marin International</td>\n",
       "      <td>NaN</td>\n",
       "      <td>NaN</td>\n",
       "      <td>NaN</td>\n",
       "      <td>Personal Accessories</td>\n",
       "      <td>NaN</td>\n",
       "      <td>NaN</td>\n",
       "      <td>NaN</td>\n",
       "      <td>NaN</td>\n",
       "      <td>101.0</td>\n",
       "      <td>NaN</td>\n",
       "    </tr>\n",
       "    <tr>\n",
       "      <th>50931</th>\n",
       "      <td>2015081924982</td>\n",
       "      <td>2015-08-17</td>\n",
       "      <td>2015-06-28</td>\n",
       "      <td>SLC</td>\n",
       "      <td>Salt Lake City International Airport</td>\n",
       "      <td>USAir</td>\n",
       "      <td>NaN</td>\n",
       "      <td>Checkpoint</td>\n",
       "      <td>Personal Accessories</td>\n",
       "      <td>NaN</td>\n",
       "      <td>NaN</td>\n",
       "      <td>NaN</td>\n",
       "      <td>NaN</td>\n",
       "      <td>50.0</td>\n",
       "      <td>NaN</td>\n",
       "    </tr>\n",
       "    <tr>\n",
       "      <th>51059</th>\n",
       "      <td>2015100625929</td>\n",
       "      <td>2015-10-06</td>\n",
       "      <td>2015-09-08</td>\n",
       "      <td>NaN</td>\n",
       "      <td>NaN</td>\n",
       "      <td>NaN</td>\n",
       "      <td>NaN</td>\n",
       "      <td>NaN</td>\n",
       "      <td>NaN</td>\n",
       "      <td>NaN</td>\n",
       "      <td>NaN</td>\n",
       "      <td>NaN</td>\n",
       "      <td>NaN</td>\n",
       "      <td>28.0</td>\n",
       "      <td>NaN</td>\n",
       "    </tr>\n",
       "  </tbody>\n",
       "</table>\n",
       "<p>2031 rows × 15 columns</p>\n",
       "</div>"
      ],
      "text/plain": [
       "        Claim Number Date Received Incident Date Airport Code  \\\n",
       "2              15242    2002-07-12    2002-05-31          BWI   \n",
       "6              18202    2002-09-16    2002-08-12          BWI   \n",
       "7              16961    2002-09-18    2002-08-05          NaN   \n",
       "8              18394    2002-09-20    2002-08-12          BWI   \n",
       "11          0616760L    2002-09-26           NaT          NaN   \n",
       "...              ...           ...           ...          ...   \n",
       "49785  2015011519916    2015-01-15    2014-11-24          JFK   \n",
       "50526  2015111826966    2015-11-18    2015-10-25          ORD   \n",
       "50915  2015092825664    2015-09-11    2015-06-02          SJU   \n",
       "50931  2015081924982    2015-08-17    2015-06-28          SLC   \n",
       "51059  2015100625929    2015-10-06    2015-09-08          NaN   \n",
       "\n",
       "                                      Airport Name         Airline Name  \\\n",
       "2      Baltimore/Washington Intl Thurgood Marshall    American Airlines   \n",
       "6      Baltimore/Washington Intl Thurgood Marshall                  NaN   \n",
       "7                                              NaN      Delta Air Lines   \n",
       "8      Baltimore/Washington Intl Thurgood Marshall   Southwest Airlines   \n",
       "11                                             NaN                  NaN   \n",
       "...                                            ...                  ...   \n",
       "49785                John F. Kennedy International    American Airlines   \n",
       "50526         Chicago O'Hare International Airport  LOT Polish Airlines   \n",
       "50915               Luis Munoz Marin International                  NaN   \n",
       "50931         Salt Lake City International Airport                USAir   \n",
       "51059                                          NaN                  NaN   \n",
       "\n",
       "      Claim Type       Claim Site                                       Item  \\\n",
       "2            NaN            Other  Luggage (all types including footlockers)   \n",
       "6            NaN       Checkpoint                          Computer - Laptop   \n",
       "7            NaN  Checked Baggage                                      Other   \n",
       "8            NaN       Checkpoint                                      Other   \n",
       "11           NaN            Other                                      Locks   \n",
       "...          ...              ...                                        ...   \n",
       "49785        NaN  Checked Baggage                       Personal Accessories   \n",
       "50526        NaN  Checked Baggage                       Personal Electronics   \n",
       "50915        NaN              NaN                       Personal Accessories   \n",
       "50931        NaN       Checkpoint                       Personal Accessories   \n",
       "51059        NaN              NaN                                        NaN   \n",
       "\n",
       "       Claim Amount                                             Status  \\\n",
       "2           20000.0                                             Denied   \n",
       "6           67800.0                                           Approved   \n",
       "7           17500.0                                            Settled   \n",
       "8           15000.0                                             Denied   \n",
       "11              NaN  Insufficient; one of the following items requi...   \n",
       "...             ...                                                ...   \n",
       "49785           NaN                                                NaN   \n",
       "50526           NaN                                                NaN   \n",
       "50915           NaN                                                NaN   \n",
       "50931           NaN                                                NaN   \n",
       "51059           NaN                                                NaN   \n",
       "\n",
       "       Close Amount      Disposition  Day Differences  Amount Differences  \n",
       "2               0.0             Deny             42.0             20000.0  \n",
       "6           67800.0  Approve in Full             35.0                 0.0  \n",
       "7           17199.0           Settle             44.0               301.0  \n",
       "8               0.0             Deny             39.0             15000.0  \n",
       "11              NaN              NaN              NaN                 NaN  \n",
       "...             ...              ...              ...                 ...  \n",
       "49785           NaN              NaN             52.0                 NaN  \n",
       "50526           NaN              NaN             24.0                 NaN  \n",
       "50915           NaN              NaN            101.0                 NaN  \n",
       "50931           NaN              NaN             50.0                 NaN  \n",
       "51059           NaN              NaN             28.0                 NaN  \n",
       "\n",
       "[2031 rows x 15 columns]"
      ]
     },
     "execution_count": 485,
     "metadata": {},
     "output_type": "execute_result"
    }
   ],
   "source": [
    "data[data['Claim Type'].isna()]"
   ]
  },
  {
   "cell_type": "code",
   "execution_count": 476,
   "metadata": {
    "ExecuteTime": {
     "end_time": "2020-04-24T07:50:27.667480Z",
     "start_time": "2020-04-24T07:50:27.647493Z"
    },
    "hidden": true,
    "scrolled": true
   },
   "outputs": [
    {
     "name": "stdout",
     "output_type": "stream",
     "text": [
      "<class 'pandas.core.frame.DataFrame'>\n",
      "Int64Index: 2031 entries, 2 to 51059\n",
      "Data columns (total 15 columns):\n",
      " #   Column              Non-Null Count  Dtype         \n",
      "---  ------              --------------  -----         \n",
      " 0   Claim Number        2031 non-null   object        \n",
      " 1   Date Received       1996 non-null   datetime64[ns]\n",
      " 2   Incident Date       1649 non-null   datetime64[ns]\n",
      " 3   Airport Code        1484 non-null   object        \n",
      " 4   Airport Name        1484 non-null   object        \n",
      " 5   Airline Name        1028 non-null   object        \n",
      " 6   Claim Type          0 non-null      object        \n",
      " 7   Claim Site          1901 non-null   object        \n",
      " 8   Item                1877 non-null   object        \n",
      " 9   Claim Amount        1558 non-null   float64       \n",
      " 10  Status              1979 non-null   object        \n",
      " 11  Close Amount        1535 non-null   float64       \n",
      " 12  Disposition         1460 non-null   object        \n",
      " 13  Day Differences     1647 non-null   float64       \n",
      " 14  Amount Differences  1343 non-null   float64       \n",
      "dtypes: datetime64[ns](2), float64(4), object(9)\n",
      "memory usage: 253.9+ KB\n"
     ]
    }
   ],
   "source": [
    "# cek claim type NaN, 2031 record\n",
    "\n",
    "data[data['Claim Type'].isna()].info()"
   ]
  },
  {
   "cell_type": "code",
   "execution_count": 481,
   "metadata": {
    "ExecuteTime": {
     "end_time": "2020-04-24T07:51:44.453114Z",
     "start_time": "2020-04-24T07:51:44.437125Z"
    },
    "hidden": true
   },
   "outputs": [
    {
     "data": {
      "text/plain": [
       "Claim Type            2031\n",
       "Airline Name          1003\n",
       "Amount Differences     688\n",
       "Disposition            571\n",
       "Airport Name           547\n",
       "Airport Code           547\n",
       "Close Amount           496\n",
       "Claim Amount           473\n",
       "Day Differences        384\n",
       "Incident Date          382\n",
       "dtype: int64"
      ]
     },
     "execution_count": 481,
     "metadata": {},
     "output_type": "execute_result"
    }
   ],
   "source": [
    "data[data['Claim Type'].isna()].isna().sum().sort_values(ascending = False).head(10)\n",
    "\n",
    "# nah claim type yg kosong biasanya disertai dengan \n",
    "# airline name, dispotition, airport name, airport code, amounts, incident date juga kosong (tidak lengkap)\n",
    "# yang status, claim amt nya kosong apalagi bisa dipertimbangkan utk didrop krn tidak useful"
   ]
  },
  {
   "cell_type": "code",
   "execution_count": 487,
   "metadata": {
    "ExecuteTime": {
     "end_time": "2020-04-24T07:57:57.049607Z",
     "start_time": "2020-04-24T07:57:57.035614Z"
    },
    "hidden": true,
    "scrolled": true
   },
   "outputs": [
    {
     "data": {
      "text/plain": [
       "Other                                                           563\n",
       "Luggage (all types including footlockers)                       268\n",
       "Clothing - Shoes; belts; accessories; etc.                      257\n",
       "Jewelry - Fine                                                  192\n",
       "Cameras - Digital                                               145\n",
       "Locks                                                            83\n",
       "Eyeglasses - (including contact lenses)                          62\n",
       "Computer - Laptop                                                60\n",
       "Cosmetics - Perfume; toilet articles; medicines; soaps; etc.     53\n",
       "Currency                                                         44\n",
       "Name: Item, dtype: int64"
      ]
     },
     "execution_count": 487,
     "metadata": {},
     "output_type": "execute_result"
    }
   ],
   "source": [
    "data[data['Claim Type'].isna()]['Item'].value_counts().head(10)"
   ]
  },
  {
   "cell_type": "code",
   "execution_count": 484,
   "metadata": {
    "ExecuteTime": {
     "end_time": "2020-04-24T07:54:36.280825Z",
     "start_time": "2020-04-24T07:54:36.265835Z"
    },
    "hidden": true,
    "scrolled": true
   },
   "outputs": [
    {
     "data": {
      "text/plain": [
       "Denied                                                                                                                           519\n",
       "Settled                                                                                                                          514\n",
       "Approved                                                                                                                         427\n",
       "Canceled                                                                                                                         285\n",
       "Insufficient; one of the following items required: sum certain; statement of fact; signature; location of incident; and date.    206\n",
       "Deny                                                                                                                              11\n",
       "Closed as a contractor claim                                                                                                       6\n",
       "Settle                                                                                                                             5\n",
       "Approve in Full                                                                                                                    4\n",
       "Claim entered                                                                                                                      2\n",
       "Name: Status, dtype: int64"
      ]
     },
     "execution_count": 484,
     "metadata": {},
     "output_type": "execute_result"
    }
   ],
   "source": [
    "data[data['Claim Type'].isna()]['Status'].value_counts()\n",
    "\n",
    "# banyak yg dideny"
   ]
  },
  {
   "cell_type": "code",
   "execution_count": 504,
   "metadata": {
    "ExecuteTime": {
     "end_time": "2020-04-24T08:10:07.621133Z",
     "start_time": "2020-04-24T08:10:07.604143Z"
    },
    "hidden": true
   },
   "outputs": [],
   "source": [
    "import scipy.stats as ss\n",
    "\n",
    "#Correlation measurement untuk data discrete dan continuous\n",
    "def correlation_ratio(categories, measurements):\n",
    "    fcat, _ = pd.factorize(categories)\n",
    "    cat_num = np.max(fcat)+1\n",
    "    y_avg_array = np.zeros(cat_num)\n",
    "    n_array = np.zeros(cat_num)\n",
    "    for i in range(0,cat_num):\n",
    "        cat_measures = measurements[np.argwhere(fcat == i).flatten()]\n",
    "        n_array[i] = len(cat_measures)\n",
    "        y_avg_array[i] = np.average(cat_measures)\n",
    "    y_total_avg = np.sum(np.multiply(y_avg_array,n_array))/np.sum(n_array)\n",
    "    numerator = np.sum(np.multiply(n_array,np.power(np.subtract(y_avg_array,y_total_avg),2)))\n",
    "    denominator = np.sum(np.power(np.subtract(measurements,y_total_avg),2))\n",
    "    if numerator == 0:\n",
    "        eta = 0.0\n",
    "    else:\n",
    "        eta = np.sqrt(numerator/denominator)\n",
    "    return eta\n",
    "\n",
    "#Correlation measurement untuk data discrete dan discrete\n",
    "def cramers_v(x, y):\n",
    "    confusion_matrix = pd.crosstab(x,y)\n",
    "    chi2 = ss.chi2_contingency(confusion_matrix)[0]\n",
    "    n = confusion_matrix.sum().sum()\n",
    "    phi2 = chi2/n\n",
    "    r,k = confusion_matrix.shape\n",
    "    phi2corr = max(0, phi2-((k-1)*(r-1))/(n-1))\n",
    "    rcorr = r-((r-1)**2)/(n-1)\n",
    "    kcorr = k-((k-1)**2)/(n-1)\n",
    "    return np.sqrt(phi2corr/min((kcorr-1),(rcorr-1)))"
   ]
  },
  {
   "cell_type": "code",
   "execution_count": 553,
   "metadata": {
    "ExecuteTime": {
     "end_time": "2020-04-24T08:36:19.431436Z",
     "start_time": "2020-04-24T08:36:19.403456Z"
    },
    "hidden": true
   },
   "outputs": [
    {
     "data": {
      "text/html": [
       "<div>\n",
       "<style scoped>\n",
       "    .dataframe tbody tr th:only-of-type {\n",
       "        vertical-align: middle;\n",
       "    }\n",
       "\n",
       "    .dataframe tbody tr th {\n",
       "        vertical-align: top;\n",
       "    }\n",
       "\n",
       "    .dataframe thead th {\n",
       "        text-align: right;\n",
       "    }\n",
       "</style>\n",
       "<table border=\"1\" class=\"dataframe\">\n",
       "  <thead>\n",
       "    <tr style=\"text-align: right;\">\n",
       "      <th></th>\n",
       "      <th>Airport Code</th>\n",
       "      <th>Airline Name</th>\n",
       "      <th>Claim Amount</th>\n",
       "    </tr>\n",
       "  </thead>\n",
       "  <tbody>\n",
       "    <tr>\n",
       "      <th>0</th>\n",
       "      <td>MIA</td>\n",
       "      <td>American Airlines</td>\n",
       "      <td>5000.0</td>\n",
       "    </tr>\n",
       "    <tr>\n",
       "      <th>2</th>\n",
       "      <td>BWI</td>\n",
       "      <td>American Airlines</td>\n",
       "      <td>20000.0</td>\n",
       "    </tr>\n",
       "    <tr>\n",
       "      <th>3</th>\n",
       "      <td>BWI</td>\n",
       "      <td>Southwest Airlines</td>\n",
       "      <td>2144.0</td>\n",
       "    </tr>\n",
       "    <tr>\n",
       "      <th>8</th>\n",
       "      <td>BWI</td>\n",
       "      <td>Southwest Airlines</td>\n",
       "      <td>15000.0</td>\n",
       "    </tr>\n",
       "    <tr>\n",
       "      <th>9</th>\n",
       "      <td>PHL</td>\n",
       "      <td>Delta Air Lines</td>\n",
       "      <td>5000000.0</td>\n",
       "    </tr>\n",
       "    <tr>\n",
       "      <th>...</th>\n",
       "      <td>...</td>\n",
       "      <td>...</td>\n",
       "      <td>...</td>\n",
       "    </tr>\n",
       "    <tr>\n",
       "      <th>51033</th>\n",
       "      <td>TYS</td>\n",
       "      <td>Delta Air Lines</td>\n",
       "      <td>2500.0</td>\n",
       "    </tr>\n",
       "    <tr>\n",
       "      <th>51034</th>\n",
       "      <td>TYS</td>\n",
       "      <td>Delta Air Lines</td>\n",
       "      <td>0.0</td>\n",
       "    </tr>\n",
       "    <tr>\n",
       "      <th>51036</th>\n",
       "      <td>YKM</td>\n",
       "      <td>American Airlines</td>\n",
       "      <td>18999.0</td>\n",
       "    </tr>\n",
       "    <tr>\n",
       "      <th>51037</th>\n",
       "      <td>YNG</td>\n",
       "      <td>Allegiant Air</td>\n",
       "      <td>10600.0</td>\n",
       "    </tr>\n",
       "    <tr>\n",
       "      <th>51038</th>\n",
       "      <td>YUM</td>\n",
       "      <td>USAir</td>\n",
       "      <td>14999.0</td>\n",
       "    </tr>\n",
       "  </tbody>\n",
       "</table>\n",
       "<p>37677 rows × 3 columns</p>\n",
       "</div>"
      ],
      "text/plain": [
       "      Airport Code        Airline Name  Claim Amount\n",
       "0              MIA   American Airlines        5000.0\n",
       "2              BWI   American Airlines       20000.0\n",
       "3              BWI  Southwest Airlines        2144.0\n",
       "8              BWI  Southwest Airlines       15000.0\n",
       "9              PHL     Delta Air Lines     5000000.0\n",
       "...            ...                 ...           ...\n",
       "51033          TYS     Delta Air Lines        2500.0\n",
       "51034          TYS     Delta Air Lines           0.0\n",
       "51036          YKM   American Airlines       18999.0\n",
       "51037          YNG       Allegiant Air       10600.0\n",
       "51038          YUM               USAir       14999.0\n",
       "\n",
       "[37677 rows x 3 columns]"
      ]
     },
     "execution_count": 553,
     "metadata": {},
     "output_type": "execute_result"
    }
   ],
   "source": [
    "# untuk bisa dites statistik harus bersihin NA\n",
    "\n",
    "cln = data[['Airport Code', 'Airline Name', 'Claim Amount']].dropna(how = 'any')\n",
    "cln"
   ]
  },
  {
   "cell_type": "code",
   "execution_count": 554,
   "metadata": {
    "ExecuteTime": {
     "end_time": "2020-04-24T08:36:20.211932Z",
     "start_time": "2020-04-24T08:36:20.163961Z"
    },
    "hidden": true,
    "scrolled": true
   },
   "outputs": [
    {
     "ename": "KeyError",
     "evalue": "'Passing list-likes to .loc or [] with any missing labels is no longer supported, see https://pandas.pydata.org/pandas-docs/stable/user_guide/indexing.html#deprecate-loc-reindex-listlike'",
     "output_type": "error",
     "traceback": [
      "\u001b[1;31m---------------------------------------------------------------------------\u001b[0m",
      "\u001b[1;31mKeyError\u001b[0m                                  Traceback (most recent call last)",
      "\u001b[1;32m<ipython-input-554-2fdeff3b2abc>\u001b[0m in \u001b[0;36m<module>\u001b[1;34m\u001b[0m\n\u001b[1;32m----> 1\u001b[1;33m \u001b[0mcorrelation_ratio\u001b[0m\u001b[1;33m(\u001b[0m\u001b[0mcln\u001b[0m\u001b[1;33m[\u001b[0m\u001b[1;34m'Airport Code'\u001b[0m\u001b[1;33m]\u001b[0m\u001b[1;33m,\u001b[0m \u001b[0mcln\u001b[0m\u001b[1;33m[\u001b[0m\u001b[1;34m'Claim Amount'\u001b[0m\u001b[1;33m]\u001b[0m\u001b[1;33m)\u001b[0m\u001b[1;33m\u001b[0m\u001b[1;33m\u001b[0m\u001b[0m\n\u001b[0m",
      "\u001b[1;32m<ipython-input-504-39bc54b685d1>\u001b[0m in \u001b[0;36mcorrelation_ratio\u001b[1;34m(categories, measurements)\u001b[0m\n\u001b[0;32m      8\u001b[0m     \u001b[0mn_array\u001b[0m \u001b[1;33m=\u001b[0m \u001b[0mnp\u001b[0m\u001b[1;33m.\u001b[0m\u001b[0mzeros\u001b[0m\u001b[1;33m(\u001b[0m\u001b[0mcat_num\u001b[0m\u001b[1;33m)\u001b[0m\u001b[1;33m\u001b[0m\u001b[1;33m\u001b[0m\u001b[0m\n\u001b[0;32m      9\u001b[0m     \u001b[1;32mfor\u001b[0m \u001b[0mi\u001b[0m \u001b[1;32min\u001b[0m \u001b[0mrange\u001b[0m\u001b[1;33m(\u001b[0m\u001b[1;36m0\u001b[0m\u001b[1;33m,\u001b[0m\u001b[0mcat_num\u001b[0m\u001b[1;33m)\u001b[0m\u001b[1;33m:\u001b[0m\u001b[1;33m\u001b[0m\u001b[1;33m\u001b[0m\u001b[0m\n\u001b[1;32m---> 10\u001b[1;33m         \u001b[0mcat_measures\u001b[0m \u001b[1;33m=\u001b[0m \u001b[0mmeasurements\u001b[0m\u001b[1;33m[\u001b[0m\u001b[0mnp\u001b[0m\u001b[1;33m.\u001b[0m\u001b[0margwhere\u001b[0m\u001b[1;33m(\u001b[0m\u001b[0mfcat\u001b[0m \u001b[1;33m==\u001b[0m \u001b[0mi\u001b[0m\u001b[1;33m)\u001b[0m\u001b[1;33m.\u001b[0m\u001b[0mflatten\u001b[0m\u001b[1;33m(\u001b[0m\u001b[1;33m)\u001b[0m\u001b[1;33m]\u001b[0m\u001b[1;33m\u001b[0m\u001b[1;33m\u001b[0m\u001b[0m\n\u001b[0m\u001b[0;32m     11\u001b[0m         \u001b[0mn_array\u001b[0m\u001b[1;33m[\u001b[0m\u001b[0mi\u001b[0m\u001b[1;33m]\u001b[0m \u001b[1;33m=\u001b[0m \u001b[0mlen\u001b[0m\u001b[1;33m(\u001b[0m\u001b[0mcat_measures\u001b[0m\u001b[1;33m)\u001b[0m\u001b[1;33m\u001b[0m\u001b[1;33m\u001b[0m\u001b[0m\n\u001b[0;32m     12\u001b[0m         \u001b[0my_avg_array\u001b[0m\u001b[1;33m[\u001b[0m\u001b[0mi\u001b[0m\u001b[1;33m]\u001b[0m \u001b[1;33m=\u001b[0m \u001b[0mnp\u001b[0m\u001b[1;33m.\u001b[0m\u001b[0maverage\u001b[0m\u001b[1;33m(\u001b[0m\u001b[0mcat_measures\u001b[0m\u001b[1;33m)\u001b[0m\u001b[1;33m\u001b[0m\u001b[1;33m\u001b[0m\u001b[0m\n",
      "\u001b[1;32m~\\anaconda3\\lib\\site-packages\\pandas\\core\\series.py\u001b[0m in \u001b[0;36m__getitem__\u001b[1;34m(self, key)\u001b[0m\n\u001b[0;32m    908\u001b[0m             \u001b[0mkey\u001b[0m \u001b[1;33m=\u001b[0m \u001b[0mcheck_bool_indexer\u001b[0m\u001b[1;33m(\u001b[0m\u001b[0mself\u001b[0m\u001b[1;33m.\u001b[0m\u001b[0mindex\u001b[0m\u001b[1;33m,\u001b[0m \u001b[0mkey\u001b[0m\u001b[1;33m)\u001b[0m\u001b[1;33m\u001b[0m\u001b[1;33m\u001b[0m\u001b[0m\n\u001b[0;32m    909\u001b[0m \u001b[1;33m\u001b[0m\u001b[0m\n\u001b[1;32m--> 910\u001b[1;33m         \u001b[1;32mreturn\u001b[0m \u001b[0mself\u001b[0m\u001b[1;33m.\u001b[0m\u001b[0m_get_with\u001b[0m\u001b[1;33m(\u001b[0m\u001b[0mkey\u001b[0m\u001b[1;33m)\u001b[0m\u001b[1;33m\u001b[0m\u001b[1;33m\u001b[0m\u001b[0m\n\u001b[0m\u001b[0;32m    911\u001b[0m \u001b[1;33m\u001b[0m\u001b[0m\n\u001b[0;32m    912\u001b[0m     \u001b[1;32mdef\u001b[0m \u001b[0m_get_with\u001b[0m\u001b[1;33m(\u001b[0m\u001b[0mself\u001b[0m\u001b[1;33m,\u001b[0m \u001b[0mkey\u001b[0m\u001b[1;33m)\u001b[0m\u001b[1;33m:\u001b[0m\u001b[1;33m\u001b[0m\u001b[1;33m\u001b[0m\u001b[0m\n",
      "\u001b[1;32m~\\anaconda3\\lib\\site-packages\\pandas\\core\\series.py\u001b[0m in \u001b[0;36m_get_with\u001b[1;34m(self, key)\u001b[0m\n\u001b[0;32m    941\u001b[0m         \u001b[1;32mif\u001b[0m \u001b[0mkey_type\u001b[0m \u001b[1;33m==\u001b[0m \u001b[1;34m\"integer\"\u001b[0m\u001b[1;33m:\u001b[0m\u001b[1;33m\u001b[0m\u001b[1;33m\u001b[0m\u001b[0m\n\u001b[0;32m    942\u001b[0m             \u001b[1;32mif\u001b[0m \u001b[0mself\u001b[0m\u001b[1;33m.\u001b[0m\u001b[0mindex\u001b[0m\u001b[1;33m.\u001b[0m\u001b[0mis_integer\u001b[0m\u001b[1;33m(\u001b[0m\u001b[1;33m)\u001b[0m \u001b[1;32mor\u001b[0m \u001b[0mself\u001b[0m\u001b[1;33m.\u001b[0m\u001b[0mindex\u001b[0m\u001b[1;33m.\u001b[0m\u001b[0mis_floating\u001b[0m\u001b[1;33m(\u001b[0m\u001b[1;33m)\u001b[0m\u001b[1;33m:\u001b[0m\u001b[1;33m\u001b[0m\u001b[1;33m\u001b[0m\u001b[0m\n\u001b[1;32m--> 943\u001b[1;33m                 \u001b[1;32mreturn\u001b[0m \u001b[0mself\u001b[0m\u001b[1;33m.\u001b[0m\u001b[0mloc\u001b[0m\u001b[1;33m[\u001b[0m\u001b[0mkey\u001b[0m\u001b[1;33m]\u001b[0m\u001b[1;33m\u001b[0m\u001b[1;33m\u001b[0m\u001b[0m\n\u001b[0m\u001b[0;32m    944\u001b[0m             \u001b[1;32melse\u001b[0m\u001b[1;33m:\u001b[0m\u001b[1;33m\u001b[0m\u001b[1;33m\u001b[0m\u001b[0m\n\u001b[0;32m    945\u001b[0m                 \u001b[1;32mreturn\u001b[0m \u001b[0mself\u001b[0m\u001b[1;33m.\u001b[0m\u001b[0m_get_values\u001b[0m\u001b[1;33m(\u001b[0m\u001b[0mkey\u001b[0m\u001b[1;33m)\u001b[0m\u001b[1;33m\u001b[0m\u001b[1;33m\u001b[0m\u001b[0m\n",
      "\u001b[1;32m~\\anaconda3\\lib\\site-packages\\pandas\\core\\indexing.py\u001b[0m in \u001b[0;36m__getitem__\u001b[1;34m(self, key)\u001b[0m\n\u001b[0;32m   1765\u001b[0m \u001b[1;33m\u001b[0m\u001b[0m\n\u001b[0;32m   1766\u001b[0m             \u001b[0mmaybe_callable\u001b[0m \u001b[1;33m=\u001b[0m \u001b[0mcom\u001b[0m\u001b[1;33m.\u001b[0m\u001b[0mapply_if_callable\u001b[0m\u001b[1;33m(\u001b[0m\u001b[0mkey\u001b[0m\u001b[1;33m,\u001b[0m \u001b[0mself\u001b[0m\u001b[1;33m.\u001b[0m\u001b[0mobj\u001b[0m\u001b[1;33m)\u001b[0m\u001b[1;33m\u001b[0m\u001b[1;33m\u001b[0m\u001b[0m\n\u001b[1;32m-> 1767\u001b[1;33m             \u001b[1;32mreturn\u001b[0m \u001b[0mself\u001b[0m\u001b[1;33m.\u001b[0m\u001b[0m_getitem_axis\u001b[0m\u001b[1;33m(\u001b[0m\u001b[0mmaybe_callable\u001b[0m\u001b[1;33m,\u001b[0m \u001b[0maxis\u001b[0m\u001b[1;33m=\u001b[0m\u001b[0maxis\u001b[0m\u001b[1;33m)\u001b[0m\u001b[1;33m\u001b[0m\u001b[1;33m\u001b[0m\u001b[0m\n\u001b[0m\u001b[0;32m   1768\u001b[0m \u001b[1;33m\u001b[0m\u001b[0m\n\u001b[0;32m   1769\u001b[0m     \u001b[1;32mdef\u001b[0m \u001b[0m_is_scalar_access\u001b[0m\u001b[1;33m(\u001b[0m\u001b[0mself\u001b[0m\u001b[1;33m,\u001b[0m \u001b[0mkey\u001b[0m\u001b[1;33m:\u001b[0m \u001b[0mTuple\u001b[0m\u001b[1;33m)\u001b[0m\u001b[1;33m:\u001b[0m\u001b[1;33m\u001b[0m\u001b[1;33m\u001b[0m\u001b[0m\n",
      "\u001b[1;32m~\\anaconda3\\lib\\site-packages\\pandas\\core\\indexing.py\u001b[0m in \u001b[0;36m_getitem_axis\u001b[1;34m(self, key, axis)\u001b[0m\n\u001b[0;32m   1951\u001b[0m                     \u001b[1;32mraise\u001b[0m \u001b[0mValueError\u001b[0m\u001b[1;33m(\u001b[0m\u001b[1;34m\"Cannot index with multidimensional key\"\u001b[0m\u001b[1;33m)\u001b[0m\u001b[1;33m\u001b[0m\u001b[1;33m\u001b[0m\u001b[0m\n\u001b[0;32m   1952\u001b[0m \u001b[1;33m\u001b[0m\u001b[0m\n\u001b[1;32m-> 1953\u001b[1;33m                 \u001b[1;32mreturn\u001b[0m \u001b[0mself\u001b[0m\u001b[1;33m.\u001b[0m\u001b[0m_getitem_iterable\u001b[0m\u001b[1;33m(\u001b[0m\u001b[0mkey\u001b[0m\u001b[1;33m,\u001b[0m \u001b[0maxis\u001b[0m\u001b[1;33m=\u001b[0m\u001b[0maxis\u001b[0m\u001b[1;33m)\u001b[0m\u001b[1;33m\u001b[0m\u001b[1;33m\u001b[0m\u001b[0m\n\u001b[0m\u001b[0;32m   1954\u001b[0m \u001b[1;33m\u001b[0m\u001b[0m\n\u001b[0;32m   1955\u001b[0m             \u001b[1;31m# nested tuple slicing\u001b[0m\u001b[1;33m\u001b[0m\u001b[1;33m\u001b[0m\u001b[1;33m\u001b[0m\u001b[0m\n",
      "\u001b[1;32m~\\anaconda3\\lib\\site-packages\\pandas\\core\\indexing.py\u001b[0m in \u001b[0;36m_getitem_iterable\u001b[1;34m(self, key, axis)\u001b[0m\n\u001b[0;32m   1592\u001b[0m         \u001b[1;32melse\u001b[0m\u001b[1;33m:\u001b[0m\u001b[1;33m\u001b[0m\u001b[1;33m\u001b[0m\u001b[0m\n\u001b[0;32m   1593\u001b[0m             \u001b[1;31m# A collection of keys\u001b[0m\u001b[1;33m\u001b[0m\u001b[1;33m\u001b[0m\u001b[1;33m\u001b[0m\u001b[0m\n\u001b[1;32m-> 1594\u001b[1;33m             \u001b[0mkeyarr\u001b[0m\u001b[1;33m,\u001b[0m \u001b[0mindexer\u001b[0m \u001b[1;33m=\u001b[0m \u001b[0mself\u001b[0m\u001b[1;33m.\u001b[0m\u001b[0m_get_listlike_indexer\u001b[0m\u001b[1;33m(\u001b[0m\u001b[0mkey\u001b[0m\u001b[1;33m,\u001b[0m \u001b[0maxis\u001b[0m\u001b[1;33m,\u001b[0m \u001b[0mraise_missing\u001b[0m\u001b[1;33m=\u001b[0m\u001b[1;32mFalse\u001b[0m\u001b[1;33m)\u001b[0m\u001b[1;33m\u001b[0m\u001b[1;33m\u001b[0m\u001b[0m\n\u001b[0m\u001b[0;32m   1595\u001b[0m             return self.obj._reindex_with_indexers(\n\u001b[0;32m   1596\u001b[0m                 \u001b[1;33m{\u001b[0m\u001b[0maxis\u001b[0m\u001b[1;33m:\u001b[0m \u001b[1;33m[\u001b[0m\u001b[0mkeyarr\u001b[0m\u001b[1;33m,\u001b[0m \u001b[0mindexer\u001b[0m\u001b[1;33m]\u001b[0m\u001b[1;33m}\u001b[0m\u001b[1;33m,\u001b[0m \u001b[0mcopy\u001b[0m\u001b[1;33m=\u001b[0m\u001b[1;32mTrue\u001b[0m\u001b[1;33m,\u001b[0m \u001b[0mallow_dups\u001b[0m\u001b[1;33m=\u001b[0m\u001b[1;32mTrue\u001b[0m\u001b[1;33m\u001b[0m\u001b[1;33m\u001b[0m\u001b[0m\n",
      "\u001b[1;32m~\\anaconda3\\lib\\site-packages\\pandas\\core\\indexing.py\u001b[0m in \u001b[0;36m_get_listlike_indexer\u001b[1;34m(self, key, axis, raise_missing)\u001b[0m\n\u001b[0;32m   1550\u001b[0m \u001b[1;33m\u001b[0m\u001b[0m\n\u001b[0;32m   1551\u001b[0m         self._validate_read_indexer(\n\u001b[1;32m-> 1552\u001b[1;33m             \u001b[0mkeyarr\u001b[0m\u001b[1;33m,\u001b[0m \u001b[0mindexer\u001b[0m\u001b[1;33m,\u001b[0m \u001b[0mo\u001b[0m\u001b[1;33m.\u001b[0m\u001b[0m_get_axis_number\u001b[0m\u001b[1;33m(\u001b[0m\u001b[0maxis\u001b[0m\u001b[1;33m)\u001b[0m\u001b[1;33m,\u001b[0m \u001b[0mraise_missing\u001b[0m\u001b[1;33m=\u001b[0m\u001b[0mraise_missing\u001b[0m\u001b[1;33m\u001b[0m\u001b[1;33m\u001b[0m\u001b[0m\n\u001b[0m\u001b[0;32m   1553\u001b[0m         )\n\u001b[0;32m   1554\u001b[0m         \u001b[1;32mreturn\u001b[0m \u001b[0mkeyarr\u001b[0m\u001b[1;33m,\u001b[0m \u001b[0mindexer\u001b[0m\u001b[1;33m\u001b[0m\u001b[1;33m\u001b[0m\u001b[0m\n",
      "\u001b[1;32m~\\anaconda3\\lib\\site-packages\\pandas\\core\\indexing.py\u001b[0m in \u001b[0;36m_validate_read_indexer\u001b[1;34m(self, key, indexer, axis, raise_missing)\u001b[0m\n\u001b[0;32m   1652\u001b[0m             \u001b[1;32mif\u001b[0m \u001b[1;32mnot\u001b[0m \u001b[1;33m(\u001b[0m\u001b[0max\u001b[0m\u001b[1;33m.\u001b[0m\u001b[0mis_categorical\u001b[0m\u001b[1;33m(\u001b[0m\u001b[1;33m)\u001b[0m \u001b[1;32mor\u001b[0m \u001b[0max\u001b[0m\u001b[1;33m.\u001b[0m\u001b[0mis_interval\u001b[0m\u001b[1;33m(\u001b[0m\u001b[1;33m)\u001b[0m\u001b[1;33m)\u001b[0m\u001b[1;33m:\u001b[0m\u001b[1;33m\u001b[0m\u001b[1;33m\u001b[0m\u001b[0m\n\u001b[0;32m   1653\u001b[0m                 raise KeyError(\n\u001b[1;32m-> 1654\u001b[1;33m                     \u001b[1;34m\"Passing list-likes to .loc or [] with any missing labels \"\u001b[0m\u001b[1;33m\u001b[0m\u001b[1;33m\u001b[0m\u001b[0m\n\u001b[0m\u001b[0;32m   1655\u001b[0m                     \u001b[1;34m\"is no longer supported, see \"\u001b[0m\u001b[1;33m\u001b[0m\u001b[1;33m\u001b[0m\u001b[0m\n\u001b[0;32m   1656\u001b[0m                     \u001b[1;34m\"https://pandas.pydata.org/pandas-docs/stable/user_guide/indexing.html#deprecate-loc-reindex-listlike\"\u001b[0m  \u001b[1;31m# noqa:E501\u001b[0m\u001b[1;33m\u001b[0m\u001b[1;33m\u001b[0m\u001b[0m\n",
      "\u001b[1;31mKeyError\u001b[0m: 'Passing list-likes to .loc or [] with any missing labels is no longer supported, see https://pandas.pydata.org/pandas-docs/stable/user_guide/indexing.html#deprecate-loc-reindex-listlike'"
     ]
    }
   ],
   "source": [
    "correlation_ratio(cln['Airport Code'], cln['Claim Amount'])"
   ]
  },
  {
   "cell_type": "code",
   "execution_count": 555,
   "metadata": {
    "ExecuteTime": {
     "end_time": "2020-04-24T08:36:20.873792Z",
     "start_time": "2020-04-24T08:36:20.832818Z"
    },
    "hidden": true
   },
   "outputs": [
    {
     "ename": "KeyError",
     "evalue": "'Passing list-likes to .loc or [] with any missing labels is no longer supported, see https://pandas.pydata.org/pandas-docs/stable/user_guide/indexing.html#deprecate-loc-reindex-listlike'",
     "output_type": "error",
     "traceback": [
      "\u001b[1;31m---------------------------------------------------------------------------\u001b[0m",
      "\u001b[1;31mKeyError\u001b[0m                                  Traceback (most recent call last)",
      "\u001b[1;32m<ipython-input-555-6b12cfd74077>\u001b[0m in \u001b[0;36m<module>\u001b[1;34m\u001b[0m\n\u001b[1;32m----> 1\u001b[1;33m \u001b[0mcorrelation_ratio\u001b[0m\u001b[1;33m(\u001b[0m\u001b[0mcln\u001b[0m\u001b[1;33m[\u001b[0m\u001b[1;34m'Airline Name'\u001b[0m\u001b[1;33m]\u001b[0m\u001b[1;33m,\u001b[0m \u001b[0mcln\u001b[0m\u001b[1;33m[\u001b[0m\u001b[1;34m'Claim Amount'\u001b[0m\u001b[1;33m]\u001b[0m\u001b[1;33m)\u001b[0m\u001b[1;33m\u001b[0m\u001b[1;33m\u001b[0m\u001b[0m\n\u001b[0m",
      "\u001b[1;32m<ipython-input-504-39bc54b685d1>\u001b[0m in \u001b[0;36mcorrelation_ratio\u001b[1;34m(categories, measurements)\u001b[0m\n\u001b[0;32m      8\u001b[0m     \u001b[0mn_array\u001b[0m \u001b[1;33m=\u001b[0m \u001b[0mnp\u001b[0m\u001b[1;33m.\u001b[0m\u001b[0mzeros\u001b[0m\u001b[1;33m(\u001b[0m\u001b[0mcat_num\u001b[0m\u001b[1;33m)\u001b[0m\u001b[1;33m\u001b[0m\u001b[1;33m\u001b[0m\u001b[0m\n\u001b[0;32m      9\u001b[0m     \u001b[1;32mfor\u001b[0m \u001b[0mi\u001b[0m \u001b[1;32min\u001b[0m \u001b[0mrange\u001b[0m\u001b[1;33m(\u001b[0m\u001b[1;36m0\u001b[0m\u001b[1;33m,\u001b[0m\u001b[0mcat_num\u001b[0m\u001b[1;33m)\u001b[0m\u001b[1;33m:\u001b[0m\u001b[1;33m\u001b[0m\u001b[1;33m\u001b[0m\u001b[0m\n\u001b[1;32m---> 10\u001b[1;33m         \u001b[0mcat_measures\u001b[0m \u001b[1;33m=\u001b[0m \u001b[0mmeasurements\u001b[0m\u001b[1;33m[\u001b[0m\u001b[0mnp\u001b[0m\u001b[1;33m.\u001b[0m\u001b[0margwhere\u001b[0m\u001b[1;33m(\u001b[0m\u001b[0mfcat\u001b[0m \u001b[1;33m==\u001b[0m \u001b[0mi\u001b[0m\u001b[1;33m)\u001b[0m\u001b[1;33m.\u001b[0m\u001b[0mflatten\u001b[0m\u001b[1;33m(\u001b[0m\u001b[1;33m)\u001b[0m\u001b[1;33m]\u001b[0m\u001b[1;33m\u001b[0m\u001b[1;33m\u001b[0m\u001b[0m\n\u001b[0m\u001b[0;32m     11\u001b[0m         \u001b[0mn_array\u001b[0m\u001b[1;33m[\u001b[0m\u001b[0mi\u001b[0m\u001b[1;33m]\u001b[0m \u001b[1;33m=\u001b[0m \u001b[0mlen\u001b[0m\u001b[1;33m(\u001b[0m\u001b[0mcat_measures\u001b[0m\u001b[1;33m)\u001b[0m\u001b[1;33m\u001b[0m\u001b[1;33m\u001b[0m\u001b[0m\n\u001b[0;32m     12\u001b[0m         \u001b[0my_avg_array\u001b[0m\u001b[1;33m[\u001b[0m\u001b[0mi\u001b[0m\u001b[1;33m]\u001b[0m \u001b[1;33m=\u001b[0m \u001b[0mnp\u001b[0m\u001b[1;33m.\u001b[0m\u001b[0maverage\u001b[0m\u001b[1;33m(\u001b[0m\u001b[0mcat_measures\u001b[0m\u001b[1;33m)\u001b[0m\u001b[1;33m\u001b[0m\u001b[1;33m\u001b[0m\u001b[0m\n",
      "\u001b[1;32m~\\anaconda3\\lib\\site-packages\\pandas\\core\\series.py\u001b[0m in \u001b[0;36m__getitem__\u001b[1;34m(self, key)\u001b[0m\n\u001b[0;32m    908\u001b[0m             \u001b[0mkey\u001b[0m \u001b[1;33m=\u001b[0m \u001b[0mcheck_bool_indexer\u001b[0m\u001b[1;33m(\u001b[0m\u001b[0mself\u001b[0m\u001b[1;33m.\u001b[0m\u001b[0mindex\u001b[0m\u001b[1;33m,\u001b[0m \u001b[0mkey\u001b[0m\u001b[1;33m)\u001b[0m\u001b[1;33m\u001b[0m\u001b[1;33m\u001b[0m\u001b[0m\n\u001b[0;32m    909\u001b[0m \u001b[1;33m\u001b[0m\u001b[0m\n\u001b[1;32m--> 910\u001b[1;33m         \u001b[1;32mreturn\u001b[0m \u001b[0mself\u001b[0m\u001b[1;33m.\u001b[0m\u001b[0m_get_with\u001b[0m\u001b[1;33m(\u001b[0m\u001b[0mkey\u001b[0m\u001b[1;33m)\u001b[0m\u001b[1;33m\u001b[0m\u001b[1;33m\u001b[0m\u001b[0m\n\u001b[0m\u001b[0;32m    911\u001b[0m \u001b[1;33m\u001b[0m\u001b[0m\n\u001b[0;32m    912\u001b[0m     \u001b[1;32mdef\u001b[0m \u001b[0m_get_with\u001b[0m\u001b[1;33m(\u001b[0m\u001b[0mself\u001b[0m\u001b[1;33m,\u001b[0m \u001b[0mkey\u001b[0m\u001b[1;33m)\u001b[0m\u001b[1;33m:\u001b[0m\u001b[1;33m\u001b[0m\u001b[1;33m\u001b[0m\u001b[0m\n",
      "\u001b[1;32m~\\anaconda3\\lib\\site-packages\\pandas\\core\\series.py\u001b[0m in \u001b[0;36m_get_with\u001b[1;34m(self, key)\u001b[0m\n\u001b[0;32m    941\u001b[0m         \u001b[1;32mif\u001b[0m \u001b[0mkey_type\u001b[0m \u001b[1;33m==\u001b[0m \u001b[1;34m\"integer\"\u001b[0m\u001b[1;33m:\u001b[0m\u001b[1;33m\u001b[0m\u001b[1;33m\u001b[0m\u001b[0m\n\u001b[0;32m    942\u001b[0m             \u001b[1;32mif\u001b[0m \u001b[0mself\u001b[0m\u001b[1;33m.\u001b[0m\u001b[0mindex\u001b[0m\u001b[1;33m.\u001b[0m\u001b[0mis_integer\u001b[0m\u001b[1;33m(\u001b[0m\u001b[1;33m)\u001b[0m \u001b[1;32mor\u001b[0m \u001b[0mself\u001b[0m\u001b[1;33m.\u001b[0m\u001b[0mindex\u001b[0m\u001b[1;33m.\u001b[0m\u001b[0mis_floating\u001b[0m\u001b[1;33m(\u001b[0m\u001b[1;33m)\u001b[0m\u001b[1;33m:\u001b[0m\u001b[1;33m\u001b[0m\u001b[1;33m\u001b[0m\u001b[0m\n\u001b[1;32m--> 943\u001b[1;33m                 \u001b[1;32mreturn\u001b[0m \u001b[0mself\u001b[0m\u001b[1;33m.\u001b[0m\u001b[0mloc\u001b[0m\u001b[1;33m[\u001b[0m\u001b[0mkey\u001b[0m\u001b[1;33m]\u001b[0m\u001b[1;33m\u001b[0m\u001b[1;33m\u001b[0m\u001b[0m\n\u001b[0m\u001b[0;32m    944\u001b[0m             \u001b[1;32melse\u001b[0m\u001b[1;33m:\u001b[0m\u001b[1;33m\u001b[0m\u001b[1;33m\u001b[0m\u001b[0m\n\u001b[0;32m    945\u001b[0m                 \u001b[1;32mreturn\u001b[0m \u001b[0mself\u001b[0m\u001b[1;33m.\u001b[0m\u001b[0m_get_values\u001b[0m\u001b[1;33m(\u001b[0m\u001b[0mkey\u001b[0m\u001b[1;33m)\u001b[0m\u001b[1;33m\u001b[0m\u001b[1;33m\u001b[0m\u001b[0m\n",
      "\u001b[1;32m~\\anaconda3\\lib\\site-packages\\pandas\\core\\indexing.py\u001b[0m in \u001b[0;36m__getitem__\u001b[1;34m(self, key)\u001b[0m\n\u001b[0;32m   1765\u001b[0m \u001b[1;33m\u001b[0m\u001b[0m\n\u001b[0;32m   1766\u001b[0m             \u001b[0mmaybe_callable\u001b[0m \u001b[1;33m=\u001b[0m \u001b[0mcom\u001b[0m\u001b[1;33m.\u001b[0m\u001b[0mapply_if_callable\u001b[0m\u001b[1;33m(\u001b[0m\u001b[0mkey\u001b[0m\u001b[1;33m,\u001b[0m \u001b[0mself\u001b[0m\u001b[1;33m.\u001b[0m\u001b[0mobj\u001b[0m\u001b[1;33m)\u001b[0m\u001b[1;33m\u001b[0m\u001b[1;33m\u001b[0m\u001b[0m\n\u001b[1;32m-> 1767\u001b[1;33m             \u001b[1;32mreturn\u001b[0m \u001b[0mself\u001b[0m\u001b[1;33m.\u001b[0m\u001b[0m_getitem_axis\u001b[0m\u001b[1;33m(\u001b[0m\u001b[0mmaybe_callable\u001b[0m\u001b[1;33m,\u001b[0m \u001b[0maxis\u001b[0m\u001b[1;33m=\u001b[0m\u001b[0maxis\u001b[0m\u001b[1;33m)\u001b[0m\u001b[1;33m\u001b[0m\u001b[1;33m\u001b[0m\u001b[0m\n\u001b[0m\u001b[0;32m   1768\u001b[0m \u001b[1;33m\u001b[0m\u001b[0m\n\u001b[0;32m   1769\u001b[0m     \u001b[1;32mdef\u001b[0m \u001b[0m_is_scalar_access\u001b[0m\u001b[1;33m(\u001b[0m\u001b[0mself\u001b[0m\u001b[1;33m,\u001b[0m \u001b[0mkey\u001b[0m\u001b[1;33m:\u001b[0m \u001b[0mTuple\u001b[0m\u001b[1;33m)\u001b[0m\u001b[1;33m:\u001b[0m\u001b[1;33m\u001b[0m\u001b[1;33m\u001b[0m\u001b[0m\n",
      "\u001b[1;32m~\\anaconda3\\lib\\site-packages\\pandas\\core\\indexing.py\u001b[0m in \u001b[0;36m_getitem_axis\u001b[1;34m(self, key, axis)\u001b[0m\n\u001b[0;32m   1951\u001b[0m                     \u001b[1;32mraise\u001b[0m \u001b[0mValueError\u001b[0m\u001b[1;33m(\u001b[0m\u001b[1;34m\"Cannot index with multidimensional key\"\u001b[0m\u001b[1;33m)\u001b[0m\u001b[1;33m\u001b[0m\u001b[1;33m\u001b[0m\u001b[0m\n\u001b[0;32m   1952\u001b[0m \u001b[1;33m\u001b[0m\u001b[0m\n\u001b[1;32m-> 1953\u001b[1;33m                 \u001b[1;32mreturn\u001b[0m \u001b[0mself\u001b[0m\u001b[1;33m.\u001b[0m\u001b[0m_getitem_iterable\u001b[0m\u001b[1;33m(\u001b[0m\u001b[0mkey\u001b[0m\u001b[1;33m,\u001b[0m \u001b[0maxis\u001b[0m\u001b[1;33m=\u001b[0m\u001b[0maxis\u001b[0m\u001b[1;33m)\u001b[0m\u001b[1;33m\u001b[0m\u001b[1;33m\u001b[0m\u001b[0m\n\u001b[0m\u001b[0;32m   1954\u001b[0m \u001b[1;33m\u001b[0m\u001b[0m\n\u001b[0;32m   1955\u001b[0m             \u001b[1;31m# nested tuple slicing\u001b[0m\u001b[1;33m\u001b[0m\u001b[1;33m\u001b[0m\u001b[1;33m\u001b[0m\u001b[0m\n",
      "\u001b[1;32m~\\anaconda3\\lib\\site-packages\\pandas\\core\\indexing.py\u001b[0m in \u001b[0;36m_getitem_iterable\u001b[1;34m(self, key, axis)\u001b[0m\n\u001b[0;32m   1592\u001b[0m         \u001b[1;32melse\u001b[0m\u001b[1;33m:\u001b[0m\u001b[1;33m\u001b[0m\u001b[1;33m\u001b[0m\u001b[0m\n\u001b[0;32m   1593\u001b[0m             \u001b[1;31m# A collection of keys\u001b[0m\u001b[1;33m\u001b[0m\u001b[1;33m\u001b[0m\u001b[1;33m\u001b[0m\u001b[0m\n\u001b[1;32m-> 1594\u001b[1;33m             \u001b[0mkeyarr\u001b[0m\u001b[1;33m,\u001b[0m \u001b[0mindexer\u001b[0m \u001b[1;33m=\u001b[0m \u001b[0mself\u001b[0m\u001b[1;33m.\u001b[0m\u001b[0m_get_listlike_indexer\u001b[0m\u001b[1;33m(\u001b[0m\u001b[0mkey\u001b[0m\u001b[1;33m,\u001b[0m \u001b[0maxis\u001b[0m\u001b[1;33m,\u001b[0m \u001b[0mraise_missing\u001b[0m\u001b[1;33m=\u001b[0m\u001b[1;32mFalse\u001b[0m\u001b[1;33m)\u001b[0m\u001b[1;33m\u001b[0m\u001b[1;33m\u001b[0m\u001b[0m\n\u001b[0m\u001b[0;32m   1595\u001b[0m             return self.obj._reindex_with_indexers(\n\u001b[0;32m   1596\u001b[0m                 \u001b[1;33m{\u001b[0m\u001b[0maxis\u001b[0m\u001b[1;33m:\u001b[0m \u001b[1;33m[\u001b[0m\u001b[0mkeyarr\u001b[0m\u001b[1;33m,\u001b[0m \u001b[0mindexer\u001b[0m\u001b[1;33m]\u001b[0m\u001b[1;33m}\u001b[0m\u001b[1;33m,\u001b[0m \u001b[0mcopy\u001b[0m\u001b[1;33m=\u001b[0m\u001b[1;32mTrue\u001b[0m\u001b[1;33m,\u001b[0m \u001b[0mallow_dups\u001b[0m\u001b[1;33m=\u001b[0m\u001b[1;32mTrue\u001b[0m\u001b[1;33m\u001b[0m\u001b[1;33m\u001b[0m\u001b[0m\n",
      "\u001b[1;32m~\\anaconda3\\lib\\site-packages\\pandas\\core\\indexing.py\u001b[0m in \u001b[0;36m_get_listlike_indexer\u001b[1;34m(self, key, axis, raise_missing)\u001b[0m\n\u001b[0;32m   1550\u001b[0m \u001b[1;33m\u001b[0m\u001b[0m\n\u001b[0;32m   1551\u001b[0m         self._validate_read_indexer(\n\u001b[1;32m-> 1552\u001b[1;33m             \u001b[0mkeyarr\u001b[0m\u001b[1;33m,\u001b[0m \u001b[0mindexer\u001b[0m\u001b[1;33m,\u001b[0m \u001b[0mo\u001b[0m\u001b[1;33m.\u001b[0m\u001b[0m_get_axis_number\u001b[0m\u001b[1;33m(\u001b[0m\u001b[0maxis\u001b[0m\u001b[1;33m)\u001b[0m\u001b[1;33m,\u001b[0m \u001b[0mraise_missing\u001b[0m\u001b[1;33m=\u001b[0m\u001b[0mraise_missing\u001b[0m\u001b[1;33m\u001b[0m\u001b[1;33m\u001b[0m\u001b[0m\n\u001b[0m\u001b[0;32m   1553\u001b[0m         )\n\u001b[0;32m   1554\u001b[0m         \u001b[1;32mreturn\u001b[0m \u001b[0mkeyarr\u001b[0m\u001b[1;33m,\u001b[0m \u001b[0mindexer\u001b[0m\u001b[1;33m\u001b[0m\u001b[1;33m\u001b[0m\u001b[0m\n",
      "\u001b[1;32m~\\anaconda3\\lib\\site-packages\\pandas\\core\\indexing.py\u001b[0m in \u001b[0;36m_validate_read_indexer\u001b[1;34m(self, key, indexer, axis, raise_missing)\u001b[0m\n\u001b[0;32m   1652\u001b[0m             \u001b[1;32mif\u001b[0m \u001b[1;32mnot\u001b[0m \u001b[1;33m(\u001b[0m\u001b[0max\u001b[0m\u001b[1;33m.\u001b[0m\u001b[0mis_categorical\u001b[0m\u001b[1;33m(\u001b[0m\u001b[1;33m)\u001b[0m \u001b[1;32mor\u001b[0m \u001b[0max\u001b[0m\u001b[1;33m.\u001b[0m\u001b[0mis_interval\u001b[0m\u001b[1;33m(\u001b[0m\u001b[1;33m)\u001b[0m\u001b[1;33m)\u001b[0m\u001b[1;33m:\u001b[0m\u001b[1;33m\u001b[0m\u001b[1;33m\u001b[0m\u001b[0m\n\u001b[0;32m   1653\u001b[0m                 raise KeyError(\n\u001b[1;32m-> 1654\u001b[1;33m                     \u001b[1;34m\"Passing list-likes to .loc or [] with any missing labels \"\u001b[0m\u001b[1;33m\u001b[0m\u001b[1;33m\u001b[0m\u001b[0m\n\u001b[0m\u001b[0;32m   1655\u001b[0m                     \u001b[1;34m\"is no longer supported, see \"\u001b[0m\u001b[1;33m\u001b[0m\u001b[1;33m\u001b[0m\u001b[0m\n\u001b[0;32m   1656\u001b[0m                     \u001b[1;34m\"https://pandas.pydata.org/pandas-docs/stable/user_guide/indexing.html#deprecate-loc-reindex-listlike\"\u001b[0m  \u001b[1;31m# noqa:E501\u001b[0m\u001b[1;33m\u001b[0m\u001b[1;33m\u001b[0m\u001b[0m\n",
      "\u001b[1;31mKeyError\u001b[0m: 'Passing list-likes to .loc or [] with any missing labels is no longer supported, see https://pandas.pydata.org/pandas-docs/stable/user_guide/indexing.html#deprecate-loc-reindex-listlike'"
     ]
    }
   ],
   "source": [
    "correlation_ratio(cln['Airline Name'], cln['Claim Amount'])"
   ]
  },
  {
   "cell_type": "markdown",
   "metadata": {
    "heading_collapsed": true
   },
   "source": [
    "#### Jawab no 2"
   ]
  },
  {
   "cell_type": "code",
   "execution_count": 520,
   "metadata": {
    "ExecuteTime": {
     "end_time": "2020-04-24T08:19:26.325711Z",
     "start_time": "2020-04-24T08:19:26.316717Z"
    },
    "hidden": true
   },
   "outputs": [
    {
     "data": {
      "text/plain": [
       "array(['Approved', 'Canceled', 'Denied', 'Settled', 'In litigation',\n",
       "       'Insufficient; one of the following items required: sum certain; statement of fact; signature; location of incident; and date.',\n",
       "       'Closed as a contractor claim', 'In review', 'Claim entered',\n",
       "       'Deny', nan, 'Settle', 'Approve in Full'], dtype=object)"
      ]
     },
     "execution_count": 520,
     "metadata": {},
     "output_type": "execute_result"
    }
   ],
   "source": [
    "data['Status'].unique()"
   ]
  },
  {
   "cell_type": "code",
   "execution_count": 521,
   "metadata": {
    "ExecuteTime": {
     "end_time": "2020-04-24T08:19:44.228755Z",
     "start_time": "2020-04-24T08:19:44.218760Z"
    },
    "hidden": true
   },
   "outputs": [
    {
     "data": {
      "text/plain": [
       "array(['Approve in Full', nan, 'Deny', 'Settle'], dtype=object)"
      ]
     },
     "execution_count": 521,
     "metadata": {},
     "output_type": "execute_result"
    }
   ],
   "source": [
    "data['Disposition'].unique()\n",
    "\n",
    "# seharusnya kol ini sbg follow up dari status"
   ]
  },
  {
   "cell_type": "code",
   "execution_count": 528,
   "metadata": {
    "ExecuteTime": {
     "end_time": "2020-04-24T08:23:08.264118Z",
     "start_time": "2020-04-24T08:23:08.246129Z"
    },
    "hidden": true
   },
   "outputs": [
    {
     "data": {
      "text/plain": [
       "Approve in Full    8724\n",
       "Name: Disposition, dtype: int64"
      ]
     },
     "execution_count": 528,
     "metadata": {},
     "output_type": "execute_result"
    }
   ],
   "source": [
    "# secara logika harusnya Approved followed by Approved in Full\n",
    "\n",
    "data[data['Status'] == 'Approved']['Disposition'].value_counts()\n",
    "\n",
    "# betul"
   ]
  },
  {
   "cell_type": "code",
   "execution_count": 530,
   "metadata": {
    "ExecuteTime": {
     "end_time": "2020-04-24T08:24:30.911094Z",
     "start_time": "2020-04-24T08:24:30.882109Z"
    },
    "hidden": true
   },
   "outputs": [
    {
     "data": {
      "text/plain": [
       "Deny    17125\n",
       "Name: Disposition, dtype: int64"
      ]
     },
     "execution_count": 530,
     "metadata": {},
     "output_type": "execute_result"
    }
   ],
   "source": [
    "# secara logika harusnya Denied followed by Deny\n",
    "\n",
    "data[data['Status'] == 'Denied']['Disposition'].value_counts()\n",
    "\n",
    "#betul"
   ]
  },
  {
   "cell_type": "code",
   "execution_count": 532,
   "metadata": {
    "ExecuteTime": {
     "end_time": "2020-04-24T08:25:18.115730Z",
     "start_time": "2020-04-24T08:25:18.097741Z"
    },
    "hidden": true
   },
   "outputs": [
    {
     "data": {
      "text/plain": [
       "Settle    6970\n",
       "Name: Disposition, dtype: int64"
      ]
     },
     "execution_count": 532,
     "metadata": {},
     "output_type": "execute_result"
    }
   ],
   "source": [
    "# secara logika harusnya Settled followed by Settle\n",
    "\n",
    "data[data['Status'] == 'Settled']['Disposition'].value_counts()\n",
    "\n",
    "# betul"
   ]
  },
  {
   "cell_type": "code",
   "execution_count": 537,
   "metadata": {
    "ExecuteTime": {
     "end_time": "2020-04-24T08:27:52.235411Z",
     "start_time": "2020-04-24T08:27:52.216422Z"
    },
    "hidden": true
   },
   "outputs": [
    {
     "data": {
      "text/plain": [
       "Deny                                                                                                                             7010\n",
       "Approve in Full                                                                                                                  3165\n",
       "Canceled                                                                                                                         1703\n",
       "Settle                                                                                                                           1453\n",
       "Insufficient; one of the following items required: sum certain; statement of fact; signature; location of incident; and date.    1352\n",
       "Closed as a contractor claim                                                                                                      326\n",
       "Denied                                                                                                                              9\n",
       "In litigation                                                                                                                       9\n",
       "Claim entered                                                                                                                       2\n",
       "In review                                                                                                                           2\n",
       "Name: Status, dtype: int64"
      ]
     },
     "execution_count": 537,
     "metadata": {},
     "output_type": "execute_result"
    }
   ],
   "source": [
    "# lihat sisanya\n",
    "\n",
    "data[data['Disposition'].isna()]['Status'].value_counts()"
   ]
  },
  {
   "cell_type": "code",
   "execution_count": 539,
   "metadata": {
    "ExecuteTime": {
     "end_time": "2020-04-24T08:30:37.231088Z",
     "start_time": "2020-04-24T08:30:36.834123Z"
    },
    "hidden": true
   },
   "outputs": [
    {
     "data": {
      "text/plain": [
       "0.9997805219577847"
      ]
     },
     "execution_count": 539,
     "metadata": {},
     "output_type": "execute_result"
    }
   ],
   "source": [
    "# discrete-discrete corr\n",
    "\n",
    "cramers_v(data['Status'], data['Disposition'])\n",
    "\n",
    "# secara statistik\n",
    "# almost 1 -- 99.9% association between status & dispositon as expected"
   ]
  },
  {
   "cell_type": "code",
   "execution_count": 566,
   "metadata": {
    "ExecuteTime": {
     "end_time": "2020-04-24T08:44:38.144725Z",
     "start_time": "2020-04-24T08:44:35.668601Z"
    },
    "hidden": true
   },
   "outputs": [
    {
     "data": {
      "text/plain": [
       "0.2790600100748736"
      ]
     },
     "execution_count": 566,
     "metadata": {},
     "output_type": "execute_result"
    }
   ],
   "source": [
    "# menurut TSA 'The claim must have a SPECIFIC DATE'\n",
    "# besar kemungkinan claim invalid & lgsg deny jika kosong\n",
    "\n",
    "cramers_v(data['Status'], data['Incident Date'])\n",
    "\n",
    "#secara statistik ada weak association"
   ]
  },
  {
   "cell_type": "code",
   "execution_count": 569,
   "metadata": {
    "ExecuteTime": {
     "end_time": "2020-04-24T08:49:08.361422Z",
     "start_time": "2020-04-24T08:49:08.171540Z"
    },
    "hidden": true
   },
   "outputs": [
    {
     "data": {
      "text/plain": [
       "0.2806334947102198"
      ]
     },
     "execution_count": 569,
     "metadata": {},
     "output_type": "execute_result"
    }
   ],
   "source": [
    "# dari nomor 1 diketahui kasus banyak terjadi di airport tertentu\n",
    "\n",
    "cramers_v(data['Status'], data['Airport Code'])\n",
    "\n",
    "# secara statistik ada weak association "
   ]
  },
  {
   "cell_type": "code",
   "execution_count": 570,
   "metadata": {
    "ExecuteTime": {
     "end_time": "2020-04-24T08:50:31.764077Z",
     "start_time": "2020-04-24T08:50:31.299365Z"
    },
    "hidden": true
   },
   "outputs": [
    {
     "data": {
      "text/plain": [
       "0.30130603622286906"
      ]
     },
     "execution_count": 570,
     "metadata": {},
     "output_type": "execute_result"
    }
   ],
   "source": [
    "cramers_v(data['Status'], data['Item'])\n",
    "\n",
    "# ternyata ada weak association "
   ]
  },
  {
   "cell_type": "code",
   "execution_count": null,
   "metadata": {
    "hidden": true
   },
   "outputs": [],
   "source": [
    "# apakah ada item yg cenderung diapprove/deny/settle?\n",
    "\n",
    "# dari detail di bawah ini kurang terlihat krn komposisi mirip at a glance"
   ]
  },
  {
   "cell_type": "code",
   "execution_count": 577,
   "metadata": {
    "ExecuteTime": {
     "end_time": "2020-04-24T08:52:16.653111Z",
     "start_time": "2020-04-24T08:52:16.636121Z"
    },
    "hidden": true
   },
   "outputs": [
    {
     "data": {
      "text/plain": [
       "Other                                         2801\n",
       "Luggage (all types including footlockers)     1873\n",
       "Clothing - Shoes; belts; accessories; etc.    1349\n",
       "Name: Item, dtype: int64"
      ]
     },
     "execution_count": 577,
     "metadata": {},
     "output_type": "execute_result"
    }
   ],
   "source": [
    "data[data['Status'] == 'Denied']['Item'].value_counts().head(3)"
   ]
  },
  {
   "cell_type": "code",
   "execution_count": 578,
   "metadata": {
    "ExecuteTime": {
     "end_time": "2020-04-24T08:52:29.210515Z",
     "start_time": "2020-04-24T08:52:29.192525Z"
    },
    "hidden": true
   },
   "outputs": [
    {
     "data": {
      "text/plain": [
       "Other                                         2428\n",
       "Clothing - Shoes; belts; accessories; etc.    1324\n",
       "Luggage (all types including footlockers)     1212\n",
       "Name: Item, dtype: int64"
      ]
     },
     "execution_count": 578,
     "metadata": {},
     "output_type": "execute_result"
    }
   ],
   "source": [
    "data[data['Status'] == 'Approved']['Item'].value_counts().head(3)"
   ]
  },
  {
   "cell_type": "code",
   "execution_count": 579,
   "metadata": {
    "ExecuteTime": {
     "end_time": "2020-04-24T08:52:58.097538Z",
     "start_time": "2020-04-24T08:52:58.081549Z"
    },
    "hidden": true
   },
   "outputs": [
    {
     "data": {
      "text/plain": [
       "Other                                         1479\n",
       "Luggage (all types including footlockers)     1347\n",
       "Clothing - Shoes; belts; accessories; etc.     723\n",
       "Name: Item, dtype: int64"
      ]
     },
     "execution_count": 579,
     "metadata": {},
     "output_type": "execute_result"
    }
   ],
   "source": [
    "data[data['Status'] == 'Settled']['Item'].value_counts().head(3)"
   ]
  },
  {
   "cell_type": "markdown",
   "metadata": {
    "heading_collapsed": true
   },
   "source": [
    "## Bonus Question\n",
    "\n",
    "Could you find any interesting Insight from our data that you could explain? Try to explain it with the available data"
   ]
  },
  {
   "cell_type": "code",
   "execution_count": null,
   "metadata": {
    "hidden": true
   },
   "outputs": [],
   "source": []
  },
  {
   "cell_type": "markdown",
   "metadata": {
    "hidden": true
   },
   "source": [
    "To create our dashboard, lets use only the data that was not outlier according to the Amount Differences. As we did not process all the NaN, just drop all those NaN. Save the file as 'tsa_claims_dashboard_ujian.csv', don't include the Index. As we don't want to have too much data in our dashboard, let's just sample 1000 data from our current data.\n",
    "\n",
    "Also, set the random seed to 101."
   ]
  },
  {
   "cell_type": "code",
   "execution_count": 591,
   "metadata": {
    "ExecuteTime": {
     "end_time": "2020-04-24T09:07:50.271672Z",
     "start_time": "2020-04-24T09:07:49.665043Z"
    },
    "hidden": true
   },
   "outputs": [],
   "source": [
    "not_out_amt.dropna(how = 'any').to_csv('tsa_claims_dashboard_ujian.csv', index = 'False')"
   ]
  },
  {
   "cell_type": "code",
   "execution_count": 592,
   "metadata": {
    "ExecuteTime": {
     "end_time": "2020-04-24T09:07:50.277662Z",
     "start_time": "2020-04-24T09:07:50.273665Z"
    },
    "hidden": true
   },
   "outputs": [],
   "source": [
    "np.random.seed(101)"
   ]
  },
  {
   "cell_type": "code",
   "execution_count": 597,
   "metadata": {
    "ExecuteTime": {
     "end_time": "2020-04-24T09:22:01.588202Z",
     "start_time": "2020-04-24T09:22:01.523243Z"
    },
    "hidden": true
   },
   "outputs": [
    {
     "data": {
      "text/html": [
       "<div>\n",
       "<style scoped>\n",
       "    .dataframe tbody tr th:only-of-type {\n",
       "        vertical-align: middle;\n",
       "    }\n",
       "\n",
       "    .dataframe tbody tr th {\n",
       "        vertical-align: top;\n",
       "    }\n",
       "\n",
       "    .dataframe thead th {\n",
       "        text-align: right;\n",
       "    }\n",
       "</style>\n",
       "<table border=\"1\" class=\"dataframe\">\n",
       "  <thead>\n",
       "    <tr style=\"text-align: right;\">\n",
       "      <th></th>\n",
       "      <th>Claim Number</th>\n",
       "      <th>Date Received</th>\n",
       "      <th>Incident Date</th>\n",
       "      <th>Airport Code</th>\n",
       "      <th>Airport Name</th>\n",
       "      <th>Airline Name</th>\n",
       "      <th>Claim Type</th>\n",
       "      <th>Claim Site</th>\n",
       "      <th>Item</th>\n",
       "      <th>Claim Amount</th>\n",
       "      <th>Status</th>\n",
       "      <th>Close Amount</th>\n",
       "      <th>Disposition</th>\n",
       "      <th>Day Differences</th>\n",
       "      <th>Amount Differences</th>\n",
       "    </tr>\n",
       "  </thead>\n",
       "  <tbody>\n",
       "    <tr>\n",
       "      <th>16826</th>\n",
       "      <td>2005071288719</td>\n",
       "      <td>2005-07-11</td>\n",
       "      <td>2005-05-24</td>\n",
       "      <td>MEM</td>\n",
       "      <td>Memphis International Airport</td>\n",
       "      <td>Northwest Airlines</td>\n",
       "      <td>Passenger Property Loss</td>\n",
       "      <td>Checkpoint</td>\n",
       "      <td>Cameras - Digital</td>\n",
       "      <td>4369.0</td>\n",
       "      <td>Approved</td>\n",
       "      <td>4369.0</td>\n",
       "      <td>Approve in Full</td>\n",
       "      <td>48.0</td>\n",
       "      <td>0.0</td>\n",
       "    </tr>\n",
       "    <tr>\n",
       "      <th>12866</th>\n",
       "      <td>2005010372379</td>\n",
       "      <td>2004-12-13</td>\n",
       "      <td>2004-11-14</td>\n",
       "      <td>PHL</td>\n",
       "      <td>Philadelphia International Airport</td>\n",
       "      <td>USAir</td>\n",
       "      <td>Passenger Property Loss</td>\n",
       "      <td>Checked Baggage</td>\n",
       "      <td>Eyeglasses - (including contact lenses)</td>\n",
       "      <td>74000.0</td>\n",
       "      <td>Denied</td>\n",
       "      <td>0.0</td>\n",
       "      <td>Deny</td>\n",
       "      <td>29.0</td>\n",
       "      <td>74000.0</td>\n",
       "    </tr>\n",
       "    <tr>\n",
       "      <th>20215</th>\n",
       "      <td>2006022402153</td>\n",
       "      <td>2006-02-21</td>\n",
       "      <td>2006-01-12</td>\n",
       "      <td>LAX</td>\n",
       "      <td>Los Angeles International Airport</td>\n",
       "      <td>Delta Air Lines</td>\n",
       "      <td>Property Damage</td>\n",
       "      <td>Checkpoint</td>\n",
       "      <td>Other</td>\n",
       "      <td>5000.0</td>\n",
       "      <td>Approved</td>\n",
       "      <td>5000.0</td>\n",
       "      <td>Approve in Full</td>\n",
       "      <td>40.0</td>\n",
       "      <td>0.0</td>\n",
       "    </tr>\n",
       "    <tr>\n",
       "      <th>12887</th>\n",
       "      <td>2005010472510</td>\n",
       "      <td>2004-12-14</td>\n",
       "      <td>2004-10-04</td>\n",
       "      <td>CRP</td>\n",
       "      <td>Corpus Christi International</td>\n",
       "      <td>Delta Air Lines</td>\n",
       "      <td>Passenger Property Loss</td>\n",
       "      <td>Checked Baggage</td>\n",
       "      <td>Clothing - Shoes; belts; accessories; etc.</td>\n",
       "      <td>3500.0</td>\n",
       "      <td>Approved</td>\n",
       "      <td>3500.0</td>\n",
       "      <td>Approve in Full</td>\n",
       "      <td>71.0</td>\n",
       "      <td>0.0</td>\n",
       "    </tr>\n",
       "    <tr>\n",
       "      <th>8860</th>\n",
       "      <td>2004061055451</td>\n",
       "      <td>2004-05-27</td>\n",
       "      <td>2004-03-13</td>\n",
       "      <td>CLT</td>\n",
       "      <td>Charlotte/Douglas International Airport</td>\n",
       "      <td>USAir</td>\n",
       "      <td>Passenger Property Loss</td>\n",
       "      <td>Checked Baggage</td>\n",
       "      <td>Luggage (all types including footlockers)</td>\n",
       "      <td>750.0</td>\n",
       "      <td>Approved</td>\n",
       "      <td>750.0</td>\n",
       "      <td>Approve in Full</td>\n",
       "      <td>75.0</td>\n",
       "      <td>0.0</td>\n",
       "    </tr>\n",
       "    <tr>\n",
       "      <th>...</th>\n",
       "      <td>...</td>\n",
       "      <td>...</td>\n",
       "      <td>...</td>\n",
       "      <td>...</td>\n",
       "      <td>...</td>\n",
       "      <td>...</td>\n",
       "      <td>...</td>\n",
       "      <td>...</td>\n",
       "      <td>...</td>\n",
       "      <td>...</td>\n",
       "      <td>...</td>\n",
       "      <td>...</td>\n",
       "      <td>...</td>\n",
       "      <td>...</td>\n",
       "      <td>...</td>\n",
       "    </tr>\n",
       "    <tr>\n",
       "      <th>21899</th>\n",
       "      <td>2006062908743</td>\n",
       "      <td>2006-06-27</td>\n",
       "      <td>2006-05-20</td>\n",
       "      <td>GRR</td>\n",
       "      <td>Gerald R. Ford International Airport</td>\n",
       "      <td>American Airlines</td>\n",
       "      <td>Passenger Property Loss</td>\n",
       "      <td>Checked Baggage</td>\n",
       "      <td>Cameras - Digital</td>\n",
       "      <td>45191.0</td>\n",
       "      <td>Denied</td>\n",
       "      <td>0.0</td>\n",
       "      <td>Deny</td>\n",
       "      <td>38.0</td>\n",
       "      <td>45191.0</td>\n",
       "    </tr>\n",
       "    <tr>\n",
       "      <th>12660</th>\n",
       "      <td>2004123071915</td>\n",
       "      <td>2004-12-01</td>\n",
       "      <td>2004-10-10</td>\n",
       "      <td>LAS</td>\n",
       "      <td>McCarran International</td>\n",
       "      <td>American Airlines</td>\n",
       "      <td>Passenger Property Loss</td>\n",
       "      <td>Checked Baggage</td>\n",
       "      <td>Currency</td>\n",
       "      <td>3850.0</td>\n",
       "      <td>Approved</td>\n",
       "      <td>3850.0</td>\n",
       "      <td>Approve in Full</td>\n",
       "      <td>52.0</td>\n",
       "      <td>0.0</td>\n",
       "    </tr>\n",
       "    <tr>\n",
       "      <th>34279</th>\n",
       "      <td>2009052659448</td>\n",
       "      <td>2009-05-19</td>\n",
       "      <td>2009-05-16</td>\n",
       "      <td>DEN</td>\n",
       "      <td>Denver International Airport</td>\n",
       "      <td>Continental Airlines</td>\n",
       "      <td>Passenger Property Loss</td>\n",
       "      <td>Checked Baggage</td>\n",
       "      <td>Jewelry - Costume</td>\n",
       "      <td>10000.0</td>\n",
       "      <td>Denied</td>\n",
       "      <td>0.0</td>\n",
       "      <td>Deny</td>\n",
       "      <td>3.0</td>\n",
       "      <td>10000.0</td>\n",
       "    </tr>\n",
       "    <tr>\n",
       "      <th>7513</th>\n",
       "      <td>0312011M</td>\n",
       "      <td>2004-03-12</td>\n",
       "      <td>2003-12-23</td>\n",
       "      <td>MHT</td>\n",
       "      <td>Manchester Regional Airport</td>\n",
       "      <td>Southwest Airlines</td>\n",
       "      <td>Property Damage</td>\n",
       "      <td>Checked Baggage</td>\n",
       "      <td>Other</td>\n",
       "      <td>7632.0</td>\n",
       "      <td>Denied</td>\n",
       "      <td>0.0</td>\n",
       "      <td>Deny</td>\n",
       "      <td>80.0</td>\n",
       "      <td>7632.0</td>\n",
       "    </tr>\n",
       "    <tr>\n",
       "      <th>9425</th>\n",
       "      <td>2004070658598</td>\n",
       "      <td>2004-06-16</td>\n",
       "      <td>2004-05-19</td>\n",
       "      <td>LAS</td>\n",
       "      <td>McCarran International</td>\n",
       "      <td>Alaska Airlines</td>\n",
       "      <td>Employee Loss (MPCECA)</td>\n",
       "      <td>Checked Baggage</td>\n",
       "      <td>Other</td>\n",
       "      <td>3500.0</td>\n",
       "      <td>Settled</td>\n",
       "      <td>1750.0</td>\n",
       "      <td>Settle</td>\n",
       "      <td>28.0</td>\n",
       "      <td>1750.0</td>\n",
       "    </tr>\n",
       "  </tbody>\n",
       "</table>\n",
       "<p>1000 rows × 15 columns</p>\n",
       "</div>"
      ],
      "text/plain": [
       "        Claim Number Date Received Incident Date Airport Code  \\\n",
       "16826  2005071288719    2005-07-11    2005-05-24          MEM   \n",
       "12866  2005010372379    2004-12-13    2004-11-14          PHL   \n",
       "20215  2006022402153    2006-02-21    2006-01-12          LAX   \n",
       "12887  2005010472510    2004-12-14    2004-10-04          CRP   \n",
       "8860   2004061055451    2004-05-27    2004-03-13          CLT   \n",
       "...              ...           ...           ...          ...   \n",
       "21899  2006062908743    2006-06-27    2006-05-20          GRR   \n",
       "12660  2004123071915    2004-12-01    2004-10-10          LAS   \n",
       "34279  2009052659448    2009-05-19    2009-05-16          DEN   \n",
       "7513        0312011M    2004-03-12    2003-12-23          MHT   \n",
       "9425   2004070658598    2004-06-16    2004-05-19          LAS   \n",
       "\n",
       "                                  Airport Name          Airline Name  \\\n",
       "16826            Memphis International Airport    Northwest Airlines   \n",
       "12866       Philadelphia International Airport                 USAir   \n",
       "20215        Los Angeles International Airport       Delta Air Lines   \n",
       "12887             Corpus Christi International       Delta Air Lines   \n",
       "8860   Charlotte/Douglas International Airport                 USAir   \n",
       "...                                        ...                   ...   \n",
       "21899     Gerald R. Ford International Airport     American Airlines   \n",
       "12660                   McCarran International     American Airlines   \n",
       "34279             Denver International Airport  Continental Airlines   \n",
       "7513               Manchester Regional Airport    Southwest Airlines   \n",
       "9425                    McCarran International       Alaska Airlines   \n",
       "\n",
       "                    Claim Type       Claim Site  \\\n",
       "16826  Passenger Property Loss       Checkpoint   \n",
       "12866  Passenger Property Loss  Checked Baggage   \n",
       "20215          Property Damage       Checkpoint   \n",
       "12887  Passenger Property Loss  Checked Baggage   \n",
       "8860   Passenger Property Loss  Checked Baggage   \n",
       "...                        ...              ...   \n",
       "21899  Passenger Property Loss  Checked Baggage   \n",
       "12660  Passenger Property Loss  Checked Baggage   \n",
       "34279  Passenger Property Loss  Checked Baggage   \n",
       "7513           Property Damage  Checked Baggage   \n",
       "9425    Employee Loss (MPCECA)  Checked Baggage   \n",
       "\n",
       "                                             Item  Claim Amount    Status  \\\n",
       "16826                           Cameras - Digital        4369.0  Approved   \n",
       "12866     Eyeglasses - (including contact lenses)       74000.0    Denied   \n",
       "20215                                       Other        5000.0  Approved   \n",
       "12887  Clothing - Shoes; belts; accessories; etc.        3500.0  Approved   \n",
       "8860    Luggage (all types including footlockers)         750.0  Approved   \n",
       "...                                           ...           ...       ...   \n",
       "21899                           Cameras - Digital       45191.0    Denied   \n",
       "12660                                    Currency        3850.0  Approved   \n",
       "34279                           Jewelry - Costume       10000.0    Denied   \n",
       "7513                                        Other        7632.0    Denied   \n",
       "9425                                        Other        3500.0   Settled   \n",
       "\n",
       "       Close Amount      Disposition  Day Differences  Amount Differences  \n",
       "16826        4369.0  Approve in Full             48.0                 0.0  \n",
       "12866           0.0             Deny             29.0             74000.0  \n",
       "20215        5000.0  Approve in Full             40.0                 0.0  \n",
       "12887        3500.0  Approve in Full             71.0                 0.0  \n",
       "8860          750.0  Approve in Full             75.0                 0.0  \n",
       "...             ...              ...              ...                 ...  \n",
       "21899           0.0             Deny             38.0             45191.0  \n",
       "12660        3850.0  Approve in Full             52.0                 0.0  \n",
       "34279           0.0             Deny              3.0             10000.0  \n",
       "7513            0.0             Deny             80.0              7632.0  \n",
       "9425         1750.0           Settle             28.0              1750.0  \n",
       "\n",
       "[1000 rows x 15 columns]"
      ]
     },
     "execution_count": 597,
     "metadata": {},
     "output_type": "execute_result"
    }
   ],
   "source": [
    "export = not_out_amt.dropna(how = 'any').sample(1000)\n",
    "export"
   ]
  },
  {
   "cell_type": "markdown",
   "metadata": {
    "hidden": true
   },
   "source": [
    "Export the data to your SQL database, and try to connect the database to the dashboard"
   ]
  },
  {
   "cell_type": "code",
   "execution_count": 590,
   "metadata": {
    "ExecuteTime": {
     "end_time": "2020-04-24T09:04:40.649734Z",
     "start_time": "2020-04-24T09:04:38.810862Z"
    },
    "hidden": true
   },
   "outputs": [],
   "source": [
    "import mysql.connector\n",
    "conn = mysql.connector.connect(host = 'localhost',\n",
    "                               user = 'root',\n",
    "                               passwd = 'password'\n",
    "                              )\n",
    "cursor = conn.cursor(dictionary = True)\n",
    "# cursor.execute('SELECT * FROM toko.toko')\n",
    "# result = cursor.fetchall()\n",
    "# df = pd.DataFrame(result)"
   ]
  },
  {
   "cell_type": "code",
   "execution_count": 599,
   "metadata": {
    "ExecuteTime": {
     "end_time": "2020-04-24T09:24:06.121461Z",
     "start_time": "2020-04-24T09:24:06.117463Z"
    },
    "hidden": true
   },
   "outputs": [],
   "source": [
    "cols = \"`,`\".join([str(i) for i in export.columns.tolist()])"
   ]
  },
  {
   "cell_type": "code",
   "execution_count": 606,
   "metadata": {
    "ExecuteTime": {
     "end_time": "2020-04-24T09:44:17.865830Z",
     "start_time": "2020-04-24T09:44:17.826855Z"
    },
    "hidden": true
   },
   "outputs": [
    {
     "ename": "ProgrammingError",
     "evalue": "Failed processing format-parameters; Python 'timestamp' cannot be converted to a MySQL type",
     "output_type": "error",
     "traceback": [
      "\u001b[1;31m---------------------------------------------------------------------------\u001b[0m",
      "\u001b[1;31mAttributeError\u001b[0m                            Traceback (most recent call last)",
      "\u001b[1;32m~\\anaconda3\\lib\\site-packages\\mysql\\connector\\conversion.py\u001b[0m in \u001b[0;36mto_mysql\u001b[1;34m(self, value)\u001b[0m\n\u001b[0;32m    182\u001b[0m         \u001b[1;32mtry\u001b[0m\u001b[1;33m:\u001b[0m\u001b[1;33m\u001b[0m\u001b[1;33m\u001b[0m\u001b[0m\n\u001b[1;32m--> 183\u001b[1;33m             \u001b[1;32mreturn\u001b[0m \u001b[0mgetattr\u001b[0m\u001b[1;33m(\u001b[0m\u001b[0mself\u001b[0m\u001b[1;33m,\u001b[0m \u001b[1;34m\"_{0}_to_mysql\"\u001b[0m\u001b[1;33m.\u001b[0m\u001b[0mformat\u001b[0m\u001b[1;33m(\u001b[0m\u001b[0mtype_name\u001b[0m\u001b[1;33m)\u001b[0m\u001b[1;33m)\u001b[0m\u001b[1;33m(\u001b[0m\u001b[0mvalue\u001b[0m\u001b[1;33m)\u001b[0m\u001b[1;33m\u001b[0m\u001b[1;33m\u001b[0m\u001b[0m\n\u001b[0m\u001b[0;32m    184\u001b[0m         \u001b[1;32mexcept\u001b[0m \u001b[0mAttributeError\u001b[0m\u001b[1;33m:\u001b[0m\u001b[1;33m\u001b[0m\u001b[1;33m\u001b[0m\u001b[0m\n",
      "\u001b[1;31mAttributeError\u001b[0m: 'MySQLConverter' object has no attribute '_timestamp_to_mysql'",
      "\nDuring handling of the above exception, another exception occurred:\n",
      "\u001b[1;31mTypeError\u001b[0m                                 Traceback (most recent call last)",
      "\u001b[1;32m~\\anaconda3\\lib\\site-packages\\mysql\\connector\\cursor.py\u001b[0m in \u001b[0;36m_process_params\u001b[1;34m(self, params)\u001b[0m\n\u001b[0;32m    431\u001b[0m \u001b[1;33m\u001b[0m\u001b[0m\n\u001b[1;32m--> 432\u001b[1;33m             \u001b[0mres\u001b[0m \u001b[1;33m=\u001b[0m \u001b[1;33m[\u001b[0m\u001b[0mto_mysql\u001b[0m\u001b[1;33m(\u001b[0m\u001b[0mi\u001b[0m\u001b[1;33m)\u001b[0m \u001b[1;32mfor\u001b[0m \u001b[0mi\u001b[0m \u001b[1;32min\u001b[0m \u001b[0mres\u001b[0m\u001b[1;33m]\u001b[0m\u001b[1;33m\u001b[0m\u001b[1;33m\u001b[0m\u001b[0m\n\u001b[0m\u001b[0;32m    433\u001b[0m             \u001b[0mres\u001b[0m \u001b[1;33m=\u001b[0m \u001b[1;33m[\u001b[0m\u001b[0mescape\u001b[0m\u001b[1;33m(\u001b[0m\u001b[0mi\u001b[0m\u001b[1;33m)\u001b[0m \u001b[1;32mfor\u001b[0m \u001b[0mi\u001b[0m \u001b[1;32min\u001b[0m \u001b[0mres\u001b[0m\u001b[1;33m]\u001b[0m\u001b[1;33m\u001b[0m\u001b[1;33m\u001b[0m\u001b[0m\n",
      "\u001b[1;32m~\\anaconda3\\lib\\site-packages\\mysql\\connector\\cursor.py\u001b[0m in \u001b[0;36m<listcomp>\u001b[1;34m(.0)\u001b[0m\n\u001b[0;32m    431\u001b[0m \u001b[1;33m\u001b[0m\u001b[0m\n\u001b[1;32m--> 432\u001b[1;33m             \u001b[0mres\u001b[0m \u001b[1;33m=\u001b[0m \u001b[1;33m[\u001b[0m\u001b[0mto_mysql\u001b[0m\u001b[1;33m(\u001b[0m\u001b[0mi\u001b[0m\u001b[1;33m)\u001b[0m \u001b[1;32mfor\u001b[0m \u001b[0mi\u001b[0m \u001b[1;32min\u001b[0m \u001b[0mres\u001b[0m\u001b[1;33m]\u001b[0m\u001b[1;33m\u001b[0m\u001b[1;33m\u001b[0m\u001b[0m\n\u001b[0m\u001b[0;32m    433\u001b[0m             \u001b[0mres\u001b[0m \u001b[1;33m=\u001b[0m \u001b[1;33m[\u001b[0m\u001b[0mescape\u001b[0m\u001b[1;33m(\u001b[0m\u001b[0mi\u001b[0m\u001b[1;33m)\u001b[0m \u001b[1;32mfor\u001b[0m \u001b[0mi\u001b[0m \u001b[1;32min\u001b[0m \u001b[0mres\u001b[0m\u001b[1;33m]\u001b[0m\u001b[1;33m\u001b[0m\u001b[1;33m\u001b[0m\u001b[0m\n",
      "\u001b[1;32m~\\anaconda3\\lib\\site-packages\\mysql\\connector\\conversion.py\u001b[0m in \u001b[0;36mto_mysql\u001b[1;34m(self, value)\u001b[0m\n\u001b[0;32m    185\u001b[0m             raise TypeError(\"Python '{0}' cannot be converted to a \"\n\u001b[1;32m--> 186\u001b[1;33m                             \"MySQL type\".format(type_name))\n\u001b[0m\u001b[0;32m    187\u001b[0m \u001b[1;33m\u001b[0m\u001b[0m\n",
      "\u001b[1;31mTypeError\u001b[0m: Python 'timestamp' cannot be converted to a MySQL type",
      "\nDuring handling of the above exception, another exception occurred:\n",
      "\u001b[1;31mProgrammingError\u001b[0m                          Traceback (most recent call last)",
      "\u001b[1;32m<ipython-input-606-0b4c05047a00>\u001b[0m in \u001b[0;36m<module>\u001b[1;34m\u001b[0m\n\u001b[0;32m      1\u001b[0m \u001b[1;32mfor\u001b[0m \u001b[0mi\u001b[0m\u001b[1;33m,\u001b[0m \u001b[0mrow\u001b[0m \u001b[1;32min\u001b[0m \u001b[0mexport\u001b[0m\u001b[1;33m.\u001b[0m\u001b[0miterrows\u001b[0m\u001b[1;33m(\u001b[0m\u001b[1;33m)\u001b[0m\u001b[1;33m:\u001b[0m\u001b[1;33m\u001b[0m\u001b[1;33m\u001b[0m\u001b[0m\n\u001b[0;32m      2\u001b[0m     \u001b[0msql\u001b[0m \u001b[1;33m=\u001b[0m \u001b[1;34m\"INSERT INTO claim.claim (`\"\u001b[0m \u001b[1;33m+\u001b[0m\u001b[0mcols\u001b[0m \u001b[1;33m+\u001b[0m \u001b[1;34m\"`) VALUES (\"\u001b[0m \u001b[1;33m+\u001b[0m \u001b[1;34m\"%s,\"\u001b[0m\u001b[1;33m*\u001b[0m\u001b[1;33m(\u001b[0m\u001b[0mlen\u001b[0m\u001b[1;33m(\u001b[0m\u001b[0mrow\u001b[0m\u001b[1;33m)\u001b[0m\u001b[1;33m-\u001b[0m\u001b[1;36m1\u001b[0m\u001b[1;33m)\u001b[0m \u001b[1;33m+\u001b[0m \u001b[1;34m\"%s)\"\u001b[0m\u001b[1;33m\u001b[0m\u001b[1;33m\u001b[0m\u001b[0m\n\u001b[1;32m----> 3\u001b[1;33m     \u001b[0mcursor\u001b[0m\u001b[1;33m.\u001b[0m\u001b[0mexecute\u001b[0m\u001b[1;33m(\u001b[0m\u001b[0msql\u001b[0m\u001b[1;33m,\u001b[0m \u001b[0mtuple\u001b[0m\u001b[1;33m(\u001b[0m\u001b[0mrow\u001b[0m\u001b[1;33m)\u001b[0m\u001b[1;33m)\u001b[0m\u001b[1;33m\u001b[0m\u001b[1;33m\u001b[0m\u001b[0m\n\u001b[0m",
      "\u001b[1;32m~\\anaconda3\\lib\\site-packages\\mysql\\connector\\cursor.py\u001b[0m in \u001b[0;36mexecute\u001b[1;34m(self, operation, params, multi)\u001b[0m\n\u001b[0;32m    555\u001b[0m                     stmt, self._process_params_dict(params))\n\u001b[0;32m    556\u001b[0m             \u001b[1;32melif\u001b[0m \u001b[0misinstance\u001b[0m\u001b[1;33m(\u001b[0m\u001b[0mparams\u001b[0m\u001b[1;33m,\u001b[0m \u001b[1;33m(\u001b[0m\u001b[0mlist\u001b[0m\u001b[1;33m,\u001b[0m \u001b[0mtuple\u001b[0m\u001b[1;33m)\u001b[0m\u001b[1;33m)\u001b[0m\u001b[1;33m:\u001b[0m\u001b[1;33m\u001b[0m\u001b[1;33m\u001b[0m\u001b[0m\n\u001b[1;32m--> 557\u001b[1;33m                 \u001b[0mpsub\u001b[0m \u001b[1;33m=\u001b[0m \u001b[0m_ParamSubstitutor\u001b[0m\u001b[1;33m(\u001b[0m\u001b[0mself\u001b[0m\u001b[1;33m.\u001b[0m\u001b[0m_process_params\u001b[0m\u001b[1;33m(\u001b[0m\u001b[0mparams\u001b[0m\u001b[1;33m)\u001b[0m\u001b[1;33m)\u001b[0m\u001b[1;33m\u001b[0m\u001b[1;33m\u001b[0m\u001b[0m\n\u001b[0m\u001b[0;32m    558\u001b[0m                 \u001b[0mstmt\u001b[0m \u001b[1;33m=\u001b[0m \u001b[0mRE_PY_PARAM\u001b[0m\u001b[1;33m.\u001b[0m\u001b[0msub\u001b[0m\u001b[1;33m(\u001b[0m\u001b[0mpsub\u001b[0m\u001b[1;33m,\u001b[0m \u001b[0mstmt\u001b[0m\u001b[1;33m)\u001b[0m\u001b[1;33m\u001b[0m\u001b[1;33m\u001b[0m\u001b[0m\n\u001b[0;32m    559\u001b[0m                 \u001b[1;32mif\u001b[0m \u001b[0mpsub\u001b[0m\u001b[1;33m.\u001b[0m\u001b[0mremaining\u001b[0m \u001b[1;33m!=\u001b[0m \u001b[1;36m0\u001b[0m\u001b[1;33m:\u001b[0m\u001b[1;33m\u001b[0m\u001b[1;33m\u001b[0m\u001b[0m\n",
      "\u001b[1;32m~\\anaconda3\\lib\\site-packages\\mysql\\connector\\cursor.py\u001b[0m in \u001b[0;36m_process_params\u001b[1;34m(self, params)\u001b[0m\n\u001b[0;32m    435\u001b[0m         \u001b[1;32mexcept\u001b[0m \u001b[0mException\u001b[0m \u001b[1;32mas\u001b[0m \u001b[0merr\u001b[0m\u001b[1;33m:\u001b[0m\u001b[1;33m\u001b[0m\u001b[1;33m\u001b[0m\u001b[0m\n\u001b[0;32m    436\u001b[0m             raise errors.ProgrammingError(\n\u001b[1;32m--> 437\u001b[1;33m                 \"Failed processing format-parameters; %s\" % err)\n\u001b[0m\u001b[0;32m    438\u001b[0m         \u001b[1;32melse\u001b[0m\u001b[1;33m:\u001b[0m\u001b[1;33m\u001b[0m\u001b[1;33m\u001b[0m\u001b[0m\n\u001b[0;32m    439\u001b[0m             \u001b[1;32mreturn\u001b[0m \u001b[0mtuple\u001b[0m\u001b[1;33m(\u001b[0m\u001b[0mres\u001b[0m\u001b[1;33m)\u001b[0m\u001b[1;33m\u001b[0m\u001b[1;33m\u001b[0m\u001b[0m\n",
      "\u001b[1;31mProgrammingError\u001b[0m: Failed processing format-parameters; Python 'timestamp' cannot be converted to a MySQL type"
     ]
    }
   ],
   "source": [
    "for i, row in export.iterrows():\n",
    "    sql = \"INSERT INTO claim.claim (`\" +cols + \"`) VALUES (\" + \"%s,\"*(len(row)-1) + \"%s)\"\n",
    "    cursor.execute(sql, tuple(row))"
   ]
  },
  {
   "cell_type": "code",
   "execution_count": null,
   "metadata": {
    "hidden": true
   },
   "outputs": [],
   "source": [
    "cursor.execute('SELECT * FROM toko.toko')\n",
    "result = cursor.fetchall()"
   ]
  }
 ],
 "metadata": {
  "hide_input": false,
  "kernelspec": {
   "display_name": "Python 3",
   "language": "python",
   "name": "python3"
  },
  "language_info": {
   "codemirror_mode": {
    "name": "ipython",
    "version": 3
   },
   "file_extension": ".py",
   "mimetype": "text/x-python",
   "name": "python",
   "nbconvert_exporter": "python",
   "pygments_lexer": "ipython3",
   "version": "3.7.6"
  },
  "varInspector": {
   "cols": {
    "lenName": 16,
    "lenType": 16,
    "lenVar": 40
   },
   "kernels_config": {
    "python": {
     "delete_cmd_postfix": "",
     "delete_cmd_prefix": "del ",
     "library": "var_list.py",
     "varRefreshCmd": "print(var_dic_list())"
    },
    "r": {
     "delete_cmd_postfix": ") ",
     "delete_cmd_prefix": "rm(",
     "library": "var_list.r",
     "varRefreshCmd": "cat(var_dic_list()) "
    }
   },
   "types_to_exclude": [
    "module",
    "function",
    "builtin_function_or_method",
    "instance",
    "_Feature"
   ],
   "window_display": false
  }
 },
 "nbformat": 4,
 "nbformat_minor": 2
}
